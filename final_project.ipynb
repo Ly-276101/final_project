{
 "cells": [
  {
   "cell_type": "markdown",
   "metadata": {},
   "source": [
    "# Выпускной проект"
   ]
  },
  {
   "cell_type": "markdown",
   "metadata": {},
   "source": [
    "<u>__Название проекта: Анализ и снижение оттока клиентов “Метанпромбанка”</u><br><br><u>***Цель проекта:</u>***\n",
    "Провести анализ данных о клиентах “Метанпромбанка”, выявить факторы, влияющие на отток, сегментировать клиентов по уровню оттока, и разработать рекомендации по снижению оттока клиентов.__<br><br>\n",
    "<u>__Задачи проекта:__</u> основной задачей является -  проанализировать данные о клиентах “Метанпромбанка”, чтобы понять причины оттока, выявить взаимосвязи, проверить гипотеезы и сделаеть на основе всего этого выводы, которые помогут разработать рекомендации по снижению количества клиентов, при помощи таргетированных рекомендвций по работе с каждым конкретным сегментом клиентов, выделенных в анализе.<br>__Основные шаги для достижения цели и задачи проекта:__<br><br>\n",
    "- Подготовка данных: Очистка данных от пропусков, кодирование категориальных признаков.\n",
    "- Анализ данных (EDA): Изучение распределения данных, поиск зависимостей между признаками и оттоком клиентов, выявление портретов клиентов, склонных к уходу.\n",
    "- Проверка гипотез: Проверка статистических гипотез о влиянии различных факторов на отток.\n",
    "- Сегментация клиентов: Разделение клиентов на группы по уровню оттока.\n",
    "- Приоритизация сегментов: Определение сегментов с наивысшим оттоком.\n",
    "- Рекомендации: Разработка таргетированных рекомендаций по работе с каждым сегментом с высоким оттоком.\n",
    "<br><br>\n",
    "\n",
    "Далее разобьем каждый шаг на более подробный план действий"
   ]
  },
  {
   "cell_type": "markdown",
   "metadata": {},
   "source": [
    "## шаг. Загрузка и описание данных:\n",
    "### Загрузить данные, вывести на экран \n"
   ]
  },
  {
   "cell_type": "code",
   "execution_count": 1,
   "metadata": {
    "scrolled": true
   },
   "outputs": [
    {
     "name": "stdout",
     "output_type": "stream",
     "text": [
      "Requirement already satisfied: phik in /opt/conda/lib/python3.9/site-packages (0.12.4)\r\n",
      "Requirement already satisfied: matplotlib>=2.2.3 in /opt/conda/lib/python3.9/site-packages (from phik) (3.3.4)\r\n",
      "Requirement already satisfied: scipy>=1.5.2 in /opt/conda/lib/python3.9/site-packages (from phik) (1.9.1)\r\n",
      "Requirement already satisfied: pandas>=0.25.1 in /opt/conda/lib/python3.9/site-packages (from phik) (1.2.4)\r\n",
      "Requirement already satisfied: joblib>=0.14.1 in /opt/conda/lib/python3.9/site-packages (from phik) (1.1.0)\r\n",
      "Requirement already satisfied: numpy>=1.18.0 in /opt/conda/lib/python3.9/site-packages (from phik) (1.21.1)\r\n",
      "Requirement already satisfied: cycler>=0.10 in /opt/conda/lib/python3.9/site-packages (from matplotlib>=2.2.3->phik) (0.11.0)\r\n",
      "Requirement already satisfied: kiwisolver>=1.0.1 in /opt/conda/lib/python3.9/site-packages (from matplotlib>=2.2.3->phik) (1.4.4)\r\n",
      "Requirement already satisfied: python-dateutil>=2.1 in /opt/conda/lib/python3.9/site-packages (from matplotlib>=2.2.3->phik) (2.8.1)\r\n",
      "Requirement already satisfied: pyparsing!=2.0.4,!=2.1.2,!=2.1.6,>=2.0.3 in /opt/conda/lib/python3.9/site-packages (from matplotlib>=2.2.3->phik) (2.4.7)\r\n",
      "Requirement already satisfied: pillow>=6.2.0 in /opt/conda/lib/python3.9/site-packages (from matplotlib>=2.2.3->phik) (8.4.0)\r\n",
      "Requirement already satisfied: pytz>=2017.3 in /opt/conda/lib/python3.9/site-packages (from pandas>=0.25.1->phik) (2021.1)\r\n",
      "Requirement already satisfied: six>=1.5 in /opt/conda/lib/python3.9/site-packages (from python-dateutil>=2.1->matplotlib>=2.2.3->phik) (1.16.0)\r\n"
     ]
    }
   ],
   "source": [
    "!pip install phik\n",
    "import pandas as pd\n",
    "import seaborn as sns\n",
    "import matplotlib.pyplot as plt\n",
    "import numpy as np\n",
    "from phik import phik_matrix\n",
    "from sklearn.linear_model import LinearRegression\n",
    "from scipy import stats as st\n",
    "import plotly.express as px\n",
    "plt.rcParams[\"figure.figsize\"] = (5,6)"
   ]
  },
  {
   "cell_type": "code",
   "execution_count": 2,
   "metadata": {
    "scrolled": true
   },
   "outputs": [
    {
     "data": {
      "text/plain": [
       "'Первые 5 строк данных:'"
      ]
     },
     "metadata": {},
     "output_type": "display_data"
    },
    {
     "data": {
      "text/html": [
       "<div>\n",
       "<style scoped>\n",
       "    .dataframe tbody tr th:only-of-type {\n",
       "        vertical-align: middle;\n",
       "    }\n",
       "\n",
       "    .dataframe tbody tr th {\n",
       "        vertical-align: top;\n",
       "    }\n",
       "\n",
       "    .dataframe thead th {\n",
       "        text-align: right;\n",
       "    }\n",
       "</style>\n",
       "<table border=\"1\" class=\"dataframe\">\n",
       "  <thead>\n",
       "    <tr style=\"text-align: right;\">\n",
       "      <th></th>\n",
       "      <th>USERID</th>\n",
       "      <th>score</th>\n",
       "      <th>city</th>\n",
       "      <th>gender</th>\n",
       "      <th>age</th>\n",
       "      <th>equity</th>\n",
       "      <th>balance</th>\n",
       "      <th>products</th>\n",
       "      <th>credit_card</th>\n",
       "      <th>last_activity</th>\n",
       "      <th>EST_SALARY</th>\n",
       "      <th>churn</th>\n",
       "    </tr>\n",
       "  </thead>\n",
       "  <tbody>\n",
       "    <tr>\n",
       "      <th>0</th>\n",
       "      <td>183012</td>\n",
       "      <td>850.0</td>\n",
       "      <td>Рыбинск</td>\n",
       "      <td>Ж</td>\n",
       "      <td>25.0</td>\n",
       "      <td>1</td>\n",
       "      <td>59214.82</td>\n",
       "      <td>2</td>\n",
       "      <td>0</td>\n",
       "      <td>1</td>\n",
       "      <td>75719.14</td>\n",
       "      <td>1</td>\n",
       "    </tr>\n",
       "    <tr>\n",
       "      <th>1</th>\n",
       "      <td>146556</td>\n",
       "      <td>861.0</td>\n",
       "      <td>Рыбинск</td>\n",
       "      <td>Ж</td>\n",
       "      <td>37.0</td>\n",
       "      <td>5</td>\n",
       "      <td>850594.33</td>\n",
       "      <td>3</td>\n",
       "      <td>1</td>\n",
       "      <td>0</td>\n",
       "      <td>86621.77</td>\n",
       "      <td>0</td>\n",
       "    </tr>\n",
       "    <tr>\n",
       "      <th>2</th>\n",
       "      <td>120722</td>\n",
       "      <td>892.0</td>\n",
       "      <td>Рыбинск</td>\n",
       "      <td>Ж</td>\n",
       "      <td>30.0</td>\n",
       "      <td>0</td>\n",
       "      <td>NaN</td>\n",
       "      <td>1</td>\n",
       "      <td>1</td>\n",
       "      <td>1</td>\n",
       "      <td>107683.34</td>\n",
       "      <td>0</td>\n",
       "    </tr>\n",
       "    <tr>\n",
       "      <th>3</th>\n",
       "      <td>225363</td>\n",
       "      <td>866.0</td>\n",
       "      <td>Ярославль</td>\n",
       "      <td>Ж</td>\n",
       "      <td>51.0</td>\n",
       "      <td>5</td>\n",
       "      <td>1524746.26</td>\n",
       "      <td>2</td>\n",
       "      <td>0</td>\n",
       "      <td>1</td>\n",
       "      <td>174423.53</td>\n",
       "      <td>1</td>\n",
       "    </tr>\n",
       "    <tr>\n",
       "      <th>4</th>\n",
       "      <td>157978</td>\n",
       "      <td>730.0</td>\n",
       "      <td>Ярославль</td>\n",
       "      <td>М</td>\n",
       "      <td>34.0</td>\n",
       "      <td>5</td>\n",
       "      <td>174.00</td>\n",
       "      <td>1</td>\n",
       "      <td>1</td>\n",
       "      <td>0</td>\n",
       "      <td>67353.16</td>\n",
       "      <td>1</td>\n",
       "    </tr>\n",
       "  </tbody>\n",
       "</table>\n",
       "</div>"
      ],
      "text/plain": [
       "   USERID  score       city gender   age  equity     balance  products  \\\n",
       "0  183012  850.0    Рыбинск      Ж  25.0       1    59214.82         2   \n",
       "1  146556  861.0    Рыбинск      Ж  37.0       5   850594.33         3   \n",
       "2  120722  892.0    Рыбинск      Ж  30.0       0         NaN         1   \n",
       "3  225363  866.0  Ярославль      Ж  51.0       5  1524746.26         2   \n",
       "4  157978  730.0  Ярославль      М  34.0       5      174.00         1   \n",
       "\n",
       "   credit_card  last_activity  EST_SALARY  churn  \n",
       "0            0              1    75719.14      1  \n",
       "1            1              0    86621.77      0  \n",
       "2            1              1   107683.34      0  \n",
       "3            0              1   174423.53      1  \n",
       "4            1              0    67353.16      1  "
      ]
     },
     "metadata": {},
     "output_type": "display_data"
    },
    {
     "data": {
      "text/plain": [
       "'Структура данных:'"
      ]
     },
     "metadata": {},
     "output_type": "display_data"
    },
    {
     "name": "stdout",
     "output_type": "stream",
     "text": [
      "<class 'pandas.core.frame.DataFrame'>\n",
      "RangeIndex: 10000 entries, 0 to 9999\n",
      "Data columns (total 12 columns):\n",
      " #   Column         Non-Null Count  Dtype  \n",
      "---  ------         --------------  -----  \n",
      " 0   USERID         10000 non-null  int64  \n",
      " 1   score          10000 non-null  float64\n",
      " 2   city           10000 non-null  object \n",
      " 3   gender         10000 non-null  object \n",
      " 4   age            9974 non-null   float64\n",
      " 5   equity         10000 non-null  int64  \n",
      " 6   balance        7705 non-null   float64\n",
      " 7   products       10000 non-null  int64  \n",
      " 8   credit_card    10000 non-null  int64  \n",
      " 9   last_activity  10000 non-null  int64  \n",
      " 10  EST_SALARY     10000 non-null  float64\n",
      " 11  churn          10000 non-null  int64  \n",
      "dtypes: float64(4), int64(6), object(2)\n",
      "memory usage: 937.6+ KB\n"
     ]
    },
    {
     "data": {
      "text/plain": [
       "None"
      ]
     },
     "metadata": {},
     "output_type": "display_data"
    },
    {
     "data": {
      "text/plain": [
       "'Количество строк: 10000'"
      ]
     },
     "metadata": {},
     "output_type": "display_data"
    },
    {
     "data": {
      "text/plain": [
       "'Количество столбцов: 12'"
      ]
     },
     "metadata": {},
     "output_type": "display_data"
    },
    {
     "data": {
      "text/plain": [
       "'Типы данных:'"
      ]
     },
     "metadata": {},
     "output_type": "display_data"
    },
    {
     "data": {
      "text/plain": [
       "USERID             int64\n",
       "score            float64\n",
       "city              object\n",
       "gender            object\n",
       "age              float64\n",
       "equity             int64\n",
       "balance          float64\n",
       "products           int64\n",
       "credit_card        int64\n",
       "last_activity      int64\n",
       "EST_SALARY       float64\n",
       "churn              int64\n",
       "dtype: object"
      ]
     },
     "metadata": {},
     "output_type": "display_data"
    }
   ],
   "source": [
    "df = pd.read_csv('https://code.s3.yandex.net/datasets/bank_scrooge.csv')\n",
    "display(\"Первые 5 строк данных:\")\n",
    "display(df.head())\n",
    "display(\"Структура данных:\")\n",
    "display(df.info())\n",
    "\n",
    "num_rows, num_columns = df.shape\n",
    "display(f\"Количество строк: {num_rows}\")\n",
    "display(f\"Количество столбцов: {num_columns}\")\n",
    "\n",
    "display(\"Типы данных:\")\n",
    "display(df.dtypes)"
   ]
  },
  {
   "cell_type": "markdown",
   "metadata": {},
   "source": [
    "Загрузили данные, вывели на экран основные их характеристики, как, например- структуру данных и количество строк и столбцов."
   ]
  },
  {
   "cell_type": "markdown",
   "metadata": {},
   "source": [
    "### Описать структуру данных, типы данных, количество строк и столбцов."
   ]
  },
  {
   "cell_type": "markdown",
   "metadata": {},
   "source": [
    "Рассмотрим подробнее каждое поле датасета:\n",
    "- **USERID:** Это уникальный идентификатор пользователя. Тип данных - целые числа (int64).\n",
    "\n",
    "- **score:** Показатель кредитного скоринга пользователя. Это числовое значение с плавающей запятой (float64).\n",
    "\n",
    "- **city:** Город, в котором зарегистрирован пользователь. Это строковый тип данных (object).\n",
    "\n",
    "- **gender:** Пол пользователя. Также строковый тип данных (object).\n",
    "\n",
    "- **age:** Возраст пользователя. Это числовое значение с плавающей запятой (float64).\n",
    "\n",
    "- **equity:**  Количество баллов собственности. Тип данных - целые числа (int64).\n",
    "\n",
    "- **balance:** Баланс на счете пользователя. Числовое значение с плавающей запятой (float64).\n",
    "\n",
    "- **products:** Количество продуктов или услуг, используемых пользователем. Это целочисленный тип данных (int64).\n",
    "\n",
    "- **credit_card:** Флаг указывающий, есть ли у пользователя кредитная карта или нет. Целочисленный тип данных (int64), где 1 - есть кредитная карта, 0 - нет.\n",
    "\n",
    "- **last_activity:** Индикатор последней активности пользователя. Целочисленный тип данных (int64).\n",
    "\n",
    "- **EST_SALARY:** Оценочный доход пользователя. Это числовое значение с плавающей запятой (float64).\n",
    "\n",
    "- **churn:** Флаг оттока. Показывает, ушел ли пользователь (1) или остался (0). Целочисленный тип данных (int64), где 1 - пользователь ушел, 0 - пользователь остался.\n",
    "\n",
    "Структура данных:\n",
    "\n",
    "- Количество строк: 10000\n",
    "- Количество столбцов: 12"
   ]
  },
  {
   "cell_type": "markdown",
   "metadata": {},
   "source": [
    "\n",
    "### Провести первичный анализ данных, выявив основные характеристики (среднее, медиана, стандартное отклонение, минимум, максимум) для числовых признаков.\n"
   ]
  },
  {
   "cell_type": "code",
   "execution_count": 3,
   "metadata": {
    "scrolled": false
   },
   "outputs": [
    {
     "data": {
      "text/html": [
       "<div>\n",
       "<style scoped>\n",
       "    .dataframe tbody tr th:only-of-type {\n",
       "        vertical-align: middle;\n",
       "    }\n",
       "\n",
       "    .dataframe tbody tr th {\n",
       "        vertical-align: top;\n",
       "    }\n",
       "\n",
       "    .dataframe thead th {\n",
       "        text-align: right;\n",
       "    }\n",
       "</style>\n",
       "<table border=\"1\" class=\"dataframe\">\n",
       "  <thead>\n",
       "    <tr style=\"text-align: right;\">\n",
       "      <th></th>\n",
       "      <th>count</th>\n",
       "      <th>mean</th>\n",
       "      <th>std</th>\n",
       "      <th>min</th>\n",
       "      <th>25%</th>\n",
       "      <th>50%</th>\n",
       "      <th>75%</th>\n",
       "      <th>max</th>\n",
       "    </tr>\n",
       "  </thead>\n",
       "  <tbody>\n",
       "    <tr>\n",
       "      <th>USERID</th>\n",
       "      <td>10000.0</td>\n",
       "      <td>171814.712600</td>\n",
       "      <td>3.370824e+04</td>\n",
       "      <td>94561.0</td>\n",
       "      <td>142810.25</td>\n",
       "      <td>172728.000</td>\n",
       "      <td>201261.7500</td>\n",
       "      <td>2.291450e+05</td>\n",
       "    </tr>\n",
       "    <tr>\n",
       "      <th>score</th>\n",
       "      <td>10000.0</td>\n",
       "      <td>848.699400</td>\n",
       "      <td>6.544852e+01</td>\n",
       "      <td>642.0</td>\n",
       "      <td>802.00</td>\n",
       "      <td>853.000</td>\n",
       "      <td>900.0000</td>\n",
       "      <td>1.000000e+03</td>\n",
       "    </tr>\n",
       "    <tr>\n",
       "      <th>age</th>\n",
       "      <td>9974.0</td>\n",
       "      <td>42.734409</td>\n",
       "      <td>1.217997e+01</td>\n",
       "      <td>18.0</td>\n",
       "      <td>33.00</td>\n",
       "      <td>40.000</td>\n",
       "      <td>51.0000</td>\n",
       "      <td>8.600000e+01</td>\n",
       "    </tr>\n",
       "    <tr>\n",
       "      <th>equity</th>\n",
       "      <td>10000.0</td>\n",
       "      <td>2.627600</td>\n",
       "      <td>1.980836e+00</td>\n",
       "      <td>0.0</td>\n",
       "      <td>0.00</td>\n",
       "      <td>3.000</td>\n",
       "      <td>4.0000</td>\n",
       "      <td>9.000000e+00</td>\n",
       "    </tr>\n",
       "    <tr>\n",
       "      <th>balance</th>\n",
       "      <td>7705.0</td>\n",
       "      <td>827794.306510</td>\n",
       "      <td>1.980614e+06</td>\n",
       "      <td>0.0</td>\n",
       "      <td>295554.16</td>\n",
       "      <td>524272.200</td>\n",
       "      <td>980705.8500</td>\n",
       "      <td>1.191136e+08</td>\n",
       "    </tr>\n",
       "    <tr>\n",
       "      <th>products</th>\n",
       "      <td>10000.0</td>\n",
       "      <td>1.870100</td>\n",
       "      <td>7.926467e-01</td>\n",
       "      <td>0.0</td>\n",
       "      <td>1.00</td>\n",
       "      <td>2.000</td>\n",
       "      <td>2.0000</td>\n",
       "      <td>5.000000e+00</td>\n",
       "    </tr>\n",
       "    <tr>\n",
       "      <th>credit_card</th>\n",
       "      <td>10000.0</td>\n",
       "      <td>0.680400</td>\n",
       "      <td>4.663449e-01</td>\n",
       "      <td>0.0</td>\n",
       "      <td>0.00</td>\n",
       "      <td>1.000</td>\n",
       "      <td>1.0000</td>\n",
       "      <td>1.000000e+00</td>\n",
       "    </tr>\n",
       "    <tr>\n",
       "      <th>last_activity</th>\n",
       "      <td>10000.0</td>\n",
       "      <td>0.523500</td>\n",
       "      <td>4.994724e-01</td>\n",
       "      <td>0.0</td>\n",
       "      <td>0.00</td>\n",
       "      <td>1.000</td>\n",
       "      <td>1.0000</td>\n",
       "      <td>1.000000e+00</td>\n",
       "    </tr>\n",
       "    <tr>\n",
       "      <th>EST_SALARY</th>\n",
       "      <td>10000.0</td>\n",
       "      <td>147866.885544</td>\n",
       "      <td>1.393885e+05</td>\n",
       "      <td>2546.3</td>\n",
       "      <td>75251.90</td>\n",
       "      <td>119658.105</td>\n",
       "      <td>174500.5425</td>\n",
       "      <td>1.395064e+06</td>\n",
       "    </tr>\n",
       "    <tr>\n",
       "      <th>churn</th>\n",
       "      <td>10000.0</td>\n",
       "      <td>0.182000</td>\n",
       "      <td>3.858638e-01</td>\n",
       "      <td>0.0</td>\n",
       "      <td>0.00</td>\n",
       "      <td>0.000</td>\n",
       "      <td>0.0000</td>\n",
       "      <td>1.000000e+00</td>\n",
       "    </tr>\n",
       "  </tbody>\n",
       "</table>\n",
       "</div>"
      ],
      "text/plain": [
       "                 count           mean           std      min        25%  \\\n",
       "USERID         10000.0  171814.712600  3.370824e+04  94561.0  142810.25   \n",
       "score          10000.0     848.699400  6.544852e+01    642.0     802.00   \n",
       "age             9974.0      42.734409  1.217997e+01     18.0      33.00   \n",
       "equity         10000.0       2.627600  1.980836e+00      0.0       0.00   \n",
       "balance         7705.0  827794.306510  1.980614e+06      0.0  295554.16   \n",
       "products       10000.0       1.870100  7.926467e-01      0.0       1.00   \n",
       "credit_card    10000.0       0.680400  4.663449e-01      0.0       0.00   \n",
       "last_activity  10000.0       0.523500  4.994724e-01      0.0       0.00   \n",
       "EST_SALARY     10000.0  147866.885544  1.393885e+05   2546.3   75251.90   \n",
       "churn          10000.0       0.182000  3.858638e-01      0.0       0.00   \n",
       "\n",
       "                      50%          75%           max  \n",
       "USERID         172728.000  201261.7500  2.291450e+05  \n",
       "score             853.000     900.0000  1.000000e+03  \n",
       "age                40.000      51.0000  8.600000e+01  \n",
       "equity              3.000       4.0000  9.000000e+00  \n",
       "balance        524272.200  980705.8500  1.191136e+08  \n",
       "products            2.000       2.0000  5.000000e+00  \n",
       "credit_card         1.000       1.0000  1.000000e+00  \n",
       "last_activity       1.000       1.0000  1.000000e+00  \n",
       "EST_SALARY     119658.105  174500.5425  1.395064e+06  \n",
       "churn               0.000       0.0000  1.000000e+00  "
      ]
     },
     "metadata": {},
     "output_type": "display_data"
    }
   ],
   "source": [
    "numeric_features = df.select_dtypes(include=['float64', 'int64'])\n",
    "summary_stats = numeric_features.describe().transpose()\n",
    "\n",
    "display(summary_stats)"
   ]
  },
  {
   "cell_type": "markdown",
   "metadata": {},
   "source": [
    "Метод .describe() покажет основные статистические показатели датасета\n",
    "- count: Количество непустых (не-NaN) значений в столбце.\n",
    "- mean: Среднее арифметическое значений в столбце.\n",
    "- std: Стандартное отклонение значений в столбце, описывающее разброс данных относительно их среднего значения.\n",
    "- min: Минимальное значение в столбце.\n",
    "- 25%, 50%, 75%: Квантили данных (25-й, 50-й - медиана, 75-й), представляющие значения, которые делят упорядоченный набор данных на четыре равные части. 25% - это значение, ниже которого попадает 25% данных, 50% - значение, ниже которого попадает 50% данных (медиана), и так далее.\n",
    "- max: Максимальное значение в столбце."
   ]
  },
  {
   "cell_type": "markdown",
   "metadata": {},
   "source": [
    "По первичному анализу уже можно понять общие тренды в данных. Например, средний возраст клиентов составляет около 40-43 лет, средний баланс на счетах составляет около 827794.31, что сильно разнится с медианой в 524272.2(значит можно предположить выбросовые значения), в среднем у клиентов банка 2 продукта, около 18% клиентов покинули банк (churn)"
   ]
  },
  {
   "cell_type": "markdown",
   "metadata": {},
   "source": [
    "### Визуализировать данные с помощью гистограмм, box-plot для числовых признаков и диаграмм частот для категориальных признаков."
   ]
  },
  {
   "cell_type": "markdown",
   "metadata": {},
   "source": [
    "Числовые признаки:\n",
    "- score\n",
    "- age\n",
    "- equity\n",
    "- balance\n",
    "- products\n",
    "- EST_SALARY<br>\n",
    "\n",
    "Категориальные признаки:<br>\n",
    "- city\n",
    "- gender<br>\n",
    "\n",
    "Бинарные:<br>\n",
    "- credit_card\n",
    "- churn\n",
    "- last_activity"
   ]
  },
  {
   "cell_type": "code",
   "execution_count": 4,
   "metadata": {},
   "outputs": [
    {
     "data": {
      "image/png": "[encoded data removed]",
      "text/plain": [
       "<Figure size 1080x720 with 7 Axes>"
      ]
     },
     "metadata": {
      "needs_background": "light"
     },
     "output_type": "display_data"
    }
   ],
   "source": [
    "numerical_features = ['score', 'age', 'equity', 'balance', 'EST_SALARY']\n",
    "categorical_features = ['products', 'last_activity']\n",
    "\n",
    "plt.figure(figsize=(15, 10))\n",
    "\n",
    "for i, feature in enumerate(numerical_features, 1):\n",
    "    plt.subplot(3, 3, i)\n",
    "    sns.histplot(data=df, x=feature, kde=True, palette='pastel')\n",
    "    plt.title(f'Histogram of {feature}')\n",
    "\n",
    "for i, feature in enumerate(categorical_features, 1):\n",
    "    plt.subplot(3, 3, i+len(numerical_features))\n",
    "    sns.countplot(data=df, x=feature, palette='pastel')\n",
    "    plt.title(f'Countplot of {feature}')\n",
    "\n",
    "plt.tight_layout()\n",
    "plt.show()"
   ]
  },
  {
   "cell_type": "code",
   "execution_count": 5,
   "metadata": {},
   "outputs": [],
   "source": [
    "df[df['products']==0].count()\n",
    "df = df[df['products']!=0]"
   ]
  },
  {
   "cell_type": "code",
   "execution_count": 6,
   "metadata": {
    "scrolled": true
   },
   "outputs": [
    {
     "data": {
      "image/png": "[encoded data removed]",
      "text/plain": [
       "<Figure size 1080x720 with 5 Axes>"
      ]
     },
     "metadata": {
      "needs_background": "light"
     },
     "output_type": "display_data"
    }
   ],
   "source": [
    "plt.figure(figsize=(15, 10))\n",
    "for i, feature in enumerate(numerical_features, 1):\n",
    "    plt.subplot(3, 3, i)\n",
    "    sns.boxplot(data=df, y=feature, palette='pastel')\n",
    "    plt.title(f'Box-plot of {feature}')\n",
    "plt.tight_layout()\n",
    "plt.show()"
   ]
  },
  {
   "cell_type": "markdown",
   "metadata": {},
   "source": [
    "Благодаря визулизациям, мы можем рассмотреть разброс значений в каждом столбце. Так в столбце balance сразу видно экстремальные значения"
   ]
  },
  {
   "cell_type": "code",
   "execution_count": 7,
   "metadata": {},
   "outputs": [
    {
     "data": {
      "image/png": "[encoded data removed]",
      "text/plain": [
       "<Figure size 720x504 with 4 Axes>"
      ]
     },
     "metadata": {
      "needs_background": "light"
     },
     "output_type": "display_data"
    }
   ],
   "source": [
    "categorical_features = ['city', 'gender', 'credit_card', 'churn']\n",
    "total_counts = df[categorical_features].count()\n",
    "percentage_distribution = (total_counts / total_counts.sum()) * 100\n",
    "\n",
    "plt.figure(figsize=(10, 7))\n",
    "for i, feature in enumerate(categorical_features, 1):\n",
    "    plt.subplot(2, 2, i)\n",
    "    ax = sns.countplot(data=df, x=feature, palette='pastel')\n",
    "    plt.title(f'Frequency diagram of {feature}')\n",
    "    for p in ax.patches:\n",
    "        height = p.get_height()\n",
    "        ax.text(p.get_x() + p.get_width() / 2.,\n",
    "                height + 0.5,\n",
    "                '{:.2f}%'.format((height / total_counts[feature]) * 100),\n",
    "                ha=\"center\")\n",
    "plt.tight_layout()\n",
    "plt.show()"
   ]
  },
  {
   "cell_type": "markdown",
   "metadata": {},
   "source": [
    "## шаг. Подготовка данных:\n",
    "### Проверка на дубликаты в данных:\n",
    "#### Проверка данных на наличие явных дубликатов."
   ]
  },
  {
   "cell_type": "code",
   "execution_count": 8,
   "metadata": {},
   "outputs": [
    {
     "name": "stdout",
     "output_type": "stream",
     "text": [
      "Есть ли дубликаты в данных: False\n",
      "Общее количество дубликатов: 0\n"
     ]
    }
   ],
   "source": [
    "duplicates_obvious = df.duplicated()\n",
    "# есть ли хотя бы один дубликат\n",
    "any_duplicates = duplicates_obvious.any()\n",
    "num_duplicates = duplicates_obvious.sum()\n",
    "\n",
    "print(\"Есть ли дубликаты в данных:\", any_duplicates)\n",
    "print(\"Общее количество дубликатов:\", num_duplicates)"
   ]
  },
  {
   "cell_type": "markdown",
   "metadata": {},
   "source": [
    "По итогам проверки в данных не обнаружились явные дубликаты"
   ]
  },
  {
   "cell_type": "markdown",
   "metadata": {},
   "source": [
    "##### Проверить наличие неявных дубликатов по USERID."
   ]
  },
  {
   "cell_type": "code",
   "execution_count": 9,
   "metadata": {
    "scrolled": true
   },
   "outputs": [
    {
     "name": "stdout",
     "output_type": "stream",
     "text": [
      "Строки, являющиеся дубликатами USERID:\n"
     ]
    },
    {
     "data": {
      "text/html": [
       "<div>\n",
       "<style scoped>\n",
       "    .dataframe tbody tr th:only-of-type {\n",
       "        vertical-align: middle;\n",
       "    }\n",
       "\n",
       "    .dataframe tbody tr th {\n",
       "        vertical-align: top;\n",
       "    }\n",
       "\n",
       "    .dataframe thead th {\n",
       "        text-align: right;\n",
       "    }\n",
       "</style>\n",
       "<table border=\"1\" class=\"dataframe\">\n",
       "  <thead>\n",
       "    <tr style=\"text-align: right;\">\n",
       "      <th></th>\n",
       "      <th>USERID</th>\n",
       "      <th>score</th>\n",
       "      <th>city</th>\n",
       "      <th>gender</th>\n",
       "      <th>age</th>\n",
       "      <th>equity</th>\n",
       "      <th>balance</th>\n",
       "      <th>products</th>\n",
       "      <th>credit_card</th>\n",
       "      <th>last_activity</th>\n",
       "      <th>EST_SALARY</th>\n",
       "      <th>churn</th>\n",
       "    </tr>\n",
       "  </thead>\n",
       "  <tbody>\n",
       "    <tr>\n",
       "      <th>7</th>\n",
       "      <td>218868</td>\n",
       "      <td>825.0</td>\n",
       "      <td>Ярославль</td>\n",
       "      <td>Ж</td>\n",
       "      <td>38.0</td>\n",
       "      <td>4</td>\n",
       "      <td>458145.40</td>\n",
       "      <td>2</td>\n",
       "      <td>1</td>\n",
       "      <td>1</td>\n",
       "      <td>68085.48</td>\n",
       "      <td>0</td>\n",
       "    </tr>\n",
       "    <tr>\n",
       "      <th>58</th>\n",
       "      <td>164676</td>\n",
       "      <td>860.0</td>\n",
       "      <td>Ярославль</td>\n",
       "      <td>М</td>\n",
       "      <td>37.0</td>\n",
       "      <td>5</td>\n",
       "      <td>648594.03</td>\n",
       "      <td>2</td>\n",
       "      <td>1</td>\n",
       "      <td>1</td>\n",
       "      <td>213586.86</td>\n",
       "      <td>1</td>\n",
       "    </tr>\n",
       "    <tr>\n",
       "      <th>150</th>\n",
       "      <td>185748</td>\n",
       "      <td>850.0</td>\n",
       "      <td>Рыбинск</td>\n",
       "      <td>М</td>\n",
       "      <td>36.0</td>\n",
       "      <td>5</td>\n",
       "      <td>1203376.67</td>\n",
       "      <td>2</td>\n",
       "      <td>0</td>\n",
       "      <td>1</td>\n",
       "      <td>89401.82</td>\n",
       "      <td>1</td>\n",
       "    </tr>\n",
       "    <tr>\n",
       "      <th>161</th>\n",
       "      <td>197364</td>\n",
       "      <td>928.0</td>\n",
       "      <td>Рыбинск</td>\n",
       "      <td>Ж</td>\n",
       "      <td>53.0</td>\n",
       "      <td>6</td>\n",
       "      <td>1347183.86</td>\n",
       "      <td>2</td>\n",
       "      <td>0</td>\n",
       "      <td>1</td>\n",
       "      <td>168189.49</td>\n",
       "      <td>1</td>\n",
       "    </tr>\n",
       "    <tr>\n",
       "      <th>231</th>\n",
       "      <td>190253</td>\n",
       "      <td>823.0</td>\n",
       "      <td>Рыбинск</td>\n",
       "      <td>М</td>\n",
       "      <td>37.0</td>\n",
       "      <td>4</td>\n",
       "      <td>373348.39</td>\n",
       "      <td>2</td>\n",
       "      <td>0</td>\n",
       "      <td>1</td>\n",
       "      <td>131947.92</td>\n",
       "      <td>1</td>\n",
       "    </tr>\n",
       "    <tr>\n",
       "      <th>...</th>\n",
       "      <td>...</td>\n",
       "      <td>...</td>\n",
       "      <td>...</td>\n",
       "      <td>...</td>\n",
       "      <td>...</td>\n",
       "      <td>...</td>\n",
       "      <td>...</td>\n",
       "      <td>...</td>\n",
       "      <td>...</td>\n",
       "      <td>...</td>\n",
       "      <td>...</td>\n",
       "      <td>...</td>\n",
       "    </tr>\n",
       "    <tr>\n",
       "      <th>9775</th>\n",
       "      <td>124450</td>\n",
       "      <td>758.0</td>\n",
       "      <td>Рыбинск</td>\n",
       "      <td>Ж</td>\n",
       "      <td>36.0</td>\n",
       "      <td>0</td>\n",
       "      <td>73574.07</td>\n",
       "      <td>2</td>\n",
       "      <td>0</td>\n",
       "      <td>1</td>\n",
       "      <td>79963.59</td>\n",
       "      <td>0</td>\n",
       "    </tr>\n",
       "    <tr>\n",
       "      <th>9785</th>\n",
       "      <td>168998</td>\n",
       "      <td>895.0</td>\n",
       "      <td>Рыбинск</td>\n",
       "      <td>М</td>\n",
       "      <td>44.0</td>\n",
       "      <td>0</td>\n",
       "      <td>282653.53</td>\n",
       "      <td>3</td>\n",
       "      <td>0</td>\n",
       "      <td>0</td>\n",
       "      <td>255296.47</td>\n",
       "      <td>0</td>\n",
       "    </tr>\n",
       "    <tr>\n",
       "      <th>9819</th>\n",
       "      <td>140934</td>\n",
       "      <td>832.0</td>\n",
       "      <td>Рыбинск</td>\n",
       "      <td>Ж</td>\n",
       "      <td>NaN</td>\n",
       "      <td>3</td>\n",
       "      <td>385763.16</td>\n",
       "      <td>2</td>\n",
       "      <td>0</td>\n",
       "      <td>1</td>\n",
       "      <td>59651.35</td>\n",
       "      <td>0</td>\n",
       "    </tr>\n",
       "    <tr>\n",
       "      <th>9880</th>\n",
       "      <td>217412</td>\n",
       "      <td>886.0</td>\n",
       "      <td>Ярославль</td>\n",
       "      <td>Ж</td>\n",
       "      <td>35.0</td>\n",
       "      <td>3</td>\n",
       "      <td>1026172.14</td>\n",
       "      <td>2</td>\n",
       "      <td>1</td>\n",
       "      <td>0</td>\n",
       "      <td>53099.16</td>\n",
       "      <td>0</td>\n",
       "    </tr>\n",
       "    <tr>\n",
       "      <th>9970</th>\n",
       "      <td>175730</td>\n",
       "      <td>816.0</td>\n",
       "      <td>Рыбинск</td>\n",
       "      <td>М</td>\n",
       "      <td>36.0</td>\n",
       "      <td>4</td>\n",
       "      <td>477892.07</td>\n",
       "      <td>3</td>\n",
       "      <td>1</td>\n",
       "      <td>0</td>\n",
       "      <td>81100.60</td>\n",
       "      <td>0</td>\n",
       "    </tr>\n",
       "  </tbody>\n",
       "</table>\n",
       "<p>146 rows × 12 columns</p>\n",
       "</div>"
      ],
      "text/plain": [
       "      USERID  score       city gender   age  equity     balance  products  \\\n",
       "7     218868  825.0  Ярославль      Ж  38.0       4   458145.40         2   \n",
       "58    164676  860.0  Ярославль      М  37.0       5   648594.03         2   \n",
       "150   185748  850.0    Рыбинск      М  36.0       5  1203376.67         2   \n",
       "161   197364  928.0    Рыбинск      Ж  53.0       6  1347183.86         2   \n",
       "231   190253  823.0    Рыбинск      М  37.0       4   373348.39         2   \n",
       "...      ...    ...        ...    ...   ...     ...         ...       ...   \n",
       "9775  124450  758.0    Рыбинск      Ж  36.0       0    73574.07         2   \n",
       "9785  168998  895.0    Рыбинск      М  44.0       0   282653.53         3   \n",
       "9819  140934  832.0    Рыбинск      Ж   NaN       3   385763.16         2   \n",
       "9880  217412  886.0  Ярославль      Ж  35.0       3  1026172.14         2   \n",
       "9970  175730  816.0    Рыбинск      М  36.0       4   477892.07         3   \n",
       "\n",
       "      credit_card  last_activity  EST_SALARY  churn  \n",
       "7               1              1    68085.48      0  \n",
       "58              1              1   213586.86      1  \n",
       "150             0              1    89401.82      1  \n",
       "161             0              1   168189.49      1  \n",
       "231             0              1   131947.92      1  \n",
       "...           ...            ...         ...    ...  \n",
       "9775            0              1    79963.59      0  \n",
       "9785            0              0   255296.47      0  \n",
       "9819            0              1    59651.35      0  \n",
       "9880            1              0    53099.16      0  \n",
       "9970            1              0    81100.60      0  \n",
       "\n",
       "[146 rows x 12 columns]"
      ]
     },
     "metadata": {},
     "output_type": "display_data"
    }
   ],
   "source": [
    "duplicates = df.duplicated(subset=['USERID'], keep=False)\n",
    "duplicate_rows = df[duplicates]\n",
    "print(\"Строки, являющиеся дубликатами USERID:\")\n",
    "display(duplicate_rows)"
   ]
  },
  {
   "cell_type": "code",
   "execution_count": 10,
   "metadata": {
    "scrolled": true
   },
   "outputs": [
    {
     "name": "stdout",
     "output_type": "stream",
     "text": [
      "Процент дубликатов от общего датасета: 1.46%\n"
     ]
    }
   ],
   "source": [
    "num_duplicates = duplicates.sum()\n",
    "total_records = df.shape[0]\n",
    "duplicate_percentage = (num_duplicates / total_records) * 100\n",
    "print(\"Процент дубликатов от общего датасета: {:.2f}%\".format(duplicate_percentage))"
   ]
  },
  {
   "cell_type": "markdown",
   "metadata": {},
   "source": [
    "##### Оценить природу неявных дубликатов и принять решение о дальнейших действиях: удаление или анализ."
   ]
  },
  {
   "cell_type": "markdown",
   "metadata": {},
   "source": [
    "Рассмотрим какие признаки различаются у дубликатов"
   ]
  },
  {
   "cell_type": "markdown",
   "metadata": {},
   "source": [
    "Думаю необходим дополнительный анализ дубликатов, для того, чтобы потерять как можно меньше данных.\n",
    "\n",
    "Посмотрим, сколько уникальных значений имеется для каждого признака среди дубликатов"
   ]
  },
  {
   "cell_type": "code",
   "execution_count": 11,
   "metadata": {},
   "outputs": [
    {
     "data": {
      "text/plain": [
       "USERID            73\n",
       "score            107\n",
       "city               2\n",
       "gender             2\n",
       "age               43\n",
       "equity             8\n",
       "balance           97\n",
       "products           5\n",
       "credit_card        2\n",
       "last_activity      2\n",
       "EST_SALARY       145\n",
       "churn              2\n",
       "dtype: int64"
      ]
     },
     "metadata": {},
     "output_type": "display_data"
    }
   ],
   "source": [
    "duplicates = df[df.duplicated(subset='USERID', keep=False)]\n",
    "unique_values_per_feature = duplicates.apply(lambda x: x.nunique())\n",
    "display(unique_values_per_feature)"
   ]
  },
  {
   "cell_type": "markdown",
   "metadata": {},
   "source": [
    "Так как мы не можем точно знать о причинах появления таких дубликатов, сделаем предположение: чаще всего такие ошибки могут возникать при ручном вводе данных человеческий фактор может привести к дублированию записей, особенно при отсутствии проверки на уникальность, также нельзя исключать технические проблемы или ошибки в системе записи данных и ошибки из-за объединении данных из разных источников. "
   ]
  },
  {
   "cell_type": "markdown",
   "metadata": {},
   "source": [
    "В конкретном случае, т. к. дубли неявные, процент таких ошибок - 1.46%, что позволяет безболезненно избавиться от таких данных, не потеряв взаимосвязи в дальнейшем исследовании и совпадение есть только по уникальному идентификатору, предполагаю - дело в ручном вводе данных в систему и/или некорректной работе системы. Например: клиент банка переехал в другой город и обратился повторно в филиал той же организации для заведения нового продукта, либо завел новый продукт спустя несколько лет и в системе у конкретного идентификатора не обновился возраст, а появилась новая запись."
   ]
  },
  {
   "cell_type": "code",
   "execution_count": 13,
   "metadata": {},
   "outputs": [
    {
     "name": "stdout",
     "output_type": "stream",
     "text": [
      "<class 'pandas.core.frame.DataFrame'>\n",
      "Int64Index: 9999 entries, 0 to 9999\n",
      "Data columns (total 12 columns):\n",
      " #   Column         Non-Null Count  Dtype  \n",
      "---  ------         --------------  -----  \n",
      " 0   USERID         9999 non-null   int64  \n",
      " 1   score          9999 non-null   float64\n",
      " 2   city           9999 non-null   object \n",
      " 3   gender         9999 non-null   object \n",
      " 4   age            9973 non-null   float64\n",
      " 5   equity         9999 non-null   int64  \n",
      " 6   balance        7705 non-null   float64\n",
      " 7   products       9999 non-null   int64  \n",
      " 8   credit_card    9999 non-null   int64  \n",
      " 9   last_activity  9999 non-null   int64  \n",
      " 10  EST_SALARY     9999 non-null   float64\n",
      " 11  churn          9999 non-null   int64  \n",
      "dtypes: float64(4), int64(6), object(2)\n",
      "memory usage: 1015.5+ KB\n",
      "None\n"
     ]
    }
   ],
   "source": [
    "unique_columns = ['USERID', 'city', 'gender', 'age', 'balance', 'credit_card', 'last_activity']\n",
    "df.drop_duplicates(subset=unique_columns, keep='first', inplace=True)\n",
    "print(df.info())"
   ]
  },
  {
   "cell_type": "markdown",
   "metadata": {},
   "source": [
    "### Анализ природы пропусков:\n",
    "#### Определить процент пропусков в каждом столбце."
   ]
  },
  {
   "cell_type": "code",
   "execution_count": 14,
   "metadata": {},
   "outputs": [
    {
     "data": {
      "text/plain": [
       "USERID            0.00%\n",
       "score             0.00%\n",
       "city              0.00%\n",
       "gender            0.00%\n",
       "age               0.26%\n",
       "equity            0.00%\n",
       "balance          22.94%\n",
       "products          0.00%\n",
       "credit_card       0.00%\n",
       "last_activity     0.00%\n",
       "EST_SALARY        0.00%\n",
       "churn             0.00%\n",
       "dtype: object"
      ]
     },
     "metadata": {},
     "output_type": "display_data"
    }
   ],
   "source": [
    "missing_percentages = df.isna().mean() * 100\n",
    "display(missing_percentages.apply(lambda x: f'{x:.2f}%'))"
   ]
  },
  {
   "cell_type": "markdown",
   "metadata": {},
   "source": [
    "Видим, что наибольший процент пропущенных значений в столбце balance - 22.95%, также есть небольшой процент пропусков по столбцу age(0.26%). Ранее мы уже обработали столбец age."
   ]
  },
  {
   "cell_type": "markdown",
   "metadata": {},
   "source": [
    "#### Изучить причины пропусков.\n",
    "##### Проверка пропусков.\n",
    "- Опередлить к какому из типов относятся пропуски.\n",
    "   - MCAR (Missing Completely At Random / Отсутствует совершенно случайно) — пропуски не зависят от переменных и не ведут к систематической ошибке (смещение, bias), но увеличивают случайную ошибку (разброс, variance), можно их отбрасывать или заполнять, т.к. заполнение не повлияет на характер связи между заполняемой переменной и остальными;\n",
    "\n",
    "   - MAR (Missing At Random / Отсутствует случайно) — в рамках каждой из групп, которая есть в описываемой данными совокупности, распределение пропусков случайно, можно их отбрасывать;\n",
    "\n",
    "  - MNAR (Missing Not At Random / Отсутствует не случайно) — пропуски зависят от данных, без дополнительного обоснования их нельзя отбрасывать или заполнять одним значением, т.к. это приведёт к заметным искажениям.\n",
    "- Провести корреляционный анализ между пропущенными значениями и другими переменными, чтобы понять, существует ли систематическая зависимость.\n",
    "    - найти зависимости пропусков от данных или подтвердить отсутствие таких зависимостей."
   ]
  },
  {
   "cell_type": "markdown",
   "metadata": {},
   "source": [
    "Для проверки MCAR, MAR и MNAR мы можем провести корреляционный анализ между пропущенными значениями в столбце 'balance' и другими переменными."
   ]
  },
  {
   "cell_type": "code",
   "execution_count": 15,
   "metadata": {},
   "outputs": [
    {
     "data": {
      "text/plain": [
       "'Сводная таблица с мерами центральной тенденции:'"
      ]
     },
     "metadata": {},
     "output_type": "display_data"
    },
    {
     "data": {
      "text/html": [
       "<div>\n",
       "<style scoped>\n",
       "    .dataframe tbody tr th:only-of-type {\n",
       "        vertical-align: middle;\n",
       "    }\n",
       "\n",
       "    .dataframe tbody tr th {\n",
       "        vertical-align: top;\n",
       "    }\n",
       "\n",
       "    .dataframe thead th {\n",
       "        text-align: right;\n",
       "    }\n",
       "</style>\n",
       "<table border=\"1\" class=\"dataframe\">\n",
       "  <thead>\n",
       "    <tr style=\"text-align: right;\">\n",
       "      <th></th>\n",
       "      <th>balance_missing</th>\n",
       "      <th>EST_SALARY</th>\n",
       "      <th>age</th>\n",
       "      <th>city</th>\n",
       "      <th>equity</th>\n",
       "      <th>gender</th>\n",
       "      <th>products</th>\n",
       "    </tr>\n",
       "  </thead>\n",
       "  <tbody>\n",
       "    <tr>\n",
       "      <th>0</th>\n",
       "      <td>0</td>\n",
       "      <td>124501.872366</td>\n",
       "      <td>42.924366</td>\n",
       "      <td>Ярославль</td>\n",
       "      <td>4</td>\n",
       "      <td>Ж</td>\n",
       "      <td>2</td>\n",
       "    </tr>\n",
       "    <tr>\n",
       "      <th>1</th>\n",
       "      <td>1</td>\n",
       "      <td>226397.935876</td>\n",
       "      <td>42.076822</td>\n",
       "      <td>Ярославль</td>\n",
       "      <td>0</td>\n",
       "      <td>М</td>\n",
       "      <td>1</td>\n",
       "    </tr>\n",
       "  </tbody>\n",
       "</table>\n",
       "</div>"
      ],
      "text/plain": [
       "   balance_missing     EST_SALARY        age       city  equity gender  \\\n",
       "0                0  124501.872366  42.924366  Ярославль       4      Ж   \n",
       "1                1  226397.935876  42.076822  Ярославль       0      М   \n",
       "\n",
       "   products  \n",
       "0         2  \n",
       "1         1  "
      ]
     },
     "metadata": {},
     "output_type": "display_data"
    }
   ],
   "source": [
    "df['balance_missing'] = df['balance'].isnull().astype(int)\n",
    "\n",
    "\n",
    "pivot_table = df.pivot_table(index='balance_missing', aggfunc={'age': np.mean, \n",
    "                                                              'equity': np.median,\n",
    "                                                              'products': np.median,\n",
    "                                                              'city': lambda x: x.mode()[0],\n",
    "                                                              'gender': lambda x: x.mode()[0],\n",
    "                                                              'EST_SALARY': np.mean}).reset_index()\n",
    "\n",
    "\n",
    "display(\"Сводная таблица с мерами центральной тенденции:\")\n",
    "display(pivot_table)"
   ]
  },
  {
   "cell_type": "markdown",
   "metadata": {},
   "source": [
    "Судя по всему пропуски в balance не связаны с городом и возрастом. Остальные признаки нужно исследовть дальше"
   ]
  },
  {
   "cell_type": "code",
   "execution_count": 16,
   "metadata": {
    "scrolled": true
   },
   "outputs": [
    {
     "data": {
      "text/plain": [
       "'Сводная таблица с мерами центральной тенденции:'"
      ]
     },
     "metadata": {},
     "output_type": "display_data"
    },
    {
     "data": {
      "text/html": [
       "<div>\n",
       "<style scoped>\n",
       "    .dataframe tbody tr th:only-of-type {\n",
       "        vertical-align: middle;\n",
       "    }\n",
       "\n",
       "    .dataframe tbody tr th {\n",
       "        vertical-align: top;\n",
       "    }\n",
       "\n",
       "    .dataframe thead th {\n",
       "        text-align: right;\n",
       "    }\n",
       "</style>\n",
       "<table border=\"1\" class=\"dataframe\">\n",
       "  <thead>\n",
       "    <tr style=\"text-align: right;\">\n",
       "      <th></th>\n",
       "      <th>age_missing</th>\n",
       "      <th>EST_SALARY</th>\n",
       "      <th>balance</th>\n",
       "      <th>city</th>\n",
       "      <th>equity</th>\n",
       "      <th>gender</th>\n",
       "      <th>products</th>\n",
       "    </tr>\n",
       "  </thead>\n",
       "  <tbody>\n",
       "    <tr>\n",
       "      <th>0</th>\n",
       "      <td>0</td>\n",
       "      <td>147799.115241</td>\n",
       "      <td>8.272456e+05</td>\n",
       "      <td>Ярославль</td>\n",
       "      <td>3</td>\n",
       "      <td>М</td>\n",
       "      <td>2</td>\n",
       "    </tr>\n",
       "    <tr>\n",
       "      <th>1</th>\n",
       "      <td>1</td>\n",
       "      <td>178585.199231</td>\n",
       "      <td>1.250034e+06</td>\n",
       "      <td>Ярославль</td>\n",
       "      <td>0</td>\n",
       "      <td>М</td>\n",
       "      <td>1</td>\n",
       "    </tr>\n",
       "  </tbody>\n",
       "</table>\n",
       "</div>"
      ],
      "text/plain": [
       "   age_missing     EST_SALARY       balance       city  equity gender  \\\n",
       "0            0  147799.115241  8.272456e+05  Ярославль       3      М   \n",
       "1            1  178585.199231  1.250034e+06  Ярославль       0      М   \n",
       "\n",
       "   products  \n",
       "0         2  \n",
       "1         1  "
      ]
     },
     "metadata": {},
     "output_type": "display_data"
    }
   ],
   "source": [
    "df['age_missing'] = df['age'].isnull().astype(int)\n",
    "\n",
    "\n",
    "pivot_table = df.pivot_table(index='age_missing', aggfunc={'balance': np.mean, \n",
    "                                                              'equity': np.median,\n",
    "                                                              'products': np.median,\n",
    "                                                              'city': lambda x: x.mode()[0],\n",
    "                                                              'gender': lambda x: x.mode()[0],\n",
    "                                                              'EST_SALARY': np.mean}).reset_index()\n",
    "\n",
    "\n",
    "display(\"Сводная таблица с мерами центральной тенденции:\")\n",
    "display(pivot_table)"
   ]
  },
  {
   "cell_type": "markdown",
   "metadata": {},
   "source": [
    "Судя по всему пропуски в age не связаны с городом и полом. Остальные признаки нужно исследовть дальше"
   ]
  },
  {
   "cell_type": "code",
   "execution_count": 17,
   "metadata": {},
   "outputs": [
    {
     "name": "stdout",
     "output_type": "stream",
     "text": [
      "interval columns not set, guessing: ['score', 'age', 'equity', 'balance', 'products', 'credit_card', 'last_activity', 'EST_SALARY', 'churn', 'balance_missing', 'age_missing']\n",
      "\n",
      "Phik корреляционная матрица:\n",
      "balance_missing    1.000000\n",
      "equity             0.975927\n",
      "score              0.754958\n",
      "products           0.492383\n",
      "EST_SALARY         0.430753\n",
      "churn              0.381830\n",
      "credit_card        0.245771\n",
      "age_missing        0.068119\n",
      "age                0.048488\n",
      "last_activity      0.041614\n",
      "balance                 NaN\n",
      "Name: balance_missing, dtype: float64\n"
     ]
    }
   ],
   "source": [
    "df_balance_missing = df.drop({'USERID','city','gender'}, axis=1)\n",
    "phik_correlation = df_balance_missing.phik_matrix()\n",
    "balance_correlation = phik_correlation['balance_missing'].sort_values(ascending=False)\n",
    "print(\"\\nPhik корреляционная матрица:\")\n",
    "print(balance_correlation)"
   ]
  },
  {
   "cell_type": "markdown",
   "metadata": {},
   "source": [
    "- Сильная связь с equity: Значение корреляции 0.975823 между balance_missing и equity указывает на очень сильную связь. Это может означать, что пропуски в balance часто встречаются у клиентов с определённым количеством баллов собственности.\n",
    "\n",
    "- Значительная связь с products и score: Значения корреляции 0.793178 и 0.755046 соответственно показывают, что есть значительная связь между пропусками в balance и количеством продуктов, которыми пользуется клиент, а также его кредитным рейтингом."
   ]
  },
  {
   "cell_type": "markdown",
   "metadata": {},
   "source": [
    "Пропуски в balance скорее всего относятся к типу Missing Not At Random (MNAR). Это означает, что вероятность пропуска данных зависит от неизвестных значений переменной или от других переменных.\n",
    "\n",
    "Пропуски MNAR часто указывают на систематическую проблему в процессе сбора данных, когда отсутствие информации само по себе несет важную информацию. Например, клиенты с высоким уровнем собственного капитала (equity) могут быть менее склонны раскрывать информацию о своих балансах, что приводит к пропускам в данных."
   ]
  },
  {
   "cell_type": "code",
   "execution_count": 18,
   "metadata": {},
   "outputs": [
    {
     "name": "stdout",
     "output_type": "stream",
     "text": [
      "interval columns not set, guessing: ['score', 'age', 'equity', 'balance', 'products', 'credit_card', 'last_activity', 'EST_SALARY', 'churn', 'balance_missing', 'age_missing']\n",
      "\n",
      "Phik корреляционная матрица:\n",
      "age_missing        1.000000\n",
      "balance_missing    0.068119\n",
      "score              0.059605\n",
      "equity             0.038195\n",
      "last_activity      0.032790\n",
      "products           0.027575\n",
      "churn              0.020500\n",
      "EST_SALARY         0.009387\n",
      "balance            0.000000\n",
      "credit_card        0.000000\n",
      "age                     NaN\n",
      "Name: age_missing, dtype: float64\n"
     ]
    }
   ],
   "source": [
    "df_balance_missing = df.drop({'USERID','city','gender'}, axis=1)\n",
    "phik_correlation = df_balance_missing.phik_matrix()\n",
    "age_correlation = phik_correlation['age_missing'].sort_values(ascending=False)\n",
    "print(\"\\nPhik корреляционная матрица:\")\n",
    "print(age_correlation)"
   ]
  },
  {
   "cell_type": "markdown",
   "metadata": {},
   "source": [
    "Пропуски в age скорее всего являются Missing Completely At Random (MCAR). Пропуски MCAR не связаны ни с какими другими измеряемыми переменными и предполагают, что причины пропусков полностью случайны."
   ]
  },
  {
   "cell_type": "markdown",
   "metadata": {},
   "source": [
    "#### Выбрать стратегию обработки пропусков (удаление строк, заполнение средним значением, медианой, модой) в зависимости от типа данных и причины пропусков."
   ]
  },
  {
   "cell_type": "markdown",
   "metadata": {},
   "source": [
    "У нас есть пропуски по двум признакам, пропуски по столбцу balance судя по всему относятся типу Missing Not At Random (MNAR). Заполнять их средним или медианой, или еще как-то, т.к. это приведёт к заметным искажениям.Думаю стоит оставить их как есть, но иметь это в виду при дальнейшем анализе.\n",
    "\n",
    "Пропуски по столбцу age относятся к типу Missing Completely At Random (MCAR), можем их удалить или заполнить, это не приведет к искажениям. "
   ]
  },
  {
   "cell_type": "code",
   "execution_count": 20,
   "metadata": {},
   "outputs": [],
   "source": [
    "df.drop('balance_missing', axis=1, inplace=True)\n",
    "df.drop('age_missing', axis=1, inplace=True)\n",
    "df.dropna(subset=['age'], inplace=True)"
   ]
  },
  {
   "cell_type": "markdown",
   "metadata": {},
   "source": [
    "### Кодирование категориальных признаков:\n",
    "#### Преобразовать категориальные переменные (City, Gender) в числовые для использования в анализе корреляции.\n",
    "##### Определить к какому типу относятся категориальные переменные в моем исследовании - к упорядоченным или неупорядоченным."
   ]
  },
  {
   "cell_type": "markdown",
   "metadata": {},
   "source": [
    "Для начала определим к какому типу относятся категориальные перменные\n",
    "- city (город): Это неупорядоченная категориальная переменная, так как города не имеют естественного порядка.\n",
    "\n",
    "- gender (пол): Также является неупорядоченной категориальной переменной.\n",
    "\n",
    "\n",
    "\n",
    "Чтобы подготовить данные для анализа корреляции, мы можем закодировать категориальные переменные численно. Для неупорядоченных категориальных переменных, таких как город и пол, мы можем использовать one-hot кодирование с помощью функции get_dummies()\n",
    "\n",
    "Для бинарной переменной last_activity это не обязательно, так как она уже представлена числами."
   ]
  },
  {
   "cell_type": "markdown",
   "metadata": {},
   "source": [
    "#### Применить  one-hot кодирование или другие методы кодирования в зависимости от характера признака.\n"
   ]
  },
  {
   "cell_type": "code",
   "execution_count": 21,
   "metadata": {},
   "outputs": [
    {
     "data": {
      "text/html": [
       "<div>\n",
       "<style scoped>\n",
       "    .dataframe tbody tr th:only-of-type {\n",
       "        vertical-align: middle;\n",
       "    }\n",
       "\n",
       "    .dataframe tbody tr th {\n",
       "        vertical-align: top;\n",
       "    }\n",
       "\n",
       "    .dataframe thead th {\n",
       "        text-align: right;\n",
       "    }\n",
       "</style>\n",
       "<table border=\"1\" class=\"dataframe\">\n",
       "  <thead>\n",
       "    <tr style=\"text-align: right;\">\n",
       "      <th></th>\n",
       "      <th>USERID</th>\n",
       "      <th>score</th>\n",
       "      <th>age</th>\n",
       "      <th>equity</th>\n",
       "      <th>balance</th>\n",
       "      <th>products</th>\n",
       "      <th>credit_card</th>\n",
       "      <th>last_activity</th>\n",
       "      <th>EST_SALARY</th>\n",
       "      <th>churn</th>\n",
       "      <th>city_Ростов</th>\n",
       "      <th>city_Рыбинск</th>\n",
       "      <th>city_Ярославль</th>\n",
       "      <th>gender_Ж</th>\n",
       "      <th>gender_М</th>\n",
       "    </tr>\n",
       "  </thead>\n",
       "  <tbody>\n",
       "    <tr>\n",
       "      <th>0</th>\n",
       "      <td>183012</td>\n",
       "      <td>850.0</td>\n",
       "      <td>25.0</td>\n",
       "      <td>1</td>\n",
       "      <td>59214.82</td>\n",
       "      <td>2</td>\n",
       "      <td>0</td>\n",
       "      <td>1</td>\n",
       "      <td>75719.14</td>\n",
       "      <td>1</td>\n",
       "      <td>0</td>\n",
       "      <td>1</td>\n",
       "      <td>0</td>\n",
       "      <td>1</td>\n",
       "      <td>0</td>\n",
       "    </tr>\n",
       "    <tr>\n",
       "      <th>1</th>\n",
       "      <td>146556</td>\n",
       "      <td>861.0</td>\n",
       "      <td>37.0</td>\n",
       "      <td>5</td>\n",
       "      <td>850594.33</td>\n",
       "      <td>3</td>\n",
       "      <td>1</td>\n",
       "      <td>0</td>\n",
       "      <td>86621.77</td>\n",
       "      <td>0</td>\n",
       "      <td>0</td>\n",
       "      <td>1</td>\n",
       "      <td>0</td>\n",
       "      <td>1</td>\n",
       "      <td>0</td>\n",
       "    </tr>\n",
       "    <tr>\n",
       "      <th>2</th>\n",
       "      <td>120722</td>\n",
       "      <td>892.0</td>\n",
       "      <td>30.0</td>\n",
       "      <td>0</td>\n",
       "      <td>NaN</td>\n",
       "      <td>1</td>\n",
       "      <td>1</td>\n",
       "      <td>1</td>\n",
       "      <td>107683.34</td>\n",
       "      <td>0</td>\n",
       "      <td>0</td>\n",
       "      <td>1</td>\n",
       "      <td>0</td>\n",
       "      <td>1</td>\n",
       "      <td>0</td>\n",
       "    </tr>\n",
       "    <tr>\n",
       "      <th>3</th>\n",
       "      <td>225363</td>\n",
       "      <td>866.0</td>\n",
       "      <td>51.0</td>\n",
       "      <td>5</td>\n",
       "      <td>1524746.26</td>\n",
       "      <td>2</td>\n",
       "      <td>0</td>\n",
       "      <td>1</td>\n",
       "      <td>174423.53</td>\n",
       "      <td>1</td>\n",
       "      <td>0</td>\n",
       "      <td>0</td>\n",
       "      <td>1</td>\n",
       "      <td>1</td>\n",
       "      <td>0</td>\n",
       "    </tr>\n",
       "    <tr>\n",
       "      <th>4</th>\n",
       "      <td>157978</td>\n",
       "      <td>730.0</td>\n",
       "      <td>34.0</td>\n",
       "      <td>5</td>\n",
       "      <td>174.00</td>\n",
       "      <td>1</td>\n",
       "      <td>1</td>\n",
       "      <td>0</td>\n",
       "      <td>67353.16</td>\n",
       "      <td>1</td>\n",
       "      <td>0</td>\n",
       "      <td>0</td>\n",
       "      <td>1</td>\n",
       "      <td>0</td>\n",
       "      <td>1</td>\n",
       "    </tr>\n",
       "  </tbody>\n",
       "</table>\n",
       "</div>"
      ],
      "text/plain": [
       "   USERID  score   age  equity     balance  products  credit_card  \\\n",
       "0  183012  850.0  25.0       1    59214.82         2            0   \n",
       "1  146556  861.0  37.0       5   850594.33         3            1   \n",
       "2  120722  892.0  30.0       0         NaN         1            1   \n",
       "3  225363  866.0  51.0       5  1524746.26         2            0   \n",
       "4  157978  730.0  34.0       5      174.00         1            1   \n",
       "\n",
       "   last_activity  EST_SALARY  churn  city_Ростов  city_Рыбинск  \\\n",
       "0              1    75719.14      1            0             1   \n",
       "1              0    86621.77      0            0             1   \n",
       "2              1   107683.34      0            0             1   \n",
       "3              1   174423.53      1            0             0   \n",
       "4              0    67353.16      1            0             0   \n",
       "\n",
       "   city_Ярославль  gender_Ж  gender_М  \n",
       "0               0         1         0  \n",
       "1               0         1         0  \n",
       "2               0         1         0  \n",
       "3               1         1         0  \n",
       "4               1         0         1  "
      ]
     },
     "metadata": {},
     "output_type": "display_data"
    }
   ],
   "source": [
    "encoded_df = pd.get_dummies(df, columns=['city', 'gender'])\n",
    "display(encoded_df.head())"
   ]
  },
  {
   "cell_type": "markdown",
   "metadata": {},
   "source": [
    "<div class=\"alert alert-success\">\n",
    "<h2> Комментарий ментора <a class=\"tocSkip\"> </h2>\n",
    "\n",
    "<b>Все отлично!👍:</b> Техника кодирования выбрана верно."
   ]
  },
  {
   "cell_type": "markdown",
   "metadata": {},
   "source": [
    "##### Анализ корреляции:\n",
    "- Построить матрицу корреляций и оценить взаимосвязи между признаками.\n",
    "- Использовать новый признак, отражающий пропуски в данных, для анализа зависимостей пропусков от других признаков.\n",
    "- Рассмотреть корреляции с учетом категориальных переменных и выбранной стратегии кодирования."
   ]
  },
  {
   "cell_type": "code",
   "execution_count": 22,
   "metadata": {
    "scrolled": false
   },
   "outputs": [
    {
     "data": {
      "image/png": "[encoded data removed]",
      "text/plain": [
       "<Figure size 864x720 with 2 Axes>"
      ]
     },
     "metadata": {
      "needs_background": "light"
     },
     "output_type": "display_data"
    }
   ],
   "source": [
    "correlation_matrix = encoded_df.drop('USERID', axis=1).corr()\n",
    "plt.figure(figsize=(12, 10))\n",
    "sns.heatmap(correlation_matrix, annot=True, cmap='coolwarm', fmt=\".2f\", center=0)\n",
    "plt.title('Матрица корреляций')\n",
    "plt.show()"
   ]
  },
  {
   "cell_type": "markdown",
   "metadata": {},
   "source": [
    " *Интерпритация:*\n",
    "\n",
    "Значения коэффициентов корреляции находятся в диапазоне от -1 до 1. Значение близкое к 1 указывает на положительную линейную корреляцию между переменными: чем больше значение одной переменной, тем больше значение другой переменной. Значение близкое к -1 указывает на отрицательную линейную корреляцию: чем больше значение одной переменной, тем меньше значение другой переменной. Значение близкое к 0 говорит о слабой или отсутствующей корреляции между переменными.\n",
    "\n",
    "- Анализ значимых корреляций. Переменные с высокими значениями коэффициентов корреляции могут указывать на сильную связь между ними. Например, мы обнаружили сильную корреляцию между products и equity. Это может иметь смысл, products отражает количество продуктов, а equity - собственный капитал клиента. Такие взаимосвязи могут использоваться для прогнозирования или сегментации клиентов.\n",
    "- Наш новый признак balance_missing отражает пропущенные значения в переменной balance. Положительная корреляция между balance_missing и другими переменными может указывать на то, что пропущенные значения в balance могут быть связаны с другими факторами. Например, мы обнаружили некоторую отрицательную корреляцию между balance_missing и equity, что может указывать на то, что клиенты с более высоким собственным капиталом склонны иметь заполненные значения в balance\n",
    "- Есть некоторая корреляция между городом проживания и полом клиента. Например, есть небольшая положительная корреляция между городом \"Рыбинск\" и полом \"Женский\", а также между городом \"Ярославль\" и полом \"Мужской\". Это может указывать на некоторые предпочтения или особенности в поведении клиентов в разных городах.\n",
    "- Также можно заметить некоторую корреляцию между городом проживания и балансом клиента. Например, есть небольшая отрицательная корреляция между городом \"Рыбинск\" и балансом, а также между городом \"Ярославль\" и балансом. Это может указывать на то, что клиенты из определенных городов склонны иметь различные уровни баланса на своих счетах.\n",
    "- Наблюдается некоторая корреляция между городом проживания и последней активностью клиента. Например, есть небольшая положительная корреляция между городом \"Ростов\" и последней активностью. Это может указывать на различия в активности клиентов в зависимости от их места проживания.\n"
   ]
  },
  {
   "cell_type": "code",
   "execution_count": 23,
   "metadata": {},
   "outputs": [
    {
     "name": "stderr",
     "output_type": "stream",
     "text": [
      "/tmp/ipykernel_92/2667340840.py:4: FutureWarning: Support for multi-dimensional indexing (e.g. `obj[:, None]`) is deprecated and will be removed in a future version.  Convert to a numpy array before indexing instead.\n",
      "  sns.heatmap(churn_correlation[:, np.newaxis], annot=True, cmap='coolwarm', fmt=\".2f\", center=0, yticklabels=churn_correlation.index)\n"
     ]
    },
    {
     "data": {
      "image/png": "[encoded data removed]",
      "text/plain": [
       "<Figure size 360x504 with 2 Axes>"
      ]
     },
     "metadata": {
      "needs_background": "light"
     },
     "output_type": "display_data"
    }
   ],
   "source": [
    "correlation_matrix = encoded_df.corr()\n",
    "churn_correlation = correlation_matrix['churn'].sort_values(ascending=False)\n",
    "plt.figure(figsize=(5, 7))\n",
    "sns.heatmap(churn_correlation[:, np.newaxis], annot=True, cmap='coolwarm', fmt=\".2f\", center=0, yticklabels=churn_correlation.index)\n",
    "plt.title('Корреляция с оттоком (churn)')\n",
    "plt.show()"
   ]
  },
  {
   "cell_type": "markdown",
   "metadata": {},
   "source": [
    "Шкала Чеддока:\n",
    "\n",
    "0.9 до 1.0: Очень сильная корреляция.<br>\n",
    "0.7 до 0.9: Сильная корреляция.<br>\n",
    "0.5 до 0.7: Умеренная корреляция.<br>\n",
    "0.3 до 0.5: Слабая корреляция.<br>\n",
    "0.0 до 0.3: Очень слабая или отсутствие корреляции.\n"
   ]
  },
  {
   "cell_type": "markdown",
   "metadata": {},
   "source": [
    "- products (0.301274): Умеренная положительная корреляция. Это означает, что существует умеренная связь между количеством продуктов, используемых клиентом, и оттоком.\n",
    "- equity (0.270105): Слабая до умеренной положительная корреляция. Указывает на некоторую связь между баллами собственности клиента и оттоком.\n",
    "- last_activity (0.169690): Очень слабая до слабой положительная корреляция. Последняя активность клиента имеет небольшое влияние на отток.\n",
    "- gender_М (0.141896): Очень слабая положительная корреляция. Мужской пол клиента слабо ассоциируется с оттоком.\n",
    "- score (0.106076): Очень слабая положительная корреляция. Кредитный рейтинг имеет очень незначительное влияние на отток.\n",
    "- balance (0.085915): Очень слабая положительная корреляция. Баланс на счетах клиента имеет очень незначительное влияние на отток.\n",
    "- city_Ярославль (0.024300): Отсутствие корреляции. Местоположение в Ярославле не имеет заметного влияния на отток.\n",
    "- city_Ростов (0.005115): Отсутствие корреляции. Местоположение в Ростове не имеет заметного влияния на отток.\n",
    "- EST_SALARY (0.001893): Отсутствие корреляции. Ожидаемая зарплата не имеет заметного влияния на отток.\n",
    "- city_Рыбинск (-0.030989): Отсутствие корреляции. Местоположение в Рыбинске не имеет заметного влияния на отток.\n",
    "- age (-0.050463): Очень слабая отрицательная корреляция. Возраст имеет очень незначительное отрицательное влияние на отток.\n",
    "- credit_card (-0.130122): Очень слабая отрицательная корреляция. Наличие кредитной карты слабо ассоциируется с уменьшением оттока.\n",
    "- gender_Ж (-0.141896): Очень слабая отрицательная корреляция. Женский пол клиента слабо ассоциируется с уменьшением оттока."
   ]
  },
  {
   "cell_type": "markdown",
   "metadata": {},
   "source": [
    "## шаг. EDA (Exploratory Data Analysis):"
   ]
  },
  {
   "cell_type": "markdown",
   "metadata": {},
   "source": [
    "### Анализ распределения признаков в разрезе оттока:\n",
    "#### Для числовых признаков, построить гистограммы для групп клиентов, которые ушли, и для тех, кто остался, чтобы выявить различия в распределении признаков.\n"
   ]
  },
  {
   "cell_type": "code",
   "execution_count": 24,
   "metadata": {},
   "outputs": [
    {
     "name": "stdout",
     "output_type": "stream",
     "text": [
      "Количество выбросов в 'EST_SALARY': 479\n",
      "Количество выбросов в 'balance': 427\n"
     ]
    }
   ],
   "source": [
    "def detect_outliers(df, column):\n",
    "    Q1 = df[column].quantile(0.25)\n",
    "    Q3 = df[column].quantile(0.75)\n",
    "    IQR = Q3 - Q1\n",
    "    lower_bound = Q1 - 1.5 * IQR\n",
    "    upper_bound = Q3 + 1.5 * IQR\n",
    "    outliers = df[(df[column] < lower_bound) | (df[column] > upper_bound)]\n",
    "    return outliers\n",
    "\n",
    "outliers_est_salary = detect_outliers(df, 'EST_SALARY')\n",
    "print(f\"Количество выбросов в 'EST_SALARY': {len(outliers_est_salary)}\")\n",
    "\n",
    "outliers_balance = detect_outliers(df, 'balance')\n",
    "print(f\"Количество выбросов в 'balance': {len(outliers_balance)}\")"
   ]
  },
  {
   "cell_type": "code",
   "execution_count": 25,
   "metadata": {},
   "outputs": [
    {
     "data": {
      "image/png": "[encoded data removed]",
      "text/plain": [
       "<Figure size 1152x864 with 4 Axes>"
      ]
     },
     "metadata": {
      "needs_background": "light"
     },
     "output_type": "display_data"
    }
   ],
   "source": [
    "plt.figure(figsize=(16, 12))\n",
    "\n",
    "churn_rate_products = df.groupby('products')['churn'].mean()\n",
    "churn_rate_equity = df.groupby('equity')['churn'].mean()\n",
    "\n",
    "numeric_features = ['score', 'age', 'balance', 'EST_SALARY']\n",
    "\n",
    "for i, feature in enumerate(numeric_features, 1):\n",
    "    plt.subplot(3, 3, i)\n",
    "    if feature == 'balance':\n",
    "        sns.histplot(data=df, x=feature, bins=1000, hue='churn', stat=\"density\",\n",
    "                     common_norm=False, palette='pastel', edgecolor='black')\n",
    "        plt.xlim(0, 4000000)\n",
    "    else:\n",
    "        sns.histplot(data=df, x=feature, bins=30, hue='churn', stat=\"density\",\n",
    "                     common_norm=False, palette='pastel', edgecolor='black')\n",
    "    plt.title(feature.capitalize(), fontdict={'fontsize': 14})\n",
    "    plt.xlabel('', fontdict={'fontsize': 12})\n",
    "    plt.ylabel('Плотность', fontdict={'fontsize': 12})  \n",
    "    \n",
    "     \n",
    "\n",
    "plt.tight_layout()\n",
    "plt.show()"
   ]
  },
  {
   "cell_type": "code",
   "execution_count": 26,
   "metadata": {},
   "outputs": [
    {
     "data": {
      "image/png": "[encoded data removed]",
      "text/plain": [
       "<Figure size 864x720 with 2 Axes>"
      ]
     },
     "metadata": {
      "needs_background": "light"
     },
     "output_type": "display_data"
    }
   ],
   "source": [
    "plt.figure(figsize=(12,10))\n",
    "\n",
    "churn_rate_products = df.groupby('products')['churn'].mean()\n",
    "churn_rate_equity = df.groupby('equity')['churn'].mean()\n",
    "\n",
    "plt.subplot(3, 3, (1, 4))\n",
    "sns.barplot(x=churn_rate_products.index, y=churn_rate_products.values, color='skyblue')\n",
    "plt.title('Доля оттока по products', fontdict={'fontsize': 14})\n",
    "plt.xlabel('products', fontdict={'fontsize': 12})\n",
    "plt.ylabel('Доля оттока', fontdict={'fontsize': 12})\n",
    "plt.axhline(y=df['churn'].mean(), color='red', linestyle='--')\n",
    "\n",
    "\n",
    "plt.subplot(3, 3, (5, 8))\n",
    "sns.barplot(x=churn_rate_equity.index, y=churn_rate_equity.values, color='lightcoral')\n",
    "plt.title('Доля оттока по Equity', fontdict={'fontsize': 14})\n",
    "plt.xlabel('Equity', fontdict={'fontsize': 12})\n",
    "plt.ylabel('Доля оттока', fontdict={'fontsize': 12})\n",
    "plt.axhline(y=df['churn'].mean(), color='red', linestyle='--')\n",
    "plt.xlim(0, 10)\n",
    "plt.ylim(0, 1)\n",
    "\n",
    "plt.show()"
   ]
  },
  {
   "cell_type": "markdown",
   "metadata": {},
   "source": [
    "Ранее в шаге 1, я заметила выбросовые значения по столбцам EST_SALARY и balance, на данном этапе я вычислила количсетво таких значений. Т.к. это клиенты банка, то возможно такие выбросы в оценочном доходе и балансе - нормальное явление. Пока что не буду их обрабатывать. \n",
    "\n",
    "Выделим отточных клиентов по непрерывным признакам:\n",
    "- Чаще уходят клиенты с баллами кредитного скорринга выше 800,но ниже 950\n",
    "- Молодые клиенты от 25 до 35, но также и люди от 50 до 60\n",
    "- Уходят клиенты с баллами собственного капитала 3 или выше\n",
    "- А также отток клиентов заметно растет, если у них 2 или более  продуктов банка\n",
    "\n",
    "По оценочному доходу клиента из-за выбросов трудно делать однозначный вывод, но заметна тенденция: чем выше оценочный доход - тем выше отток"
   ]
  },
  {
   "cell_type": "code",
   "execution_count": 27,
   "metadata": {},
   "outputs": [
    {
     "data": {
      "image/png": "[encoded data removed]",
      "text/plain": [
       "<Figure size 720x432 with 1 Axes>"
      ]
     },
     "metadata": {
      "needs_background": "light"
     },
     "output_type": "display_data"
    }
   ],
   "source": [
    "balance_cutoff = 20\n",
    "balance_cutoff_1 = 35\n",
    "balance_cutoff_2 = 50\n",
    "balance_cutoff_3 = 60\n",
    "plt.figure(figsize=(10, 6))\n",
    "sns.kdeplot(df[df['churn'] == 0]['age'], color='b', label='Остался')\n",
    "sns.kdeplot(df[df['churn'] == 1]['age'], color='r', label='Ушел')\n",
    "\n",
    "# Устанавливаем вертикальные линии для каждого порога с уникальными метками\n",
    "plt.axvline(x=balance_cutoff, color='g', linestyle='--', label=f'age Cutoff: {balance_cutoff}')\n",
    "plt.axvline(x=balance_cutoff_1, color='y', linestyle='--', label=f'age Cutoff: {balance_cutoff_1}')\n",
    "plt.axvline(x=balance_cutoff_2, color='orange', linestyle='--', label=f'age Cutoff: {balance_cutoff_2}')\n",
    "plt.axvline(x=balance_cutoff_3, color='purple', linestyle='--', label=f'age Cutoff: {balance_cutoff_3}')\n",
    "\n",
    "plt.xlabel('age')\n",
    "plt.ylabel('Density')\n",
    "plt.title('График плотности оттока и возраста')\n",
    "plt.legend()\n",
    "plt.show()"
   ]
  },
  {
   "cell_type": "markdown",
   "metadata": {},
   "source": [
    "#### Для дискретных признаков, вычислить процент оттока для каждого значения признака и сравнить его с общим уровнем оттока."
   ]
  },
  {
   "cell_type": "code",
   "execution_count": 28,
   "metadata": {},
   "outputs": [
    {
     "name": "stdout",
     "output_type": "stream",
     "text": [
      "Общий уровень оттока: 18.23%\n",
      "Уровень оттока для Рыбинск: 16.26%\n",
      "Уровень оттока для Ярославль: 19.01%\n",
      "Уровень оттока для Ростов: 18.71%\n"
     ]
    },
    {
     "data": {
      "image/png": "[encoded data removed]",
      "text/plain": [
       "<Figure size 432x216 with 1 Axes>"
      ]
     },
     "metadata": {
      "needs_background": "light"
     },
     "output_type": "display_data"
    },
    {
     "name": "stdout",
     "output_type": "stream",
     "text": [
      "Уровень оттока для Ж: 12.75%\n",
      "Уровень оттока для М: 23.70%\n"
     ]
    },
    {
     "data": {
      "image/png": "[encoded data removed]",
      "text/plain": [
       "<Figure size 432x216 with 1 Axes>"
      ]
     },
     "metadata": {
      "needs_background": "light"
     },
     "output_type": "display_data"
    },
    {
     "name": "stdout",
     "output_type": "stream",
     "text": [
      "Уровень оттока для 0: 25.56%\n",
      "Уровень оттока для 1: 14.78%\n"
     ]
    },
    {
     "data": {
      "image/png": "[encoded data removed]",
      "text/plain": [
       "<Figure size 432x216 with 1 Axes>"
      ]
     },
     "metadata": {
      "needs_background": "light"
     },
     "output_type": "display_data"
    },
    {
     "name": "stdout",
     "output_type": "stream",
     "text": [
      "Уровень оттока для 1: 24.49%\n",
      "Уровень оттока для 0: 11.37%\n"
     ]
    },
    {
     "data": {
      "image/png": "[encoded data removed]",
      "text/plain": [
       "<Figure size 432x216 with 1 Axes>"
      ]
     },
     "metadata": {
      "needs_background": "light"
     },
     "output_type": "display_data"
    }
   ],
   "source": [
    "df['city'] = df['city'].astype('category')\n",
    "df['gender'] = df['gender'].astype('category')\n",
    "df['credit_card'] = df['credit_card'].astype('category')\n",
    "df['last_activity'] = df['last_activity'].astype('category')\n",
    "\n",
    "overall_churn_rate = df['churn'].mean()\n",
    "print(f'Общий уровень оттока: {overall_churn_rate:.2%}')\n",
    "\n",
    "categorical_columns = ['city', 'gender', 'credit_card', 'last_activity']\n",
    "\n",
    "for col in categorical_columns:\n",
    "    unique_values = df[col].unique()\n",
    "    churn_rates = []\n",
    "    for value in unique_values:\n",
    "        subset = df[df[col] == value]\n",
    "        churn_rate = subset['churn'].mean()\n",
    "        churn_rates.append(churn_rate)\n",
    "        print(f'Уровень оттока для {value}: {churn_rate:.2%}')\n",
    "\n",
    "    plt.figure(figsize=(6, 3))\n",
    "    plt.bar(unique_values.astype(str), churn_rates, color='skyblue')\n",
    "    plt.axhline(overall_churn_rate, color='red', linestyle='--', label='Общий уровень оттока')\n",
    "    plt.title(f'Сравнение уровня оттока для {col}')\n",
    "    plt.legend()\n",
    "    plt.show()"
   ]
  },
  {
   "cell_type": "markdown",
   "metadata": {},
   "source": [
    "Видно, что общий уровень оттока составляет 18.37%. При этом, уровень оттока для каждого значения признака сравнивается с общим уровнем оттока. В результате анализа видно, что уровень оттока для городов Рыбинска (16.51%) и Ростова (18.63%) ниже общего уровня оттока, в то время как для Ярославля (19.16%) он превышает этот уровень. Также были проанализированы гендерные данные и обнаружено, что уровень оттока для женщин (12.89%) ниже, чем для мужчин (23.84%)."
   ]
  },
  {
   "cell_type": "markdown",
   "metadata": {},
   "source": [
    "### Анализ портретов клиентов в разрезе оттока:\n",
    "#### Построить сводную таблицу, которая покажут соотношение признаков в группах клиентов, которые ушли и тех, кто остался, чтобы выявить различия в составе этих групп.\n"
   ]
  },
  {
   "cell_type": "code",
   "execution_count": 29,
   "metadata": {},
   "outputs": [
    {
     "data": {
      "text/html": [
       "<div>\n",
       "<style scoped>\n",
       "    .dataframe tbody tr th:only-of-type {\n",
       "        vertical-align: middle;\n",
       "    }\n",
       "\n",
       "    .dataframe tbody tr th {\n",
       "        vertical-align: top;\n",
       "    }\n",
       "\n",
       "    .dataframe thead th {\n",
       "        text-align: right;\n",
       "    }\n",
       "</style>\n",
       "<table border=\"1\" class=\"dataframe\">\n",
       "  <thead>\n",
       "    <tr style=\"text-align: right;\">\n",
       "      <th></th>\n",
       "      <th>Признак</th>\n",
       "      <th>Отток</th>\n",
       "      <th>Не отток</th>\n",
       "      <th>Относительная разница</th>\n",
       "    </tr>\n",
       "  </thead>\n",
       "  <tbody>\n",
       "    <tr>\n",
       "      <th>0</th>\n",
       "      <td>Среднее score</td>\n",
       "      <td>863.361936</td>\n",
       "      <td>845.396199</td>\n",
       "      <td>2.125126</td>\n",
       "    </tr>\n",
       "    <tr>\n",
       "      <th>1</th>\n",
       "      <td>Среднее age</td>\n",
       "      <td>41.429593</td>\n",
       "      <td>43.020846</td>\n",
       "      <td>-3.698796</td>\n",
       "    </tr>\n",
       "    <tr>\n",
       "      <th>2</th>\n",
       "      <td>Среднее equity</td>\n",
       "      <td>3.763476</td>\n",
       "      <td>2.378296</td>\n",
       "      <td>58.242586</td>\n",
       "    </tr>\n",
       "    <tr>\n",
       "      <th>3</th>\n",
       "      <td>Медиана balance</td>\n",
       "      <td>783908.9</td>\n",
       "      <td>475410.09</td>\n",
       "      <td>None</td>\n",
       "    </tr>\n",
       "    <tr>\n",
       "      <th>4</th>\n",
       "      <td>Среднее balance</td>\n",
       "      <td>1134458.209291</td>\n",
       "      <td>733031.630149</td>\n",
       "      <td>54.762518</td>\n",
       "    </tr>\n",
       "    <tr>\n",
       "      <th>5</th>\n",
       "      <td>Среднее EST_SALARY</td>\n",
       "      <td>148357.483157</td>\n",
       "      <td>147674.637881</td>\n",
       "      <td>0.462398</td>\n",
       "    </tr>\n",
       "    <tr>\n",
       "      <th>6</th>\n",
       "      <td>Мода city</td>\n",
       "      <td>Ярославль</td>\n",
       "      <td>Ярославль</td>\n",
       "      <td>None</td>\n",
       "    </tr>\n",
       "    <tr>\n",
       "      <th>7</th>\n",
       "      <td>Мода gender</td>\n",
       "      <td>М</td>\n",
       "      <td>Ж</td>\n",
       "      <td>None</td>\n",
       "    </tr>\n",
       "    <tr>\n",
       "      <th>8</th>\n",
       "      <td>Мода products</td>\n",
       "      <td>2</td>\n",
       "      <td>2</td>\n",
       "      <td>None</td>\n",
       "    </tr>\n",
       "    <tr>\n",
       "      <th>9</th>\n",
       "      <td>Мода credit_card</td>\n",
       "      <td>1</td>\n",
       "      <td>1</td>\n",
       "      <td>None</td>\n",
       "    </tr>\n",
       "    <tr>\n",
       "      <th>10</th>\n",
       "      <td>Мода last_activity</td>\n",
       "      <td>1</td>\n",
       "      <td>0</td>\n",
       "      <td>None</td>\n",
       "    </tr>\n",
       "  </tbody>\n",
       "</table>\n",
       "</div>"
      ],
      "text/plain": [
       "               Признак           Отток       Не отток Относительная разница\n",
       "0        Среднее score      863.361936     845.396199              2.125126\n",
       "1          Среднее age       41.429593      43.020846             -3.698796\n",
       "2       Среднее equity        3.763476       2.378296             58.242586\n",
       "3      Медиана balance        783908.9      475410.09                  None\n",
       "4      Среднее balance  1134458.209291  733031.630149             54.762518\n",
       "5   Среднее EST_SALARY   148357.483157  147674.637881              0.462398\n",
       "6            Мода city       Ярославль      Ярославль                  None\n",
       "7          Мода gender               М              Ж                  None\n",
       "8        Мода products               2              2                  None\n",
       "9     Мода credit_card               1              1                  None\n",
       "10  Мода last_activity               1              0                  None"
      ]
     },
     "metadata": {},
     "output_type": "display_data"
    }
   ],
   "source": [
    "churned_clients = df[df['churn'] == 1]\n",
    "retained_clients = df[df['churn'] == 0]\n",
    "\n",
    "def calculate_mode(dataframe, feature):\n",
    "    return dataframe[feature].mode()[0]\n",
    "\n",
    "client_profile = pd.DataFrame(columns=['Признак', 'Отток', 'Не отток', 'Относительная разница'])\n",
    "\n",
    "continuous_features = ['score', 'age', 'equity', 'balance', 'EST_SALARY']\n",
    "\n",
    "for feature in continuous_features:\n",
    "    churned_mean = churned_clients[feature].mean()\n",
    "    retained_mean = retained_clients[feature].mean()\n",
    "    relative_diff = (churned_mean - retained_mean) / retained_mean * 100\n",
    "    \n",
    "    if churned_clients[feature].std() > churned_mean or retained_clients[feature].std() > retained_mean:\n",
    "        churned_median = churned_clients[feature].median()\n",
    "        retained_median = retained_clients[feature].median()\n",
    "        client_profile = client_profile.append({'Признак': f'Медиана {feature}', 'Отток': churned_median, 'Не отток': retained_median, 'Относительная разница': None}, ignore_index=True)\n",
    "    \n",
    "    client_profile = client_profile.append({'Признак': f'Среднее {feature}', 'Отток': churned_mean, 'Не отток': retained_mean, 'Относительная разница': relative_diff}, ignore_index=True)\n",
    "\n",
    "categorical_features = ['city', 'gender', 'products', 'credit_card', 'last_activity']\n",
    "\n",
    "for feature in categorical_features:\n",
    "    churned_mode = calculate_mode(churned_clients, feature)\n",
    "    retained_mode = calculate_mode(retained_clients, feature)\n",
    "    client_profile = client_profile.append({'Признак': f'Мода {feature}', 'Отток': churned_mode, 'Не отток': retained_mode, 'Относительная разница': None}, ignore_index=True)\n",
    "\n",
    "display(client_profile)\n"
   ]
  },
  {
   "cell_type": "markdown",
   "metadata": {},
   "source": [
    "Составим портрет типичного отточного клиента:\n",
    "\n",
    "- мужчина \n",
    "- чаще из Ярославля \n",
    "- чаще без кредитной карты, но не обязательно \n",
    "- у него 2 или более 2-х продуктов банка\n",
    "- его оценочный доход 148357 и выше\n",
    "- с баллами собственного капитала 3 и выше\n",
    "- с баллами кредитного скорринга 860 или выше,но ниже 950\n",
    "- либо меньше 41 (от 20 до 35 примерно), либо от 50 до 60 лет (как я выяснила по графику)"
   ]
  },
  {
   "cell_type": "markdown",
   "metadata": {},
   "source": [
    "### Проверка статистических гипотез:\n",
    "#### Гипотеза 1: Влияние уровня дохода на отток.:\n",
    "##### Формулировка гипотезы.\n",
    "- Сформулировать гипотезу о влиянии различия уровня дохода на отток.\n",
    "##### Обоснование выбора теста:\n",
    "- Проверить условия применимости t-теста Стьюдента для сравнения средних значений двух выборок.\n",
    "- Обосновать выбор t-теста или альтернативного метода (например, непараметрического теста), если t-тест неприменим.\n",
    "##### Проведение теста и анализ результатов:\n",
    "- Провести t-тест или альтернативный тест.\n",
    "- Оценить статистическую значимость различий между группами.\n",
    "- Сделать вывод о подтверждении или опровержении гипотезы.\n"
   ]
  },
  {
   "cell_type": "code",
   "execution_count": 30,
   "metadata": {},
   "outputs": [
    {
     "data": {
      "image/png": "[encoded data removed]",
      "text/plain": [
       "<Figure size 576x360 with 2 Axes>"
      ]
     },
     "metadata": {
      "needs_background": "light"
     },
     "output_type": "display_data"
    }
   ],
   "source": [
    "churned_income = df[df['churn'] == 1]['EST_SALARY']\n",
    "not_churned_income = df[df['churn'] == 0]['EST_SALARY']\n",
    "\n",
    "plt.figure(figsize=(8, 5))\n",
    "\n",
    "plt.subplot(1, 2, 1)\n",
    "sns.histplot(churned_income, kde=True, color='red')\n",
    "plt.title('Распределение доходов ушедших клиентов')\n",
    "plt.subplot(1, 2, 2)\n",
    "sns.histplot(not_churned_income, kde=True, color='green')\n",
    "plt.title('Распределение доходов оставшихся клиентов')\n",
    "\n",
    "plt.tight_layout()\n",
    "plt.show()"
   ]
  },
  {
   "cell_type": "markdown",
   "metadata": {},
   "source": [
    "условия применимости t-теста Стьюдента:\n",
    "- Данные должны быть нормально распределены\n",
    "-  Обе выборки должны быть достаточно большими (обычно не менее 30 наблюдений), чтобы обеспечить стабильность результатов.\n",
    "- Выборки должны быть независимы друг от друга.\n",
    "- Не должно быть выбросов"
   ]
  },
  {
   "cell_type": "markdown",
   "metadata": {},
   "source": [
    "Как я упомянула ранее, в данных есть выбросы по столбцу EST_SALARY, для проверки гипотезы предлагаю их урегулировать\n",
    "\n",
    "Я проверю гипотезу как на выборке с выбросами, так и на выборке без выбросов\n"
   ]
  },
  {
   "cell_type": "markdown",
   "metadata": {},
   "source": [
    "Формулировка гипотезы\n",
    "\n",
    "Н0: Среднее значение доходов ушедших клиентов равно среднему значению доходов оставшихся клиентов\n",
    "\n",
    "Н1: Среднее значение доходов ушедших клиентов больше, чем у оставшихся клиентов"
   ]
  },
  {
   "cell_type": "code",
   "execution_count": 31,
   "metadata": {},
   "outputs": [
    {
     "name": "stdout",
     "output_type": "stream",
     "text": [
      "p-значение: 0.42504411936290176\n",
      "Не отвергаем нулевую гипотезу: нет достаточных доказательств, что среднее значение доходов ушедших клиентов больше\n"
     ]
    }
   ],
   "source": [
    "churned_income = df[df['churn'] == 1]['EST_SALARY']\n",
    "not_churned_income = df[df['churn'] == 0]['EST_SALARY']\n",
    "\n",
    "alpha = 0.05\n",
    "\n",
    "results = st.ttest_ind(\n",
    "    churned_income, \n",
    "    not_churned_income,\n",
    "    alternative='greater'  \n",
    ")\n",
    "\n",
    "print('p-значение:', results.pvalue)\n",
    "\n",
    "if (results.pvalue < alpha) and (results.statistic > 0):\n",
    "    print('Отвергаем нулевую гипотезу: среднее значение доходов ушедших клиентов больше')\n",
    "else:\n",
    "    print('Не отвергаем нулевую гипотезу: нет достаточных доказательств, что среднее значение доходов ушедших клиентов больше')\n"
   ]
  },
  {
   "cell_type": "code",
   "execution_count": 32,
   "metadata": {},
   "outputs": [],
   "source": [
    "Q1 = df['EST_SALARY'].quantile(0.25)\n",
    "Q3 = df['EST_SALARY'].quantile(0.75)\n",
    "IQR = Q3 - Q1\n",
    "\n",
    "lower_bound = Q1 - 1.5 * IQR\n",
    "upper_bound = Q3 + 1.5 * IQR\n",
    "\n",
    "filtered_df = df[(df['EST_SALARY'] >= lower_bound) & (df['EST_SALARY'] <= upper_bound)]\n"
   ]
  },
  {
   "cell_type": "code",
   "execution_count": 33,
   "metadata": {},
   "outputs": [
    {
     "data": {
      "image/png": "[encoded data removed]",
      "text/plain": [
       "<Figure size 576x360 with 2 Axes>"
      ]
     },
     "metadata": {
      "needs_background": "light"
     },
     "output_type": "display_data"
    }
   ],
   "source": [
    "churned_income = filtered_df[filtered_df['churn'] == 1]['EST_SALARY']\n",
    "not_churned_income = filtered_df[filtered_df['churn'] == 0]['EST_SALARY']\n",
    "\n",
    "plt.figure(figsize=(8, 5))\n",
    "\n",
    "plt.subplot(1, 2, 1)\n",
    "sns.histplot(churned_income, kde=True, color='red')\n",
    "plt.title('Распределение доходов ушедших клиентов')\n",
    "plt.subplot(1, 2, 2)\n",
    "sns.histplot(not_churned_income, kde=True, color='green')\n",
    "plt.title('Распределение доходов оставшихся клиентов')\n",
    "\n",
    "plt.tight_layout()\n",
    "plt.show()"
   ]
  },
  {
   "cell_type": "code",
   "execution_count": 34,
   "metadata": {},
   "outputs": [
    {
     "name": "stdout",
     "output_type": "stream",
     "text": [
      "p-значение: 4.728212262892671e-05\n",
      "Отвергаем нулевую гипотезу: среднее значение доходов ушедших клиентов больше\n"
     ]
    }
   ],
   "source": [
    "churned_income_f = filtered_df[filtered_df['churn'] == 1]['EST_SALARY']\n",
    "not_churned_income_f = filtered_df[filtered_df['churn'] == 0]['EST_SALARY']\n",
    "alpha = 0.05 # Уровень статистической значимости\n",
    "\n",
    "results = st.ttest_ind(\n",
    "    churned_income_f, \n",
    "    not_churned_income_f,\n",
    "    alternative='greater',\n",
    "    equal_var=False\n",
    ")\n",
    "\n",
    "print('p-значение:', results.pvalue)\n",
    "\n",
    "if (results.pvalue < alpha) and (results.statistic > 0):\n",
    "    print('Отвергаем нулевую гипотезу: среднее значение доходов ушедших клиентов больше')\n",
    "else:\n",
    "    print('Не отвергаем нулевую гипотезу: нет достаточных доказательств, что среднее значение доходов ушедших клиентов больше')\n"
   ]
  },
  {
   "cell_type": "markdown",
   "metadata": {},
   "source": [
    "После обработки выбросов, т к условием проведения ttesta является отсутстви выбросов,  результаты показали, что средний доход ушедших клиентов статистически значительно выше, чем у оставшихся."
   ]
  },
  {
   "cell_type": "markdown",
   "metadata": {},
   "source": [
    "#### Гипотеза 2: Влияние других признаков на отток.:\n",
    "##### Формулировка гипотезы:\n",
    "- Сформулировать гипотезу о влиянии одного или нескольких признаков на отток.\n",
    "##### Обоснование выбора теста:\n",
    "- Выбрать подходящий статистический тест для проверки гипотезы в зависимости от типа признаков (например, t-тест для сравнения средних, тест пропорций для бинарных признаков).\n",
    "- Проверить условия применимости выбранного теста.\n",
    "##### Проведение теста и анализ результатов:\n",
    "- Провести выбранный статистический тест.\n",
    "- Проанализировать статистическую значимость влияния признаков на отток.\n",
    "- Сделать вывод о подтверждении или опровержении гипотезы.\n"
   ]
  },
  {
   "cell_type": "markdown",
   "metadata": {},
   "source": [
    "Формулировка гипотезы\n",
    "\n",
    "H0: средние значения продуктов пользователей из двух групп равны.\n",
    "\n",
    "H1: среднее значение продуктов оставшихся пользователей меньше, чем среднее значение продуктов ушедших пользователей"
   ]
  },
  {
   "cell_type": "code",
   "execution_count": 35,
   "metadata": {},
   "outputs": [
    {
     "name": "stdout",
     "output_type": "stream",
     "text": [
      "p-value: 6.3355329503829354e-139\n",
      "Отвергаем нулевую гипотезу: среднее значение продуктов у оставшихся пользователей меньше, чем у ушедших\n"
     ]
    }
   ],
   "source": [
    "churned_products = df[df['churn'] == 1]['products']\n",
    "not_churned_products = df[df['churn'] == 0]['products']\n",
    "\n",
    "alpha = 0.05\n",
    "\n",
    "results = st.ttest_ind(churned_products, not_churned_products, equal_var=False)\n",
    "\n",
    "\n",
    "print(f'p-value: {results.pvalue / 2}')\n",
    "\n",
    "\n",
    "if (results.pvalue / 2) < alpha and results.statistic > 0:\n",
    "    print('Отвергаем нулевую гипотезу: среднее значение продуктов у оставшихся пользователей меньше, чем у ушедших')\n",
    "else:\n",
    "    print('Нет оснований отвергнуть нулевую гипотезу: средние значения продуктов пользователей из двух групп равны')"
   ]
  },
  {
   "cell_type": "markdown",
   "metadata": {},
   "source": [
    "На основе результатов t-теста Стьюдента можно сделать вывод, что среднее количество банковских продуктов у оставшихся пользователей статистически значимо отличается от среднего количества продуктов у ушедших пользователей. Конкретно, оставшиеся пользователи имеют статистически значимо меньшее среднее количество продуктов. "
   ]
  },
  {
   "cell_type": "markdown",
   "metadata": {},
   "source": [
    "### Подведение промежуточных итогов:\n",
    "#### Выводы на основе EDA, корреляционного анализа и проверки статистических гипотез:\n",
    "- Сформулировать выводы по результатам Exploratory Data Analysis (EDA), анализа корреляций и проверки статистических гипотез.\n",
    "- Определить признаки, которые будут основой для сегментации клиентов. Перечислить их и обосновать выбор на основе EDA, корреляций и гипотез, с учетом анализа оттока.\n"
   ]
  },
  {
   "cell_type": "markdown",
   "metadata": {},
   "source": [
    "- Корреляционный анализ показал, что количество продуктов, используемых клиентом, имеет умеренную положительную связь с оттоком. Это может указывать на то, что клиенты с большим количеством продуктов могут быть более склонны к уходу, возможно, из-за сложности управления несколькими продуктами или недостаточного обслуживания.\n",
    "- Статистические гипотезы подтвердили, что средний доход ушедших клиентов статистически значительно выше, чем у оставшихся, после обработки выбросов. Это может указывать на то, что более состоятельные клиенты могут искать более выгодные условия или лучшее обслуживание.\n",
    "- Анализ распределения признаков выявил, что возраст, гендер, наличие кредитной карты и географическое положение также влияют на отток, хотя и в меньшей степени."
   ]
  },
  {
   "cell_type": "markdown",
   "metadata": {},
   "source": [
    "#### Выделение ключевых признаков:\n",
    "- Выбрать признаки, оказывающие сильное влияние на отток клиентов\n",
    "- Подчеркнуть значимость выбранных признаков для последующей сегментации.\n",
    "- Обратить внимание на баланс между количеством сегментирующих признаков и их значимостью, чтобы сегменты охватывали достаточное количество клиентов, но при этом не были слишком узкими или широкими."
   ]
  },
  {
   "cell_type": "markdown",
   "metadata": {},
   "source": [
    "На основе проведенного анализа, ключевыми признаками, оказывающими сильное влияние на отток клиентов, являются:\n",
    "\n",
    "- Количество продуктов (products): Высокая корреляция с оттоком указывает на необходимость более внимательного изучения потребностей клиентов и их удовлетворенности различными продуктами. Выделю сегмент клиентов с более чем 2-мя продуктами банка\n",
    "- Баллы собственности (equity): Слабая до умеренной корреляция может отражать влияние финансового состояния клиента на его лояльность. Выделю сегмент с баллами собственности от 3-х до 7-ми\n",
    "- Возраст (age): Отрицательная корреляция с оттоком может указывать на то, что более молодые клиенты склонны к смене банка, в то время как более старшие клиенты более лояльны, но судя по графикам проверить стоит две группы клиентов разных возрастов.\n",
    " - проверю группы 20-35 лет и 50-60 лет\n",
    "- Доход (EST_SALARY): Несмотря на низкую корреляцию, статистический анализ показал значимость этого признака, что делает его важным для дальнейшего рассмотрения. В сегмент выделю оценочный доход выше среднего."
   ]
  },
  {
   "cell_type": "markdown",
   "metadata": {},
   "source": [
    "## шаг. Сегментация клиентов:\n"
   ]
  },
  {
   "cell_type": "markdown",
   "metadata": {},
   "source": [
    "### Определить критерии сегментации на основе ранжирования признаков по их влиянию на отток клиентов.\n"
   ]
  },
  {
   "cell_type": "markdown",
   "metadata": {},
   "source": [
    "Критерии сегментации:\n",
    "- Количество продуктов (products): от 3-х\n",
    "\n",
    "- Баллы собственности (equity): 3-7\n",
    "\n",
    "- Возраст (age): Возрастные группы можно разделить на молодых (22-35 лет) и возрастных (50-60 лет) клиентов.\n",
    "\n",
    "- Доход (EST_SALARY): Сегментация по доходу может включать группы с доходом выше среднего.\n",
    "\n",
    "- Пол: ранее выяснили, что среди мужчин отток выше\n",
    "\n",
    "- Город: отток клиентов из Ярославля немного выше"
   ]
  },
  {
   "cell_type": "markdown",
   "metadata": {},
   "source": [
    "Сегменты, которые я хочу выделить :\n",
    "\n",
    "- **Сегмент 1:** Молодые активные пользователи продуктов. Включает клиентов в возрасте от 20 до 36 лет, которые используют не менее трех банковских продуктов.\n",
    "\n",
    "- **Сегмент 2:** Возрастные клиенты из Ярославля с баллами собственности от 3 до 7. Охватывает клиентов в возрасте от 50 до 60 лет из Ярославля с баллами собственности от 3 до 7.\n",
    "\n",
    "- **Сегмент 3:** Молодые мужчины с баллами собственности от 3 до 7. Включает мужчин в возрасте от 20 до 35 лет с баллами собственности от 3 до 7.\n",
    "\n",
    "- **Сегмент 4:** Молодые жители Ярославля с высоким доходом. Включает клиентов в возрасте от 20 до 35 лет из Ярославля, чей доход выше среднего.\n",
    "\n",
    "- **Сегмент 5:** Возрастные жители Ярославля. Охватывает клиентов в возрасте от 50 до 60 лет, проживающих в Ярославле.\n",
    "\n",
    "- **Сегмент 6:** Возрастные мужчины. Включает мужчин в возрасте от 50 до 60 лет.\n",
    "\n",
    "- **Сегмент 7:** Возрастные клиенты с высоким доходом. Охватывает клиентов в возрасте от 50 до 60 лет с доходом выше среднего."
   ]
  },
  {
   "cell_type": "markdown",
   "metadata": {},
   "source": [
    "### Сформировать сегменты клиентов в соответствии с определенными критериями, учитывая, что каждый сегмент должен включать не менее 500 клиентов.\n"
   ]
  },
  {
   "cell_type": "code",
   "execution_count": 36,
   "metadata": {},
   "outputs": [
    {
     "name": "stdout",
     "output_type": "stream",
     "text": [
      "Сегмент 'segments_1': 529 клиентов\n",
      "Сегмент 'segments_2': 566 клиентов\n",
      "Сегмент 'segments_3': 1014 клиентов\n",
      "Сегмент 'segments_4': 586 клиентов\n",
      "Сегмент 'segments_5': 957 клиентов\n",
      "Сегмент 'segments_6': 777 клиентов\n",
      "Сегмент 'segments_7': 514 клиентов\n"
     ]
    }
   ],
   "source": [
    "def segment_filter(df):\n",
    "    segments = {}\n",
    "    mean_salary = df['EST_SALARY'].mean()\n",
    "#на один год расширю сегмент, т к прищнаки важные, о до 500 немного не хватает\n",
    "    segments['segments_1'] = df[\n",
    "        (df['age'] >= 20) & (df['age'] <= 36) &\n",
    "        (df['products'] >= 3)\n",
    "    ]\n",
    "\n",
    "    segments['segments_2'] = df[\n",
    "        (df['age'] >= 50) & (df['age'] <= 60) &\n",
    "        (df['equity'] >= 3) & (df['equity'] <= 7) &\n",
    "        (df['city'] == 'Ярославль')\n",
    "    ]\n",
    "\n",
    "    segments['segments_3'] = df[\n",
    "        (df['age'] >= 20) & (df['age'] <= 35) &\n",
    "        (df['equity'] >= 3) & (df['equity'] <= 7) &\n",
    "        (df['gender'] == 'М')\n",
    "    ]\n",
    "\n",
    "    segments['segments_4'] = df[\n",
    "        (df['age'] >= 20) & (df['age'] <= 35) &\n",
    "        (df['EST_SALARY'] > mean_salary) &\n",
    "        (df['city'] == 'Ярославль')\n",
    "    ]\n",
    "\n",
    "    segments['segments_5'] = df[\n",
    "        (df['age'] >= 50) & (df['age'] <= 60) &\n",
    "        (df['city'] == 'Ярославль')\n",
    "    ]\n",
    "\n",
    "    segments['segments_6'] = df[\n",
    "        (df['age'] >= 50) & (df['age'] <= 60) &\n",
    "        (df['gender'] == 'М')\n",
    "    ]\n",
    "\n",
    "    segments['segments_7'] = df[\n",
    "        (df['age'] >= 50) & (df['age'] <= 60) &\n",
    "        (df['EST_SALARY'] > mean_salary)\n",
    "    ]\n",
    "\n",
    "    for segment_name, segment_df in segments.items():\n",
    "        print(f\"Сегмент '{segment_name}': {segment_df.shape[0]} клиентов\")\n",
    "\n",
    "    return segments\n",
    "\n",
    "segments = segment_filter(df)"
   ]
  },
  {
   "cell_type": "markdown",
   "metadata": {},
   "source": [
    "### Для каждого сформированного сегмента:\n",
    "\n",
    "- Оценить уровень оттока в сегменте как отношение отточных клиентов к их общему числу."
   ]
  },
  {
   "cell_type": "code",
   "execution_count": 37,
   "metadata": {},
   "outputs": [
    {
     "name": "stdout",
     "output_type": "stream",
     "text": [
      "Доля отточных клиентов в segments_1: 42.91%\n",
      "Доля отточных клиентов в segments_2: 38.16%\n",
      "Доля отточных клиентов в segments_3: 38.76%\n",
      "Доля отточных клиентов в segments_4: 25.77%\n",
      "Доля отточных клиентов в segments_5: 27.38%\n",
      "Доля отточных клиентов в segments_6: 33.33%\n",
      "Доля отточных клиентов в segments_7: 25.49%\n"
     ]
    }
   ],
   "source": [
    "total_customers = {}\n",
    "churned_customers = {}\n",
    "churn_rate = {}\n",
    "\n",
    "for segment in segments:\n",
    "    total_customers[segment] = len(segments[segment])\n",
    "    churned_customers[segment] = segments[segment]['churn'].sum()\n",
    "\n",
    "for segment in segments:\n",
    "    churn_rate[segment] = (churned_customers[segment] / total_customers[segment]) * 100\n",
    "\n",
    "for segment in churn_rate:\n",
    "    print(f\"Доля отточных клиентов в {segment}: {churn_rate[segment]:.2f}%\")"
   ]
  },
  {
   "cell_type": "code",
   "execution_count": 38,
   "metadata": {},
   "outputs": [
    {
     "name": "stdout",
     "output_type": "stream",
     "text": [
      "Процент оттока по общим данным: 18.23%\n"
     ]
    }
   ],
   "source": [
    "total_clients = len(df)\n",
    "churned_clients = df['churn'].sum()\n",
    "churn_rate = (churned_clients / total_clients) * 100\n",
    "print(f\"Процент оттока по общим данным: {churn_rate:.2f}%\")"
   ]
  },
  {
   "cell_type": "markdown",
   "metadata": {},
   "source": [
    "Мы разделили всех наших клиентов на группы, чтобы понять, кто чаще всего уходит из банка и почему.Доля оттока во всех  сформированных сегментах превышаает долю оттока по общим данным. Получилось семь групп, и в каждой из них более 500 клиентов. Далее оценили уровень оттока в каждом сегменте и уже можем приступить к приоритизации."
   ]
  },
  {
   "cell_type": "markdown",
   "metadata": {},
   "source": [
    "## шаг. Приоритизация сегментов:\n",
    "### Определить сегменты с наивысшим уровнем оттока.\n",
    "\n",
    "### Приоритизировать сегменты для работы маркетингового отдела, учитывая ограниченные ресурсы (всего два сотрудника в отделе маркетинга без доступа к автоматизированным системам)."
   ]
  },
  {
   "cell_type": "markdown",
   "metadata": {},
   "source": [
    "Предлагаю работать с сегментами по убыванию процента оттока, в таком случае - основной срез, на который мы должны обратить внимание это \n",
    "\n",
    "**Сегмент 1: Молодые активные пользователи продуктов. Включает клиентов в возрасте от 20 до 36 лет, которые используют не менее трех банковских продуктов.**\n",
    "\n",
    "**Сегмент 3: Молодые мужчины с баллами собственности от 3 до 7. Включает мужчин в возрасте от 20 до 35 лет с баллами собственности от 3 до 7.** ( я бы порекомендовала сделать упор на данный сегмент, т к он включает бОльшее количество пользователей и бОльшее количество признаков сегментирования в сравнении с 1 и 2)\n",
    "\n",
    "Сегмент 2: Возрастные клиенты из Ярославля с баллами собственности отт 3 до 7. Охватывает клиентов в возрасте от 50 до 60 лет из Ярославля с баллами собственности от 3 до 7."
   ]
  },
  {
   "cell_type": "markdown",
   "metadata": {},
   "source": [
    "## шаг. Формирование рекомендаций по работе с сегментами:\n",
    "### Для каждого сегмента с высоким оттоком, разработать таргетированные рекомендации по работе с ними.\n"
   ]
  },
  {
   "cell_type": "markdown",
   "metadata": {},
   "source": [
    "Итак, из тех сегментов, что я выделила, хочу предложить таргетированные рекомендации:\n",
    "\n",
    "**Сегмент 1: Молодые активные пользователи продуктов**\n",
    "\n",
    "- Персонализированные финансовые рекомендации и планы, которые разработает ИИ помощник в приложении банка\n",
    "- Внедрение игровых элементов в мобильное приложение банка для повышения вовлеченности и лояльности.\n",
    "- Специальные предложения и скидки: Партнерство с популярными брендами и сервисами для предоставления эксклюзивных скидок и кэшбека.\n",
    "- Статистика по тратам/доходам/инвестициям за неделю/месяц/год по подписке в приложении банка\n",
    "\n",
    "**Сегмент 3: Молодые мужчины с баллами собственности от 3 до 7**\n",
    "\n",
    "- Инвестиционные инструменты: Предложение инструментов для управления инвестициями и активами, включая криптовалюты и ценные бумаги.\n",
    "- Консультации по недвижимости: Предоставление услуг по консультациям в области покупки и инвестирования в недвижимость.\n",
    "- Эксклюзивные клубы и мероприятия: Создание закрытых клубов с аукционами для обмена опытом среди клиентов с высокими баллами собственности.\n",
    "\n",
    "**Сегмент 2: Возрастные клиенты из Ярославля с баллами собственности от 3 до 7**\n",
    "\n",
    "- Персонализированные пенсионные планы: Разработка индивидуальных пенсионных планов, учитывающих личные финансовые цели и потребности.\n",
    "- Услуги по управлению активами: Предложение услуг по управлению активами и недвижимостью, включая налоговое планирование.\n",
    "- Культурные и образовательные мероприятия только для клиентов банка: Организация мероприятий, таких как лекции, семинары и экскурсии, специально для возрастной категории клиентов.\n",
    "- Удобные отделения банков с хорошим ремонтом и множеством мест для отдыха"
   ]
  },
  {
   "cell_type": "markdown",
   "metadata": {},
   "source": [
    "**Презентация**\n",
    "https://disk.yandex.ru/i/wkyUMkAaMAPUPQ"
   ]
  }
 ],
 "metadata": {
  "ExecuteTimeLog": [
   {
    "duration": 373,
    "start_time": "2024-05-21T08:45:05.405Z"
   },
   {
    "duration": 100,
    "start_time": "2024-05-21T08:45:51.366Z"
   },
   {
    "duration": 128,
    "start_time": "2024-05-21T08:51:25.228Z"
   },
   {
    "duration": 150,
    "start_time": "2024-05-21T08:52:36.285Z"
   },
   {
    "duration": 91,
    "start_time": "2024-05-21T08:53:44.661Z"
   },
   {
    "duration": 114,
    "start_time": "2024-05-21T08:54:43.951Z"
   },
   {
    "duration": 127,
    "start_time": "2024-05-21T08:55:47.977Z"
   },
   {
    "duration": 100,
    "start_time": "2024-05-21T08:56:03.416Z"
   },
   {
    "duration": 50,
    "start_time": "2024-05-21T10:23:53.475Z"
   },
   {
    "duration": 48,
    "start_time": "2024-05-21T10:24:38.019Z"
   },
   {
    "duration": 992,
    "start_time": "2024-05-21T11:20:54.035Z"
   },
   {
    "duration": 50,
    "start_time": "2024-05-21T11:21:36.519Z"
   },
   {
    "duration": 2,
    "start_time": "2024-05-21T11:22:13.242Z"
   },
   {
    "duration": 10,
    "start_time": "2024-05-21T11:22:19.442Z"
   },
   {
    "duration": 3,
    "start_time": "2024-05-21T11:22:56.257Z"
   },
   {
    "duration": 4591,
    "start_time": "2024-05-21T11:23:01.896Z"
   },
   {
    "duration": 163,
    "start_time": "2024-05-21T11:25:46.698Z"
   },
   {
    "duration": 152,
    "start_time": "2024-05-21T11:25:57.817Z"
   },
   {
    "duration": 4771,
    "start_time": "2024-05-21T11:26:04.795Z"
   },
   {
    "duration": 970,
    "start_time": "2024-05-21T11:26:46.107Z"
   },
   {
    "duration": 515,
    "start_time": "2024-05-21T11:27:38.213Z"
   },
   {
    "duration": 1029,
    "start_time": "2024-05-21T11:31:46.159Z"
   },
   {
    "duration": 4961,
    "start_time": "2024-05-21T11:31:58.116Z"
   },
   {
    "duration": 555,
    "start_time": "2024-05-21T11:32:13.676Z"
   },
   {
    "duration": 575,
    "start_time": "2024-05-21T11:34:10.680Z"
   },
   {
    "duration": 144,
    "start_time": "2024-05-21T11:36:03.710Z"
   },
   {
    "duration": 565,
    "start_time": "2024-05-21T11:36:18.594Z"
   },
   {
    "duration": 1219,
    "start_time": "2024-05-21T11:36:40.830Z"
   },
   {
    "duration": 112,
    "start_time": "2024-05-21T11:36:42.052Z"
   },
   {
    "duration": 47,
    "start_time": "2024-05-21T11:36:42.165Z"
   },
   {
    "duration": 4568,
    "start_time": "2024-05-21T11:36:42.215Z"
   },
   {
    "duration": 937,
    "start_time": "2024-05-21T11:36:46.786Z"
   },
   {
    "duration": 110,
    "start_time": "2024-05-21T11:36:47.725Z"
   },
   {
    "duration": 612,
    "start_time": "2024-05-21T11:37:18.908Z"
   },
   {
    "duration": 51,
    "start_time": "2024-05-21T11:41:00.286Z"
   },
   {
    "duration": 852,
    "start_time": "2024-05-21T12:16:23.570Z"
   },
   {
    "duration": 503,
    "start_time": "2024-05-21T12:16:32.400Z"
   },
   {
    "duration": 513,
    "start_time": "2024-05-21T12:17:02.608Z"
   },
   {
    "duration": 564,
    "start_time": "2024-05-21T12:17:09.069Z"
   },
   {
    "duration": 549,
    "start_time": "2024-05-21T12:17:18.775Z"
   },
   {
    "duration": 137,
    "start_time": "2024-05-21T12:17:31.482Z"
   },
   {
    "duration": 648,
    "start_time": "2024-05-21T12:17:35.133Z"
   },
   {
    "duration": 551,
    "start_time": "2024-05-21T12:17:48.035Z"
   },
   {
    "duration": 550,
    "start_time": "2024-05-21T12:17:55.936Z"
   },
   {
    "duration": 16,
    "start_time": "2024-05-21T13:29:28.568Z"
   },
   {
    "duration": 18,
    "start_time": "2024-05-21T13:33:08.482Z"
   },
   {
    "duration": 16,
    "start_time": "2024-05-21T13:36:52.478Z"
   },
   {
    "duration": 15,
    "start_time": "2024-05-21T13:48:12.689Z"
   },
   {
    "duration": 14,
    "start_time": "2024-05-21T13:54:03.527Z"
   },
   {
    "duration": 8,
    "start_time": "2024-05-21T13:55:31.742Z"
   },
   {
    "duration": 8,
    "start_time": "2024-05-21T13:55:59.180Z"
   },
   {
    "duration": 6,
    "start_time": "2024-05-21T13:57:05.324Z"
   },
   {
    "duration": 5,
    "start_time": "2024-05-21T13:57:30.827Z"
   },
   {
    "duration": 15,
    "start_time": "2024-05-21T13:57:55.232Z"
   },
   {
    "duration": 25,
    "start_time": "2024-05-21T14:03:36.361Z"
   },
   {
    "duration": 14,
    "start_time": "2024-05-21T14:07:51.791Z"
   },
   {
    "duration": 93,
    "start_time": "2024-05-21T14:15:38.056Z"
   },
   {
    "duration": 29,
    "start_time": "2024-05-21T14:56:39.784Z"
   },
   {
    "duration": 24,
    "start_time": "2024-05-21T14:57:09.468Z"
   },
   {
    "duration": 13,
    "start_time": "2024-05-21T14:57:18.816Z"
   },
   {
    "duration": 59,
    "start_time": "2024-05-21T14:57:57.316Z"
   },
   {
    "duration": 59,
    "start_time": "2024-05-21T14:58:33.456Z"
   },
   {
    "duration": 15,
    "start_time": "2024-05-21T14:58:44.040Z"
   },
   {
    "duration": 10,
    "start_time": "2024-05-21T14:59:09.273Z"
   },
   {
    "duration": 7,
    "start_time": "2024-05-21T14:59:48.097Z"
   },
   {
    "duration": 18,
    "start_time": "2024-05-21T15:00:28.546Z"
   },
   {
    "duration": 1231,
    "start_time": "2024-05-21T15:02:09.128Z"
   },
   {
    "duration": 112,
    "start_time": "2024-05-21T15:02:10.362Z"
   },
   {
    "duration": 42,
    "start_time": "2024-05-21T15:02:10.479Z"
   },
   {
    "duration": 4519,
    "start_time": "2024-05-21T15:02:10.523Z"
   },
   {
    "duration": 978,
    "start_time": "2024-05-21T15:02:15.060Z"
   },
   {
    "duration": 555,
    "start_time": "2024-05-21T15:02:16.039Z"
   },
   {
    "duration": 12,
    "start_time": "2024-05-21T15:02:16.596Z"
   },
   {
    "duration": 62,
    "start_time": "2024-05-21T15:02:16.609Z"
   },
   {
    "duration": 64,
    "start_time": "2024-05-21T15:02:16.674Z"
   },
   {
    "duration": 354,
    "start_time": "2024-05-21T15:02:16.740Z"
   },
   {
    "duration": 0,
    "start_time": "2024-05-21T15:02:17.095Z"
   },
   {
    "duration": 1159,
    "start_time": "2024-05-21T15:08:47.983Z"
   },
   {
    "duration": 4,
    "start_time": "2024-05-21T15:08:56.008Z"
   },
   {
    "duration": 1504,
    "start_time": "2024-05-21T15:09:24.414Z"
   },
   {
    "duration": 1219,
    "start_time": "2024-05-21T15:09:51.009Z"
   },
   {
    "duration": 3,
    "start_time": "2024-05-21T15:10:50.184Z"
   },
   {
    "duration": 1171,
    "start_time": "2024-05-21T15:14:42.546Z"
   },
   {
    "duration": 1267,
    "start_time": "2024-05-21T15:21:24.415Z"
   },
   {
    "duration": 1186,
    "start_time": "2024-05-21T15:44:35.438Z"
   },
   {
    "duration": 145,
    "start_time": "2024-05-21T15:44:36.626Z"
   },
   {
    "duration": 40,
    "start_time": "2024-05-21T15:44:36.773Z"
   },
   {
    "duration": 4552,
    "start_time": "2024-05-21T15:44:36.815Z"
   },
   {
    "duration": 956,
    "start_time": "2024-05-21T15:44:41.369Z"
   },
   {
    "duration": 567,
    "start_time": "2024-05-21T15:44:42.326Z"
   },
   {
    "duration": 10,
    "start_time": "2024-05-21T15:44:42.895Z"
   },
   {
    "duration": 23,
    "start_time": "2024-05-21T15:44:42.907Z"
   },
   {
    "duration": 4,
    "start_time": "2024-05-21T15:44:42.932Z"
   },
   {
    "duration": 85565,
    "start_time": "2024-05-21T15:44:42.960Z"
   },
   {
    "duration": 11,
    "start_time": "2024-05-21T15:52:04.290Z"
   },
   {
    "duration": 10,
    "start_time": "2024-05-21T15:52:47.515Z"
   },
   {
    "duration": 1308,
    "start_time": "2024-05-22T06:49:52.904Z"
   },
   {
    "duration": 117,
    "start_time": "2024-05-22T06:49:54.213Z"
   },
   {
    "duration": 35,
    "start_time": "2024-05-22T06:49:54.332Z"
   },
   {
    "duration": 3758,
    "start_time": "2024-05-22T06:49:54.368Z"
   },
   {
    "duration": 831,
    "start_time": "2024-05-22T06:49:58.128Z"
   },
   {
    "duration": 476,
    "start_time": "2024-05-22T06:49:58.960Z"
   },
   {
    "duration": 9,
    "start_time": "2024-05-22T06:49:59.437Z"
   },
   {
    "duration": 20,
    "start_time": "2024-05-22T06:49:59.447Z"
   },
   {
    "duration": 3,
    "start_time": "2024-05-22T06:49:59.469Z"
   },
   {
    "duration": 9,
    "start_time": "2024-05-22T06:49:59.474Z"
   },
   {
    "duration": 15,
    "start_time": "2024-05-22T06:55:46.469Z"
   },
   {
    "duration": 6,
    "start_time": "2024-05-22T06:55:59.928Z"
   },
   {
    "duration": 9,
    "start_time": "2024-05-22T07:22:27.391Z"
   },
   {
    "duration": 8,
    "start_time": "2024-05-22T07:27:14.453Z"
   },
   {
    "duration": 9,
    "start_time": "2024-05-22T07:27:49.071Z"
   },
   {
    "duration": 104,
    "start_time": "2024-05-22T09:05:04.555Z"
   },
   {
    "duration": 6,
    "start_time": "2024-05-22T09:05:24.819Z"
   },
   {
    "duration": 5,
    "start_time": "2024-05-22T09:13:36.051Z"
   },
   {
    "duration": 1118,
    "start_time": "2024-05-22T09:13:50.486Z"
   },
   {
    "duration": 107,
    "start_time": "2024-05-22T09:13:51.606Z"
   },
   {
    "duration": 34,
    "start_time": "2024-05-22T09:13:51.714Z"
   },
   {
    "duration": 3777,
    "start_time": "2024-05-22T09:13:51.749Z"
   },
   {
    "duration": 829,
    "start_time": "2024-05-22T09:13:55.528Z"
   },
   {
    "duration": 483,
    "start_time": "2024-05-22T09:13:56.358Z"
   },
   {
    "duration": 10,
    "start_time": "2024-05-22T09:13:56.842Z"
   },
   {
    "duration": 35,
    "start_time": "2024-05-22T09:13:56.854Z"
   },
   {
    "duration": 4,
    "start_time": "2024-05-22T09:13:56.890Z"
   },
   {
    "duration": 23,
    "start_time": "2024-05-22T09:13:56.896Z"
   },
   {
    "duration": 12,
    "start_time": "2024-05-22T09:13:56.921Z"
   },
   {
    "duration": 137,
    "start_time": "2024-05-22T09:13:56.935Z"
   },
   {
    "duration": 6,
    "start_time": "2024-05-22T09:13:57.074Z"
   },
   {
    "duration": 8,
    "start_time": "2024-05-22T09:24:48.681Z"
   },
   {
    "duration": 59,
    "start_time": "2024-05-22T09:25:44.898Z"
   },
   {
    "duration": 8,
    "start_time": "2024-05-22T09:27:11.130Z"
   },
   {
    "duration": 11,
    "start_time": "2024-05-22T09:36:21.323Z"
   },
   {
    "duration": 15,
    "start_time": "2024-05-22T10:12:00.636Z"
   },
   {
    "duration": 18,
    "start_time": "2024-05-22T10:13:53.398Z"
   },
   {
    "duration": 7,
    "start_time": "2024-05-22T10:16:38.341Z"
   },
   {
    "duration": 26,
    "start_time": "2024-05-22T10:21:35.790Z"
   },
   {
    "duration": 1064,
    "start_time": "2024-05-22T10:22:01.059Z"
   },
   {
    "duration": 90,
    "start_time": "2024-05-22T10:22:02.125Z"
   },
   {
    "duration": 35,
    "start_time": "2024-05-22T10:22:02.217Z"
   },
   {
    "duration": 3748,
    "start_time": "2024-05-22T10:22:02.254Z"
   },
   {
    "duration": 841,
    "start_time": "2024-05-22T10:22:06.003Z"
   },
   {
    "duration": 483,
    "start_time": "2024-05-22T10:22:06.846Z"
   },
   {
    "duration": 9,
    "start_time": "2024-05-22T10:22:07.330Z"
   },
   {
    "duration": 19,
    "start_time": "2024-05-22T10:22:07.340Z"
   },
   {
    "duration": 10,
    "start_time": "2024-05-22T10:22:07.361Z"
   },
   {
    "duration": 45,
    "start_time": "2024-05-22T10:22:07.372Z"
   },
   {
    "duration": 25,
    "start_time": "2024-05-22T10:22:07.419Z"
   },
   {
    "duration": 122,
    "start_time": "2024-05-22T10:22:07.445Z"
   },
   {
    "duration": 5,
    "start_time": "2024-05-22T10:22:07.569Z"
   },
   {
    "duration": 22,
    "start_time": "2024-05-22T10:22:07.575Z"
   },
   {
    "duration": 18,
    "start_time": "2024-05-22T10:22:07.599Z"
   },
   {
    "duration": 37,
    "start_time": "2024-05-22T10:22:07.619Z"
   },
   {
    "duration": 3,
    "start_time": "2024-05-22T10:26:19.926Z"
   },
   {
    "duration": 36,
    "start_time": "2024-05-22T10:26:58.361Z"
   },
   {
    "duration": 45,
    "start_time": "2024-05-22T10:27:48.214Z"
   },
   {
    "duration": 1068,
    "start_time": "2024-05-22T10:28:37.234Z"
   },
   {
    "duration": 107,
    "start_time": "2024-05-22T10:28:38.304Z"
   },
   {
    "duration": 34,
    "start_time": "2024-05-22T10:28:38.412Z"
   },
   {
    "duration": 3718,
    "start_time": "2024-05-22T10:28:38.448Z"
   },
   {
    "duration": 853,
    "start_time": "2024-05-22T10:28:42.167Z"
   },
   {
    "duration": 503,
    "start_time": "2024-05-22T10:28:43.022Z"
   },
   {
    "duration": 8,
    "start_time": "2024-05-22T10:28:43.527Z"
   },
   {
    "duration": 27,
    "start_time": "2024-05-22T10:28:43.537Z"
   },
   {
    "duration": 5,
    "start_time": "2024-05-22T10:28:43.566Z"
   },
   {
    "duration": 41,
    "start_time": "2024-05-22T10:28:43.573Z"
   },
   {
    "duration": 11,
    "start_time": "2024-05-22T10:28:43.615Z"
   },
   {
    "duration": 116,
    "start_time": "2024-05-22T10:28:43.628Z"
   },
   {
    "duration": 5,
    "start_time": "2024-05-22T10:28:43.746Z"
   },
   {
    "duration": 8,
    "start_time": "2024-05-22T10:28:43.753Z"
   },
   {
    "duration": 14,
    "start_time": "2024-05-22T10:28:43.762Z"
   },
   {
    "duration": 65,
    "start_time": "2024-05-22T10:28:43.777Z"
   },
   {
    "duration": 5,
    "start_time": "2024-05-22T10:36:08.894Z"
   },
   {
    "duration": 41,
    "start_time": "2024-05-22T10:36:12.872Z"
   },
   {
    "duration": 1102,
    "start_time": "2024-05-22T10:36:36.229Z"
   },
   {
    "duration": 95,
    "start_time": "2024-05-22T10:36:37.333Z"
   },
   {
    "duration": 35,
    "start_time": "2024-05-22T10:36:37.429Z"
   },
   {
    "duration": 3756,
    "start_time": "2024-05-22T10:36:37.466Z"
   },
   {
    "duration": 849,
    "start_time": "2024-05-22T10:36:41.223Z"
   },
   {
    "duration": 492,
    "start_time": "2024-05-22T10:36:42.074Z"
   },
   {
    "duration": 9,
    "start_time": "2024-05-22T10:36:42.568Z"
   },
   {
    "duration": 68,
    "start_time": "2024-05-22T10:36:42.578Z"
   },
   {
    "duration": 10,
    "start_time": "2024-05-22T10:36:42.648Z"
   },
   {
    "duration": 27,
    "start_time": "2024-05-22T10:36:42.660Z"
   },
   {
    "duration": 16,
    "start_time": "2024-05-22T10:36:42.688Z"
   },
   {
    "duration": 106,
    "start_time": "2024-05-22T10:36:42.706Z"
   },
   {
    "duration": 5,
    "start_time": "2024-05-22T10:36:42.814Z"
   },
   {
    "duration": 8,
    "start_time": "2024-05-22T10:36:42.821Z"
   },
   {
    "duration": 11,
    "start_time": "2024-05-22T10:36:42.830Z"
   },
   {
    "duration": 4,
    "start_time": "2024-05-22T10:36:42.842Z"
   },
   {
    "duration": 66,
    "start_time": "2024-05-22T10:36:42.848Z"
   },
   {
    "duration": 1151,
    "start_time": "2024-05-22T10:47:02.481Z"
   },
   {
    "duration": 97,
    "start_time": "2024-05-22T10:47:03.633Z"
   },
   {
    "duration": 34,
    "start_time": "2024-05-22T10:47:03.731Z"
   },
   {
    "duration": 3747,
    "start_time": "2024-05-22T10:47:03.767Z"
   },
   {
    "duration": 849,
    "start_time": "2024-05-22T10:47:07.515Z"
   },
   {
    "duration": 483,
    "start_time": "2024-05-22T10:47:08.366Z"
   },
   {
    "duration": 8,
    "start_time": "2024-05-22T10:47:08.851Z"
   },
   {
    "duration": 20,
    "start_time": "2024-05-22T10:47:08.861Z"
   },
   {
    "duration": 3,
    "start_time": "2024-05-22T10:47:08.883Z"
   },
   {
    "duration": 30,
    "start_time": "2024-05-22T10:47:08.889Z"
   },
   {
    "duration": 8,
    "start_time": "2024-05-22T10:47:08.921Z"
   },
   {
    "duration": 114,
    "start_time": "2024-05-22T10:47:08.930Z"
   },
   {
    "duration": 6,
    "start_time": "2024-05-22T10:47:09.046Z"
   },
   {
    "duration": 8,
    "start_time": "2024-05-22T10:47:09.053Z"
   },
   {
    "duration": 13,
    "start_time": "2024-05-22T10:47:09.063Z"
   },
   {
    "duration": 6,
    "start_time": "2024-05-22T10:47:09.077Z"
   },
   {
    "duration": 60,
    "start_time": "2024-05-22T10:47:09.084Z"
   },
   {
    "duration": 20,
    "start_time": "2024-05-22T10:55:34.795Z"
   },
   {
    "duration": 1052,
    "start_time": "2024-05-22T10:56:43.462Z"
   },
   {
    "duration": 166,
    "start_time": "2024-05-22T10:56:44.516Z"
   },
   {
    "duration": 35,
    "start_time": "2024-05-22T10:56:44.683Z"
   },
   {
    "duration": 3703,
    "start_time": "2024-05-22T10:56:44.719Z"
   },
   {
    "duration": 841,
    "start_time": "2024-05-22T10:56:48.423Z"
   },
   {
    "duration": 487,
    "start_time": "2024-05-22T10:56:49.266Z"
   },
   {
    "duration": 8,
    "start_time": "2024-05-22T10:56:49.755Z"
   },
   {
    "duration": 20,
    "start_time": "2024-05-22T10:56:49.764Z"
   },
   {
    "duration": 3,
    "start_time": "2024-05-22T10:56:49.786Z"
   },
   {
    "duration": 29,
    "start_time": "2024-05-22T10:56:49.791Z"
   },
   {
    "duration": 8,
    "start_time": "2024-05-22T10:56:49.822Z"
   },
   {
    "duration": 118,
    "start_time": "2024-05-22T10:56:49.831Z"
   },
   {
    "duration": 5,
    "start_time": "2024-05-22T10:56:49.950Z"
   },
   {
    "duration": 7,
    "start_time": "2024-05-22T10:56:49.956Z"
   },
   {
    "duration": 10,
    "start_time": "2024-05-22T10:56:49.964Z"
   },
   {
    "duration": 4,
    "start_time": "2024-05-22T10:56:49.975Z"
   },
   {
    "duration": 61,
    "start_time": "2024-05-22T10:56:49.981Z"
   },
   {
    "duration": 21,
    "start_time": "2024-05-22T10:56:50.044Z"
   },
   {
    "duration": 22,
    "start_time": "2024-05-22T10:57:34.679Z"
   },
   {
    "duration": 23,
    "start_time": "2024-05-22T10:58:30.007Z"
   },
   {
    "duration": 1107,
    "start_time": "2024-05-22T10:59:10.897Z"
   },
   {
    "duration": 84,
    "start_time": "2024-05-22T10:59:12.006Z"
   },
   {
    "duration": 35,
    "start_time": "2024-05-22T10:59:12.091Z"
   },
   {
    "duration": 3696,
    "start_time": "2024-05-22T10:59:12.127Z"
   },
   {
    "duration": 868,
    "start_time": "2024-05-22T10:59:15.846Z"
   },
   {
    "duration": 514,
    "start_time": "2024-05-22T10:59:16.716Z"
   },
   {
    "duration": 9,
    "start_time": "2024-05-22T10:59:17.231Z"
   },
   {
    "duration": 22,
    "start_time": "2024-05-22T10:59:17.241Z"
   },
   {
    "duration": 3,
    "start_time": "2024-05-22T10:59:17.265Z"
   },
   {
    "duration": 22,
    "start_time": "2024-05-22T10:59:17.271Z"
   },
   {
    "duration": 25,
    "start_time": "2024-05-22T10:59:17.294Z"
   },
   {
    "duration": 111,
    "start_time": "2024-05-22T10:59:17.320Z"
   },
   {
    "duration": 4,
    "start_time": "2024-05-22T10:59:17.433Z"
   },
   {
    "duration": 25,
    "start_time": "2024-05-22T10:59:17.439Z"
   },
   {
    "duration": 11,
    "start_time": "2024-05-22T10:59:17.465Z"
   },
   {
    "duration": 5,
    "start_time": "2024-05-22T10:59:17.477Z"
   },
   {
    "duration": 48,
    "start_time": "2024-05-22T10:59:17.483Z"
   },
   {
    "duration": 111,
    "start_time": "2024-05-22T10:59:17.533Z"
   },
   {
    "duration": 22,
    "start_time": "2024-05-22T11:00:07.414Z"
   },
   {
    "duration": 5,
    "start_time": "2024-05-22T11:01:31.238Z"
   },
   {
    "duration": 7,
    "start_time": "2024-05-22T11:01:53.425Z"
   },
   {
    "duration": 1072,
    "start_time": "2024-05-22T11:04:07.439Z"
   },
   {
    "duration": 98,
    "start_time": "2024-05-22T11:04:08.513Z"
   },
   {
    "duration": 36,
    "start_time": "2024-05-22T11:04:08.613Z"
   },
   {
    "duration": 3722,
    "start_time": "2024-05-22T11:04:08.652Z"
   },
   {
    "duration": 883,
    "start_time": "2024-05-22T11:04:12.375Z"
   },
   {
    "duration": 510,
    "start_time": "2024-05-22T11:04:13.260Z"
   },
   {
    "duration": 8,
    "start_time": "2024-05-22T11:04:13.772Z"
   },
   {
    "duration": 32,
    "start_time": "2024-05-22T11:04:13.781Z"
   },
   {
    "duration": 3,
    "start_time": "2024-05-22T11:04:13.814Z"
   },
   {
    "duration": 9,
    "start_time": "2024-05-22T11:04:13.819Z"
   },
   {
    "duration": 10,
    "start_time": "2024-05-22T11:04:13.829Z"
   },
   {
    "duration": 118,
    "start_time": "2024-05-22T11:04:13.841Z"
   },
   {
    "duration": 5,
    "start_time": "2024-05-22T11:04:13.961Z"
   },
   {
    "duration": 7,
    "start_time": "2024-05-22T11:04:13.968Z"
   },
   {
    "duration": 10,
    "start_time": "2024-05-22T11:04:13.976Z"
   },
   {
    "duration": 26,
    "start_time": "2024-05-22T11:04:13.987Z"
   },
   {
    "duration": 38,
    "start_time": "2024-05-22T11:04:14.015Z"
   },
   {
    "duration": 23,
    "start_time": "2024-05-22T11:04:14.054Z"
   },
   {
    "duration": 7,
    "start_time": "2024-05-22T11:04:14.079Z"
   },
   {
    "duration": 1121,
    "start_time": "2024-05-22T11:05:27.478Z"
   },
   {
    "duration": 101,
    "start_time": "2024-05-22T11:05:28.601Z"
   },
   {
    "duration": 34,
    "start_time": "2024-05-22T11:05:28.703Z"
   },
   {
    "duration": 3743,
    "start_time": "2024-05-22T11:05:28.739Z"
   },
   {
    "duration": 873,
    "start_time": "2024-05-22T11:05:32.483Z"
   },
   {
    "duration": 483,
    "start_time": "2024-05-22T11:05:33.357Z"
   },
   {
    "duration": 9,
    "start_time": "2024-05-22T11:05:33.842Z"
   },
   {
    "duration": 19,
    "start_time": "2024-05-22T11:05:33.852Z"
   },
   {
    "duration": 4,
    "start_time": "2024-05-22T11:05:33.872Z"
   },
   {
    "duration": 23,
    "start_time": "2024-05-22T11:05:33.878Z"
   },
   {
    "duration": 9,
    "start_time": "2024-05-22T11:05:33.912Z"
   },
   {
    "duration": 114,
    "start_time": "2024-05-22T11:05:33.922Z"
   },
   {
    "duration": 5,
    "start_time": "2024-05-22T11:05:34.037Z"
   },
   {
    "duration": 7,
    "start_time": "2024-05-22T11:05:34.043Z"
   },
   {
    "duration": 10,
    "start_time": "2024-05-22T11:05:34.051Z"
   },
   {
    "duration": 5,
    "start_time": "2024-05-22T11:05:34.062Z"
   },
   {
    "duration": 60,
    "start_time": "2024-05-22T11:05:34.068Z"
   },
   {
    "duration": 21,
    "start_time": "2024-05-22T11:05:34.130Z"
   },
   {
    "duration": 7,
    "start_time": "2024-05-22T11:05:34.152Z"
   },
   {
    "duration": 108,
    "start_time": "2024-05-22T11:05:55.035Z"
   },
   {
    "duration": 22,
    "start_time": "2024-05-22T11:06:07.503Z"
   },
   {
    "duration": 1058,
    "start_time": "2024-05-22T11:07:05.154Z"
   },
   {
    "duration": 97,
    "start_time": "2024-05-22T11:07:06.214Z"
   },
   {
    "duration": 34,
    "start_time": "2024-05-22T11:07:06.312Z"
   },
   {
    "duration": 3714,
    "start_time": "2024-05-22T11:07:06.348Z"
   },
   {
    "duration": 837,
    "start_time": "2024-05-22T11:07:10.063Z"
   },
   {
    "duration": 511,
    "start_time": "2024-05-22T11:07:10.901Z"
   },
   {
    "duration": 9,
    "start_time": "2024-05-22T11:07:11.413Z"
   },
   {
    "duration": 20,
    "start_time": "2024-05-22T11:07:11.423Z"
   },
   {
    "duration": 3,
    "start_time": "2024-05-22T11:07:11.444Z"
   },
   {
    "duration": 9,
    "start_time": "2024-05-22T11:07:11.449Z"
   },
   {
    "duration": 13,
    "start_time": "2024-05-22T11:07:11.459Z"
   },
   {
    "duration": 131,
    "start_time": "2024-05-22T11:07:11.473Z"
   },
   {
    "duration": 9,
    "start_time": "2024-05-22T11:07:11.605Z"
   },
   {
    "duration": 9,
    "start_time": "2024-05-22T11:07:11.615Z"
   },
   {
    "duration": 11,
    "start_time": "2024-05-22T11:07:11.625Z"
   },
   {
    "duration": 5,
    "start_time": "2024-05-22T11:07:11.637Z"
   },
   {
    "duration": 70,
    "start_time": "2024-05-22T11:07:11.644Z"
   },
   {
    "duration": 5,
    "start_time": "2024-05-22T11:07:11.715Z"
   },
   {
    "duration": 27,
    "start_time": "2024-05-22T11:07:11.721Z"
   },
   {
    "duration": 7,
    "start_time": "2024-05-22T11:07:11.749Z"
   },
   {
    "duration": 24,
    "start_time": "2024-05-22T11:42:43.650Z"
   },
   {
    "duration": 1116,
    "start_time": "2024-05-22T11:44:49.690Z"
   },
   {
    "duration": 97,
    "start_time": "2024-05-22T11:44:50.808Z"
   },
   {
    "duration": 34,
    "start_time": "2024-05-22T11:44:50.906Z"
   },
   {
    "duration": 3760,
    "start_time": "2024-05-22T11:44:50.942Z"
   },
   {
    "duration": 842,
    "start_time": "2024-05-22T11:44:54.704Z"
   },
   {
    "duration": 491,
    "start_time": "2024-05-22T11:44:55.547Z"
   },
   {
    "duration": 9,
    "start_time": "2024-05-22T11:44:56.039Z"
   },
   {
    "duration": 20,
    "start_time": "2024-05-22T11:44:56.049Z"
   },
   {
    "duration": 4,
    "start_time": "2024-05-22T11:44:56.070Z"
   },
   {
    "duration": 10,
    "start_time": "2024-05-22T11:44:56.076Z"
   },
   {
    "duration": 9,
    "start_time": "2024-05-22T11:44:56.112Z"
   },
   {
    "duration": 131,
    "start_time": "2024-05-22T11:44:56.122Z"
   },
   {
    "duration": 5,
    "start_time": "2024-05-22T11:44:56.254Z"
   },
   {
    "duration": 7,
    "start_time": "2024-05-22T11:44:56.261Z"
   },
   {
    "duration": 10,
    "start_time": "2024-05-22T11:44:56.269Z"
   },
   {
    "duration": 4,
    "start_time": "2024-05-22T11:44:56.281Z"
   },
   {
    "duration": 61,
    "start_time": "2024-05-22T11:44:56.286Z"
   },
   {
    "duration": 20,
    "start_time": "2024-05-22T11:44:56.349Z"
   },
   {
    "duration": 7,
    "start_time": "2024-05-22T11:44:56.370Z"
   },
   {
    "duration": 46,
    "start_time": "2024-05-22T11:44:56.378Z"
   },
   {
    "duration": 20,
    "start_time": "2024-05-22T11:46:16.423Z"
   },
   {
    "duration": 1044,
    "start_time": "2024-05-22T11:49:54.871Z"
   },
   {
    "duration": 87,
    "start_time": "2024-05-22T11:49:55.917Z"
   },
   {
    "duration": 36,
    "start_time": "2024-05-22T11:49:56.005Z"
   },
   {
    "duration": 3724,
    "start_time": "2024-05-22T11:49:56.042Z"
   },
   {
    "duration": 863,
    "start_time": "2024-05-22T11:49:59.767Z"
   },
   {
    "duration": 501,
    "start_time": "2024-05-22T11:50:00.631Z"
   },
   {
    "duration": 9,
    "start_time": "2024-05-22T11:50:01.133Z"
   },
   {
    "duration": 121,
    "start_time": "2024-05-22T11:50:01.144Z"
   },
   {
    "duration": 35,
    "start_time": "2024-05-22T11:50:01.267Z"
   },
   {
    "duration": 66,
    "start_time": "2024-05-22T11:50:01.305Z"
   },
   {
    "duration": 27,
    "start_time": "2024-05-22T11:50:01.372Z"
   },
   {
    "duration": 129,
    "start_time": "2024-05-22T11:50:01.401Z"
   },
   {
    "duration": 6,
    "start_time": "2024-05-22T11:50:01.532Z"
   },
   {
    "duration": 41,
    "start_time": "2024-05-22T11:50:01.540Z"
   },
   {
    "duration": 75,
    "start_time": "2024-05-22T11:50:01.583Z"
   },
   {
    "duration": 77,
    "start_time": "2024-05-22T11:50:01.660Z"
   },
   {
    "duration": 184,
    "start_time": "2024-05-22T11:50:01.738Z"
   },
   {
    "duration": 69,
    "start_time": "2024-05-22T11:50:01.924Z"
   },
   {
    "duration": 31,
    "start_time": "2024-05-22T11:50:01.994Z"
   },
   {
    "duration": 51,
    "start_time": "2024-05-22T11:50:02.026Z"
   },
   {
    "duration": 59,
    "start_time": "2024-05-22T11:50:02.079Z"
   },
   {
    "duration": 1693,
    "start_time": "2024-05-22T11:50:35.444Z"
   },
   {
    "duration": 1485,
    "start_time": "2024-05-22T12:02:13.718Z"
   },
   {
    "duration": 18,
    "start_time": "2024-05-22T12:02:30.228Z"
   },
   {
    "duration": 1099,
    "start_time": "2024-05-22T12:51:50.516Z"
   },
   {
    "duration": 96,
    "start_time": "2024-05-22T12:51:51.617Z"
   },
   {
    "duration": 36,
    "start_time": "2024-05-22T12:51:51.714Z"
   },
   {
    "duration": 3742,
    "start_time": "2024-05-22T12:51:51.752Z"
   },
   {
    "duration": 845,
    "start_time": "2024-05-22T12:51:55.496Z"
   },
   {
    "duration": 485,
    "start_time": "2024-05-22T12:51:56.342Z"
   },
   {
    "duration": 9,
    "start_time": "2024-05-22T12:51:56.828Z"
   },
   {
    "duration": 20,
    "start_time": "2024-05-22T12:51:56.839Z"
   },
   {
    "duration": 4,
    "start_time": "2024-05-22T12:51:56.860Z"
   },
   {
    "duration": 12,
    "start_time": "2024-05-22T12:51:56.866Z"
   },
   {
    "duration": 36,
    "start_time": "2024-05-22T12:51:56.879Z"
   },
   {
    "duration": 108,
    "start_time": "2024-05-22T12:51:56.916Z"
   },
   {
    "duration": 5,
    "start_time": "2024-05-22T12:51:57.026Z"
   },
   {
    "duration": 32,
    "start_time": "2024-05-22T12:51:57.032Z"
   },
   {
    "duration": 13,
    "start_time": "2024-05-22T12:51:57.066Z"
   },
   {
    "duration": 15,
    "start_time": "2024-05-22T12:51:57.081Z"
   },
   {
    "duration": 42,
    "start_time": "2024-05-22T12:51:57.097Z"
   },
   {
    "duration": 109,
    "start_time": "2024-05-22T12:51:57.140Z"
   },
   {
    "duration": 0,
    "start_time": "2024-05-22T12:51:57.250Z"
   },
   {
    "duration": 0,
    "start_time": "2024-05-22T12:51:57.252Z"
   },
   {
    "duration": 4,
    "start_time": "2024-05-22T12:52:42.295Z"
   },
   {
    "duration": 1048,
    "start_time": "2024-05-22T12:58:19.667Z"
   },
   {
    "duration": 97,
    "start_time": "2024-05-22T12:58:20.717Z"
   },
   {
    "duration": 33,
    "start_time": "2024-05-22T12:58:20.815Z"
   },
   {
    "duration": 3712,
    "start_time": "2024-05-22T12:58:20.850Z"
   },
   {
    "duration": 873,
    "start_time": "2024-05-22T12:58:24.563Z"
   },
   {
    "duration": 490,
    "start_time": "2024-05-22T12:58:25.438Z"
   },
   {
    "duration": 8,
    "start_time": "2024-05-22T12:58:25.930Z"
   },
   {
    "duration": 29,
    "start_time": "2024-05-22T12:58:25.940Z"
   },
   {
    "duration": 4,
    "start_time": "2024-05-22T12:58:25.970Z"
   },
   {
    "duration": 25,
    "start_time": "2024-05-22T12:58:25.976Z"
   },
   {
    "duration": 12,
    "start_time": "2024-05-22T12:58:26.002Z"
   },
   {
    "duration": 116,
    "start_time": "2024-05-22T12:58:26.015Z"
   },
   {
    "duration": 5,
    "start_time": "2024-05-22T12:58:26.133Z"
   },
   {
    "duration": 10,
    "start_time": "2024-05-22T12:58:26.139Z"
   },
   {
    "duration": 10,
    "start_time": "2024-05-22T12:58:26.150Z"
   },
   {
    "duration": 8,
    "start_time": "2024-05-22T12:58:26.161Z"
   },
   {
    "duration": 63,
    "start_time": "2024-05-22T12:58:26.170Z"
   },
   {
    "duration": 17,
    "start_time": "2024-05-22T12:58:26.234Z"
   },
   {
    "duration": 1704,
    "start_time": "2024-05-22T12:58:26.252Z"
   },
   {
    "duration": 230,
    "start_time": "2024-05-22T13:04:41.360Z"
   },
   {
    "duration": 121,
    "start_time": "2024-05-22T13:07:01.986Z"
   },
   {
    "duration": 1368,
    "start_time": "2024-05-22T13:08:49.873Z"
   },
   {
    "duration": 104,
    "start_time": "2024-05-22T13:08:51.243Z"
   },
   {
    "duration": 33,
    "start_time": "2024-05-22T13:08:51.349Z"
   },
   {
    "duration": 3724,
    "start_time": "2024-05-22T13:08:51.383Z"
   },
   {
    "duration": 988,
    "start_time": "2024-05-22T13:08:55.130Z"
   },
   {
    "duration": 507,
    "start_time": "2024-05-22T13:08:56.119Z"
   },
   {
    "duration": 9,
    "start_time": "2024-05-22T13:08:56.627Z"
   },
   {
    "duration": 23,
    "start_time": "2024-05-22T13:08:56.638Z"
   },
   {
    "duration": 3,
    "start_time": "2024-05-22T13:08:56.663Z"
   },
   {
    "duration": 10,
    "start_time": "2024-05-22T13:08:56.668Z"
   },
   {
    "duration": 8,
    "start_time": "2024-05-22T13:08:56.679Z"
   },
   {
    "duration": 104,
    "start_time": "2024-05-22T13:08:56.712Z"
   },
   {
    "duration": 5,
    "start_time": "2024-05-22T13:08:56.818Z"
   },
   {
    "duration": 9,
    "start_time": "2024-05-22T13:08:56.824Z"
   },
   {
    "duration": 10,
    "start_time": "2024-05-22T13:08:56.834Z"
   },
   {
    "duration": 15,
    "start_time": "2024-05-22T13:08:56.845Z"
   },
   {
    "duration": 53,
    "start_time": "2024-05-22T13:08:56.861Z"
   },
   {
    "duration": 123,
    "start_time": "2024-05-22T13:08:56.916Z"
   },
   {
    "duration": 0,
    "start_time": "2024-05-22T13:08:57.041Z"
   },
   {
    "duration": 0,
    "start_time": "2024-05-22T13:08:57.042Z"
   },
   {
    "duration": 13,
    "start_time": "2024-05-22T13:10:55.859Z"
   },
   {
    "duration": 1298,
    "start_time": "2024-05-22T13:12:04.244Z"
   },
   {
    "duration": 99,
    "start_time": "2024-05-22T13:12:05.543Z"
   },
   {
    "duration": 35,
    "start_time": "2024-05-22T13:12:05.644Z"
   },
   {
    "duration": 3706,
    "start_time": "2024-05-22T13:12:05.680Z"
   },
   {
    "duration": 986,
    "start_time": "2024-05-22T13:12:09.387Z"
   },
   {
    "duration": 484,
    "start_time": "2024-05-22T13:12:10.374Z"
   },
   {
    "duration": 9,
    "start_time": "2024-05-22T13:12:10.859Z"
   },
   {
    "duration": 26,
    "start_time": "2024-05-22T13:12:10.869Z"
   },
   {
    "duration": 3,
    "start_time": "2024-05-22T13:12:10.896Z"
   },
   {
    "duration": 12,
    "start_time": "2024-05-22T13:12:10.911Z"
   },
   {
    "duration": 10,
    "start_time": "2024-05-22T13:12:10.925Z"
   },
   {
    "duration": 120,
    "start_time": "2024-05-22T13:12:10.936Z"
   },
   {
    "duration": 5,
    "start_time": "2024-05-22T13:12:11.057Z"
   },
   {
    "duration": 7,
    "start_time": "2024-05-22T13:12:11.063Z"
   },
   {
    "duration": 13,
    "start_time": "2024-05-22T13:12:11.072Z"
   },
   {
    "duration": 5,
    "start_time": "2024-05-22T13:12:11.086Z"
   },
   {
    "duration": 59,
    "start_time": "2024-05-22T13:12:11.092Z"
   },
   {
    "duration": 12,
    "start_time": "2024-05-22T13:12:11.153Z"
   },
   {
    "duration": 29,
    "start_time": "2024-05-22T13:12:11.166Z"
   },
   {
    "duration": 1495,
    "start_time": "2024-05-22T13:12:11.197Z"
   },
   {
    "duration": 1533,
    "start_time": "2024-05-22T14:04:04.948Z"
   },
   {
    "duration": 210,
    "start_time": "2024-05-22T14:07:27.033Z"
   },
   {
    "duration": 1311,
    "start_time": "2024-05-22T14:07:54.285Z"
   },
   {
    "duration": 133,
    "start_time": "2024-05-22T14:07:55.598Z"
   },
   {
    "duration": 35,
    "start_time": "2024-05-22T14:07:55.732Z"
   },
   {
    "duration": 3741,
    "start_time": "2024-05-22T14:07:55.769Z"
   },
   {
    "duration": 997,
    "start_time": "2024-05-22T14:07:59.512Z"
   },
   {
    "duration": 515,
    "start_time": "2024-05-22T14:08:00.511Z"
   },
   {
    "duration": 9,
    "start_time": "2024-05-22T14:08:01.027Z"
   },
   {
    "duration": 48,
    "start_time": "2024-05-22T14:08:01.038Z"
   },
   {
    "duration": 50,
    "start_time": "2024-05-22T14:08:01.087Z"
   },
   {
    "duration": 38,
    "start_time": "2024-05-22T14:08:01.139Z"
   },
   {
    "duration": 24,
    "start_time": "2024-05-22T14:08:01.178Z"
   },
   {
    "duration": 150,
    "start_time": "2024-05-22T14:08:01.204Z"
   },
   {
    "duration": 5,
    "start_time": "2024-05-22T14:08:01.356Z"
   },
   {
    "duration": 75,
    "start_time": "2024-05-22T14:08:01.362Z"
   },
   {
    "duration": 82,
    "start_time": "2024-05-22T14:08:01.438Z"
   },
   {
    "duration": 24,
    "start_time": "2024-05-22T14:08:01.522Z"
   },
   {
    "duration": 82,
    "start_time": "2024-05-22T14:08:01.548Z"
   },
   {
    "duration": 35,
    "start_time": "2024-05-22T14:08:01.631Z"
   },
   {
    "duration": 74,
    "start_time": "2024-05-22T14:08:01.668Z"
   },
   {
    "duration": 1545,
    "start_time": "2024-05-22T14:08:01.744Z"
   },
   {
    "duration": 1580,
    "start_time": "2024-05-22T14:08:03.291Z"
   },
   {
    "duration": 223,
    "start_time": "2024-05-22T14:08:04.872Z"
   },
   {
    "duration": 3540,
    "start_time": "2024-05-22T14:11:00.903Z"
   },
   {
    "duration": 3498,
    "start_time": "2024-05-22T14:13:39.017Z"
   },
   {
    "duration": 3553,
    "start_time": "2024-05-22T14:14:10.507Z"
   },
   {
    "duration": 562,
    "start_time": "2024-05-22T14:19:58.466Z"
   },
   {
    "duration": 500,
    "start_time": "2024-05-22T14:20:46.485Z"
   },
   {
    "duration": 571,
    "start_time": "2024-05-22T14:21:37.925Z"
   },
   {
    "duration": 639,
    "start_time": "2024-05-22T14:22:43.788Z"
   },
   {
    "duration": 3006,
    "start_time": "2024-05-22T14:23:25.808Z"
   },
   {
    "duration": 2757,
    "start_time": "2024-05-22T14:23:39.058Z"
   },
   {
    "duration": 1442,
    "start_time": "2024-05-22T14:29:24.878Z"
   },
   {
    "duration": 102,
    "start_time": "2024-05-22T14:29:26.322Z"
   },
   {
    "duration": 35,
    "start_time": "2024-05-22T14:29:26.425Z"
   },
   {
    "duration": 3684,
    "start_time": "2024-05-22T14:29:26.462Z"
   },
   {
    "duration": 1035,
    "start_time": "2024-05-22T14:29:30.147Z"
   },
   {
    "duration": 545,
    "start_time": "2024-05-22T14:29:31.183Z"
   },
   {
    "duration": 9,
    "start_time": "2024-05-22T14:29:31.729Z"
   },
   {
    "duration": 21,
    "start_time": "2024-05-22T14:29:31.739Z"
   },
   {
    "duration": 3,
    "start_time": "2024-05-22T14:29:31.762Z"
   },
   {
    "duration": 10,
    "start_time": "2024-05-22T14:29:31.767Z"
   },
   {
    "duration": 35,
    "start_time": "2024-05-22T14:29:31.779Z"
   },
   {
    "duration": 108,
    "start_time": "2024-05-22T14:29:31.815Z"
   },
   {
    "duration": 5,
    "start_time": "2024-05-22T14:29:31.925Z"
   },
   {
    "duration": 7,
    "start_time": "2024-05-22T14:29:31.931Z"
   },
   {
    "duration": 10,
    "start_time": "2024-05-22T14:29:31.939Z"
   },
   {
    "duration": 4,
    "start_time": "2024-05-22T14:29:31.951Z"
   },
   {
    "duration": 63,
    "start_time": "2024-05-22T14:29:31.956Z"
   },
   {
    "duration": 11,
    "start_time": "2024-05-22T14:29:32.021Z"
   },
   {
    "duration": 15,
    "start_time": "2024-05-22T14:29:32.034Z"
   },
   {
    "duration": 1531,
    "start_time": "2024-05-22T14:29:32.051Z"
   },
   {
    "duration": 1543,
    "start_time": "2024-05-22T14:29:33.584Z"
   },
   {
    "duration": 207,
    "start_time": "2024-05-22T14:29:35.129Z"
   },
   {
    "duration": 2894,
    "start_time": "2024-05-22T14:29:35.338Z"
   },
   {
    "duration": 654,
    "start_time": "2024-05-22T14:29:38.233Z"
   },
   {
    "duration": 20,
    "start_time": "2024-05-22T15:03:44.862Z"
   },
   {
    "duration": 35,
    "start_time": "2024-05-22T15:04:19.672Z"
   },
   {
    "duration": 37,
    "start_time": "2024-05-22T15:04:39.359Z"
   },
   {
    "duration": 43,
    "start_time": "2024-05-22T15:05:34.948Z"
   },
   {
    "duration": 37,
    "start_time": "2024-05-22T15:05:54.595Z"
   },
   {
    "duration": 124,
    "start_time": "2024-05-22T15:29:22.942Z"
   },
   {
    "duration": 8,
    "start_time": "2024-05-22T15:31:01.894Z"
   },
   {
    "duration": 1195,
    "start_time": "2024-05-22T15:31:10.005Z"
   },
   {
    "duration": 0,
    "start_time": "2024-05-22T15:31:11.202Z"
   },
   {
    "duration": 0,
    "start_time": "2024-05-22T15:31:11.203Z"
   },
   {
    "duration": 0,
    "start_time": "2024-05-22T15:31:11.204Z"
   },
   {
    "duration": 0,
    "start_time": "2024-05-22T15:31:11.204Z"
   },
   {
    "duration": 0,
    "start_time": "2024-05-22T15:31:11.211Z"
   },
   {
    "duration": 0,
    "start_time": "2024-05-22T15:31:11.212Z"
   },
   {
    "duration": 0,
    "start_time": "2024-05-22T15:31:11.213Z"
   },
   {
    "duration": 0,
    "start_time": "2024-05-22T15:31:11.214Z"
   },
   {
    "duration": 0,
    "start_time": "2024-05-22T15:31:11.215Z"
   },
   {
    "duration": 0,
    "start_time": "2024-05-22T15:31:11.216Z"
   },
   {
    "duration": 1,
    "start_time": "2024-05-22T15:31:11.216Z"
   },
   {
    "duration": 0,
    "start_time": "2024-05-22T15:31:11.217Z"
   },
   {
    "duration": 0,
    "start_time": "2024-05-22T15:31:11.218Z"
   },
   {
    "duration": 0,
    "start_time": "2024-05-22T15:31:11.219Z"
   },
   {
    "duration": 0,
    "start_time": "2024-05-22T15:31:11.220Z"
   },
   {
    "duration": 0,
    "start_time": "2024-05-22T15:31:11.220Z"
   },
   {
    "duration": 0,
    "start_time": "2024-05-22T15:31:11.221Z"
   },
   {
    "duration": 0,
    "start_time": "2024-05-22T15:31:11.222Z"
   },
   {
    "duration": 0,
    "start_time": "2024-05-22T15:31:11.223Z"
   },
   {
    "duration": 0,
    "start_time": "2024-05-22T15:31:11.223Z"
   },
   {
    "duration": 0,
    "start_time": "2024-05-22T15:31:11.224Z"
   },
   {
    "duration": 0,
    "start_time": "2024-05-22T15:31:11.225Z"
   },
   {
    "duration": 0,
    "start_time": "2024-05-22T15:31:11.226Z"
   },
   {
    "duration": 0,
    "start_time": "2024-05-22T15:31:11.227Z"
   },
   {
    "duration": 56,
    "start_time": "2024-05-22T15:31:36.567Z"
   },
   {
    "duration": 1157,
    "start_time": "2024-05-22T15:32:04.956Z"
   },
   {
    "duration": 0,
    "start_time": "2024-05-22T15:32:06.115Z"
   },
   {
    "duration": 0,
    "start_time": "2024-05-22T15:32:06.116Z"
   },
   {
    "duration": 1,
    "start_time": "2024-05-22T15:32:06.116Z"
   },
   {
    "duration": 0,
    "start_time": "2024-05-22T15:32:06.117Z"
   },
   {
    "duration": 0,
    "start_time": "2024-05-22T15:32:06.118Z"
   },
   {
    "duration": 0,
    "start_time": "2024-05-22T15:32:06.119Z"
   },
   {
    "duration": 0,
    "start_time": "2024-05-22T15:32:06.120Z"
   },
   {
    "duration": 0,
    "start_time": "2024-05-22T15:32:06.120Z"
   },
   {
    "duration": 0,
    "start_time": "2024-05-22T15:32:06.122Z"
   },
   {
    "duration": 0,
    "start_time": "2024-05-22T15:32:06.122Z"
   },
   {
    "duration": 0,
    "start_time": "2024-05-22T15:32:06.123Z"
   },
   {
    "duration": 0,
    "start_time": "2024-05-22T15:32:06.124Z"
   },
   {
    "duration": 0,
    "start_time": "2024-05-22T15:32:06.125Z"
   },
   {
    "duration": 0,
    "start_time": "2024-05-22T15:32:06.126Z"
   },
   {
    "duration": 0,
    "start_time": "2024-05-22T15:32:06.126Z"
   },
   {
    "duration": 0,
    "start_time": "2024-05-22T15:32:06.127Z"
   },
   {
    "duration": 0,
    "start_time": "2024-05-22T15:32:06.128Z"
   },
   {
    "duration": 0,
    "start_time": "2024-05-22T15:32:06.129Z"
   },
   {
    "duration": 0,
    "start_time": "2024-05-22T15:32:06.130Z"
   },
   {
    "duration": 0,
    "start_time": "2024-05-22T15:32:06.131Z"
   },
   {
    "duration": 0,
    "start_time": "2024-05-22T15:32:06.131Z"
   },
   {
    "duration": 0,
    "start_time": "2024-05-22T15:32:06.132Z"
   },
   {
    "duration": 0,
    "start_time": "2024-05-22T15:32:06.133Z"
   },
   {
    "duration": 0,
    "start_time": "2024-05-22T15:32:06.134Z"
   },
   {
    "duration": 55,
    "start_time": "2024-05-22T15:33:09.918Z"
   },
   {
    "duration": 3772,
    "start_time": "2024-05-22T15:34:41.318Z"
   },
   {
    "duration": 4077,
    "start_time": "2024-05-22T15:34:58.985Z"
   },
   {
    "duration": 104,
    "start_time": "2024-05-22T15:35:03.065Z"
   },
   {
    "duration": 43,
    "start_time": "2024-05-22T15:35:03.170Z"
   },
   {
    "duration": 3827,
    "start_time": "2024-05-22T15:35:03.215Z"
   },
   {
    "duration": 1044,
    "start_time": "2024-05-22T15:35:07.044Z"
   },
   {
    "duration": 532,
    "start_time": "2024-05-22T15:35:08.090Z"
   },
   {
    "duration": 10,
    "start_time": "2024-05-22T15:35:08.623Z"
   },
   {
    "duration": 21,
    "start_time": "2024-05-22T15:35:08.635Z"
   },
   {
    "duration": 4,
    "start_time": "2024-05-22T15:35:08.657Z"
   },
   {
    "duration": 13,
    "start_time": "2024-05-22T15:35:08.665Z"
   },
   {
    "duration": 39,
    "start_time": "2024-05-22T15:35:08.680Z"
   },
   {
    "duration": 110,
    "start_time": "2024-05-22T15:35:08.721Z"
   },
   {
    "duration": 5,
    "start_time": "2024-05-22T15:35:08.833Z"
   },
   {
    "duration": 21,
    "start_time": "2024-05-22T15:35:08.839Z"
   },
   {
    "duration": 10,
    "start_time": "2024-05-22T15:35:08.861Z"
   },
   {
    "duration": 4,
    "start_time": "2024-05-22T15:35:08.873Z"
   },
   {
    "duration": 50,
    "start_time": "2024-05-22T15:35:08.879Z"
   },
   {
    "duration": 12,
    "start_time": "2024-05-22T15:35:08.931Z"
   },
   {
    "duration": 16,
    "start_time": "2024-05-22T15:35:08.944Z"
   },
   {
    "duration": 1532,
    "start_time": "2024-05-22T15:35:08.962Z"
   },
   {
    "duration": 1555,
    "start_time": "2024-05-22T15:35:10.496Z"
   },
   {
    "duration": 219,
    "start_time": "2024-05-22T15:35:12.053Z"
   },
   {
    "duration": 2855,
    "start_time": "2024-05-22T15:35:12.274Z"
   },
   {
    "duration": 660,
    "start_time": "2024-05-22T15:35:15.131Z"
   },
   {
    "duration": 47,
    "start_time": "2024-05-22T15:35:15.793Z"
   },
   {
    "duration": 160,
    "start_time": "2024-05-22T15:38:58.133Z"
   },
   {
    "duration": 1532,
    "start_time": "2024-05-23T07:11:20.351Z"
   },
   {
    "duration": 0,
    "start_time": "2024-05-23T07:11:21.886Z"
   },
   {
    "duration": 0,
    "start_time": "2024-05-23T07:11:21.887Z"
   },
   {
    "duration": 0,
    "start_time": "2024-05-23T07:11:21.888Z"
   },
   {
    "duration": 0,
    "start_time": "2024-05-23T07:11:21.889Z"
   },
   {
    "duration": 0,
    "start_time": "2024-05-23T07:11:21.890Z"
   },
   {
    "duration": 0,
    "start_time": "2024-05-23T07:11:21.892Z"
   },
   {
    "duration": 0,
    "start_time": "2024-05-23T07:11:21.893Z"
   },
   {
    "duration": 0,
    "start_time": "2024-05-23T07:11:21.894Z"
   },
   {
    "duration": 0,
    "start_time": "2024-05-23T07:11:21.895Z"
   },
   {
    "duration": 0,
    "start_time": "2024-05-23T07:11:21.896Z"
   },
   {
    "duration": 0,
    "start_time": "2024-05-23T07:11:21.897Z"
   },
   {
    "duration": 0,
    "start_time": "2024-05-23T07:11:21.898Z"
   },
   {
    "duration": 0,
    "start_time": "2024-05-23T07:11:21.899Z"
   },
   {
    "duration": 0,
    "start_time": "2024-05-23T07:11:21.900Z"
   },
   {
    "duration": 0,
    "start_time": "2024-05-23T07:11:21.901Z"
   },
   {
    "duration": 0,
    "start_time": "2024-05-23T07:11:21.902Z"
   },
   {
    "duration": 0,
    "start_time": "2024-05-23T07:11:21.903Z"
   },
   {
    "duration": 0,
    "start_time": "2024-05-23T07:11:21.905Z"
   },
   {
    "duration": 0,
    "start_time": "2024-05-23T07:11:21.905Z"
   },
   {
    "duration": 0,
    "start_time": "2024-05-23T07:11:21.906Z"
   },
   {
    "duration": 0,
    "start_time": "2024-05-23T07:11:21.908Z"
   },
   {
    "duration": 0,
    "start_time": "2024-05-23T07:11:21.908Z"
   },
   {
    "duration": 0,
    "start_time": "2024-05-23T07:11:21.909Z"
   },
   {
    "duration": 0,
    "start_time": "2024-05-23T07:11:21.911Z"
   },
   {
    "duration": 0,
    "start_time": "2024-05-23T07:11:21.911Z"
   },
   {
    "duration": 5225,
    "start_time": "2024-05-23T07:12:09.599Z"
   },
   {
    "duration": 101,
    "start_time": "2024-05-23T07:12:14.826Z"
   },
   {
    "duration": 59,
    "start_time": "2024-05-23T07:12:14.929Z"
   },
   {
    "duration": 4725,
    "start_time": "2024-05-23T07:12:14.989Z"
   },
   {
    "duration": 1225,
    "start_time": "2024-05-23T07:12:19.716Z"
   },
   {
    "duration": 571,
    "start_time": "2024-05-23T07:12:20.943Z"
   },
   {
    "duration": 11,
    "start_time": "2024-05-23T07:12:21.516Z"
   },
   {
    "duration": 53,
    "start_time": "2024-05-23T07:12:21.528Z"
   },
   {
    "duration": 4,
    "start_time": "2024-05-23T07:12:21.583Z"
   },
   {
    "duration": 24,
    "start_time": "2024-05-23T07:12:21.588Z"
   },
   {
    "duration": 32,
    "start_time": "2024-05-23T07:12:21.613Z"
   },
   {
    "duration": 118,
    "start_time": "2024-05-23T07:12:21.646Z"
   },
   {
    "duration": 7,
    "start_time": "2024-05-23T07:12:21.766Z"
   },
   {
    "duration": 41,
    "start_time": "2024-05-23T07:12:21.776Z"
   },
   {
    "duration": 35,
    "start_time": "2024-05-23T07:12:21.818Z"
   },
   {
    "duration": 6,
    "start_time": "2024-05-23T07:12:21.854Z"
   },
   {
    "duration": 87,
    "start_time": "2024-05-23T07:12:21.862Z"
   },
   {
    "duration": 18,
    "start_time": "2024-05-23T07:12:21.951Z"
   },
   {
    "duration": 21,
    "start_time": "2024-05-23T07:12:21.972Z"
   },
   {
    "duration": 1929,
    "start_time": "2024-05-23T07:12:21.995Z"
   },
   {
    "duration": 1797,
    "start_time": "2024-05-23T07:12:23.926Z"
   },
   {
    "duration": 250,
    "start_time": "2024-05-23T07:12:25.724Z"
   },
   {
    "duration": 3384,
    "start_time": "2024-05-23T07:12:25.976Z"
   },
   {
    "duration": 790,
    "start_time": "2024-05-23T07:12:29.361Z"
   },
   {
    "duration": 5,
    "start_time": "2024-05-23T07:12:30.154Z"
   },
   {
    "duration": 387,
    "start_time": "2024-05-23T07:12:30.161Z"
   },
   {
    "duration": 250,
    "start_time": "2024-05-23T07:18:29.741Z"
   },
   {
    "duration": 10145,
    "start_time": "2024-05-23T07:35:08.942Z"
   },
   {
    "duration": 10352,
    "start_time": "2024-05-23T07:39:18.733Z"
   },
   {
    "duration": 1909,
    "start_time": "2024-05-23T07:52:36.383Z"
   },
   {
    "duration": 7044,
    "start_time": "2024-05-23T08:04:16.605Z"
   },
   {
    "duration": 7414,
    "start_time": "2024-05-23T08:08:56.594Z"
   },
   {
    "duration": 282410,
    "start_time": "2024-05-23T08:22:33.083Z"
   },
   {
    "duration": 2014,
    "start_time": "2024-05-23T08:28:12.057Z"
   },
   {
    "duration": 21622,
    "start_time": "2024-05-23T08:28:50.695Z"
   },
   {
    "duration": 61049,
    "start_time": "2024-05-23T08:30:54.784Z"
   },
   {
    "duration": 2198,
    "start_time": "2024-05-23T08:33:53.740Z"
   },
   {
    "duration": 699,
    "start_time": "2024-05-23T08:36:01.781Z"
   },
   {
    "duration": 662,
    "start_time": "2024-05-23T08:38:36.923Z"
   },
   {
    "duration": 2068,
    "start_time": "2024-05-23T08:41:00.037Z"
   },
   {
    "duration": 5,
    "start_time": "2024-05-23T08:45:45.047Z"
   },
   {
    "duration": 1762,
    "start_time": "2024-05-23T08:45:52.111Z"
   },
   {
    "duration": 1802,
    "start_time": "2024-05-23T08:46:05.179Z"
   },
   {
    "duration": 1762,
    "start_time": "2024-05-23T08:49:08.710Z"
   },
   {
    "duration": 56,
    "start_time": "2024-05-23T08:49:34.732Z"
   },
   {
    "duration": 4134,
    "start_time": "2024-05-23T08:49:42.539Z"
   },
   {
    "duration": 301,
    "start_time": "2024-05-23T08:49:46.675Z"
   },
   {
    "duration": 47,
    "start_time": "2024-05-23T08:49:46.977Z"
   },
   {
    "duration": 4668,
    "start_time": "2024-05-23T08:49:47.026Z"
   },
   {
    "duration": 1278,
    "start_time": "2024-05-23T08:49:51.695Z"
   },
   {
    "duration": 567,
    "start_time": "2024-05-23T08:49:52.975Z"
   },
   {
    "duration": 10,
    "start_time": "2024-05-23T08:49:53.544Z"
   },
   {
    "duration": 34,
    "start_time": "2024-05-23T08:49:53.555Z"
   },
   {
    "duration": 17,
    "start_time": "2024-05-23T08:49:53.590Z"
   },
   {
    "duration": 100,
    "start_time": "2024-05-23T08:49:53.609Z"
   },
   {
    "duration": 35,
    "start_time": "2024-05-23T08:49:53.711Z"
   },
   {
    "duration": 137,
    "start_time": "2024-05-23T08:49:53.748Z"
   },
   {
    "duration": 5,
    "start_time": "2024-05-23T08:49:53.887Z"
   },
   {
    "duration": 43,
    "start_time": "2024-05-23T08:49:53.894Z"
   },
   {
    "duration": 46,
    "start_time": "2024-05-23T08:49:53.939Z"
   },
   {
    "duration": 8,
    "start_time": "2024-05-23T08:49:53.987Z"
   },
   {
    "duration": 60,
    "start_time": "2024-05-23T08:49:53.996Z"
   },
   {
    "duration": 22,
    "start_time": "2024-05-23T08:49:54.058Z"
   },
   {
    "duration": 15,
    "start_time": "2024-05-23T08:49:54.082Z"
   },
   {
    "duration": 61,
    "start_time": "2024-05-23T08:49:54.099Z"
   },
   {
    "duration": 50,
    "start_time": "2024-05-23T08:49:54.161Z"
   },
   {
    "duration": 0,
    "start_time": "2024-05-23T08:49:54.213Z"
   },
   {
    "duration": 0,
    "start_time": "2024-05-23T08:49:54.214Z"
   },
   {
    "duration": 0,
    "start_time": "2024-05-23T08:49:54.215Z"
   },
   {
    "duration": 0,
    "start_time": "2024-05-23T08:49:54.216Z"
   },
   {
    "duration": 0,
    "start_time": "2024-05-23T08:49:54.217Z"
   },
   {
    "duration": 0,
    "start_time": "2024-05-23T08:49:54.218Z"
   },
   {
    "duration": 1665,
    "start_time": "2024-05-23T08:50:07.556Z"
   },
   {
    "duration": 4128,
    "start_time": "2024-05-23T08:51:22.629Z"
   },
   {
    "duration": 109,
    "start_time": "2024-05-23T08:51:26.759Z"
   },
   {
    "duration": 44,
    "start_time": "2024-05-23T08:51:26.869Z"
   },
   {
    "duration": 4731,
    "start_time": "2024-05-23T08:51:26.914Z"
   },
   {
    "duration": 1241,
    "start_time": "2024-05-23T08:51:31.648Z"
   },
   {
    "duration": 546,
    "start_time": "2024-05-23T08:51:32.891Z"
   },
   {
    "duration": 11,
    "start_time": "2024-05-23T08:51:33.438Z"
   },
   {
    "duration": 53,
    "start_time": "2024-05-23T08:51:33.450Z"
   },
   {
    "duration": 5,
    "start_time": "2024-05-23T08:51:33.505Z"
   },
   {
    "duration": 18,
    "start_time": "2024-05-23T08:51:33.511Z"
   },
   {
    "duration": 10,
    "start_time": "2024-05-23T08:51:33.531Z"
   },
   {
    "duration": 149,
    "start_time": "2024-05-23T08:51:33.542Z"
   },
   {
    "duration": 5,
    "start_time": "2024-05-23T08:51:33.693Z"
   },
   {
    "duration": 8,
    "start_time": "2024-05-23T08:51:33.701Z"
   },
   {
    "duration": 21,
    "start_time": "2024-05-23T08:51:33.711Z"
   },
   {
    "duration": 5,
    "start_time": "2024-05-23T08:51:33.734Z"
   },
   {
    "duration": 66,
    "start_time": "2024-05-23T08:51:33.741Z"
   },
   {
    "duration": 13,
    "start_time": "2024-05-23T08:51:33.809Z"
   },
   {
    "duration": 9,
    "start_time": "2024-05-23T08:51:33.824Z"
   },
   {
    "duration": 42,
    "start_time": "2024-05-23T08:51:33.834Z"
   },
   {
    "duration": 1660,
    "start_time": "2024-05-23T08:51:33.877Z"
   },
   {
    "duration": 1866,
    "start_time": "2024-05-23T08:51:35.538Z"
   },
   {
    "duration": 242,
    "start_time": "2024-05-23T08:51:37.406Z"
   },
   {
    "duration": 1792,
    "start_time": "2024-05-23T08:51:37.650Z"
   },
   {
    "duration": 898,
    "start_time": "2024-05-23T08:51:39.443Z"
   },
   {
    "duration": 3,
    "start_time": "2024-05-23T08:51:40.342Z"
   },
   {
    "duration": 6892,
    "start_time": "2024-05-23T08:51:40.346Z"
   },
   {
    "duration": 6959,
    "start_time": "2024-05-23T08:54:12.778Z"
   },
   {
    "duration": 7037,
    "start_time": "2024-05-23T08:56:14.129Z"
   },
   {
    "duration": 2592,
    "start_time": "2024-05-23T08:59:17.072Z"
   },
   {
    "duration": 7053,
    "start_time": "2024-05-23T08:59:32.820Z"
   },
   {
    "duration": 18,
    "start_time": "2024-05-23T08:59:58.460Z"
   },
   {
    "duration": 1046,
    "start_time": "2024-05-23T09:09:01.828Z"
   },
   {
    "duration": 943,
    "start_time": "2024-05-23T09:09:17.568Z"
   },
   {
    "duration": 1026,
    "start_time": "2024-05-23T09:10:41.697Z"
   },
   {
    "duration": 728,
    "start_time": "2024-05-23T09:21:58.682Z"
   },
   {
    "duration": 65,
    "start_time": "2024-05-23T09:26:01.426Z"
   },
   {
    "duration": 56,
    "start_time": "2024-05-23T09:26:12.266Z"
   },
   {
    "duration": 4065,
    "start_time": "2024-05-23T09:26:43.188Z"
   },
   {
    "duration": 128,
    "start_time": "2024-05-23T09:26:47.255Z"
   },
   {
    "duration": 43,
    "start_time": "2024-05-23T09:26:47.385Z"
   },
   {
    "duration": 4691,
    "start_time": "2024-05-23T09:26:47.430Z"
   },
   {
    "duration": 1202,
    "start_time": "2024-05-23T09:26:52.124Z"
   },
   {
    "duration": 593,
    "start_time": "2024-05-23T09:26:53.328Z"
   },
   {
    "duration": 11,
    "start_time": "2024-05-23T09:26:53.923Z"
   },
   {
    "duration": 38,
    "start_time": "2024-05-23T09:26:53.936Z"
   },
   {
    "duration": 4,
    "start_time": "2024-05-23T09:26:53.976Z"
   },
   {
    "duration": 38,
    "start_time": "2024-05-23T09:26:53.982Z"
   },
   {
    "duration": 13,
    "start_time": "2024-05-23T09:26:54.021Z"
   },
   {
    "duration": 111,
    "start_time": "2024-05-23T09:26:54.036Z"
   },
   {
    "duration": 6,
    "start_time": "2024-05-23T09:26:54.148Z"
   },
   {
    "duration": 21,
    "start_time": "2024-05-23T09:26:54.157Z"
   },
   {
    "duration": 25,
    "start_time": "2024-05-23T09:26:54.179Z"
   },
   {
    "duration": 6,
    "start_time": "2024-05-23T09:26:54.205Z"
   },
   {
    "duration": 57,
    "start_time": "2024-05-23T09:26:54.213Z"
   },
   {
    "duration": 13,
    "start_time": "2024-05-23T09:26:54.271Z"
   },
   {
    "duration": 7,
    "start_time": "2024-05-23T09:26:54.285Z"
   },
   {
    "duration": 33,
    "start_time": "2024-05-23T09:26:54.294Z"
   },
   {
    "duration": 1647,
    "start_time": "2024-05-23T09:26:54.329Z"
   },
   {
    "duration": 1595,
    "start_time": "2024-05-23T09:26:55.978Z"
   },
   {
    "duration": 53,
    "start_time": "2024-05-23T09:26:57.574Z"
   },
   {
    "duration": 0,
    "start_time": "2024-05-23T09:26:57.629Z"
   },
   {
    "duration": 0,
    "start_time": "2024-05-23T09:26:57.632Z"
   },
   {
    "duration": 0,
    "start_time": "2024-05-23T09:26:57.633Z"
   },
   {
    "duration": 0,
    "start_time": "2024-05-23T09:26:57.634Z"
   },
   {
    "duration": 0,
    "start_time": "2024-05-23T09:26:57.636Z"
   },
   {
    "duration": 49,
    "start_time": "2024-05-23T09:29:42.266Z"
   },
   {
    "duration": 260,
    "start_time": "2024-05-23T09:30:02.257Z"
   },
   {
    "duration": 241,
    "start_time": "2024-05-23T09:30:24.084Z"
   },
   {
    "duration": 1949,
    "start_time": "2024-05-23T09:30:36.852Z"
   },
   {
    "duration": 727,
    "start_time": "2024-05-23T09:30:42.857Z"
   },
   {
    "duration": 77,
    "start_time": "2024-05-23T09:38:28.555Z"
   },
   {
    "duration": 283,
    "start_time": "2024-05-23T09:38:56.846Z"
   },
   {
    "duration": 191,
    "start_time": "2024-05-23T09:39:41.213Z"
   },
   {
    "duration": 217,
    "start_time": "2024-05-23T09:40:42.974Z"
   },
   {
    "duration": 1439,
    "start_time": "2024-05-23T09:41:06.542Z"
   },
   {
    "duration": 177,
    "start_time": "2024-05-23T09:47:12.811Z"
   },
   {
    "duration": 2627,
    "start_time": "2024-05-23T10:00:41.139Z"
   },
   {
    "duration": 13,
    "start_time": "2024-05-23T10:00:54.394Z"
   },
   {
    "duration": 13,
    "start_time": "2024-05-23T10:03:42.090Z"
   },
   {
    "duration": 11,
    "start_time": "2024-05-23T10:08:32.814Z"
   },
   {
    "duration": 2593,
    "start_time": "2024-05-23T10:09:28.721Z"
   },
   {
    "duration": 16,
    "start_time": "2024-05-23T10:09:46.114Z"
   },
   {
    "duration": 4066,
    "start_time": "2024-05-23T10:27:45.515Z"
   },
   {
    "duration": 146,
    "start_time": "2024-05-23T10:27:49.583Z"
   },
   {
    "duration": 59,
    "start_time": "2024-05-23T10:27:49.730Z"
   },
   {
    "duration": 4795,
    "start_time": "2024-05-23T10:27:49.790Z"
   },
   {
    "duration": 1248,
    "start_time": "2024-05-23T10:27:54.588Z"
   },
   {
    "duration": 595,
    "start_time": "2024-05-23T10:27:55.838Z"
   },
   {
    "duration": 12,
    "start_time": "2024-05-23T10:27:56.435Z"
   },
   {
    "duration": 42,
    "start_time": "2024-05-23T10:27:56.449Z"
   },
   {
    "duration": 4,
    "start_time": "2024-05-23T10:27:56.493Z"
   },
   {
    "duration": 15,
    "start_time": "2024-05-23T10:27:56.499Z"
   },
   {
    "duration": 11,
    "start_time": "2024-05-23T10:27:56.516Z"
   },
   {
    "duration": 141,
    "start_time": "2024-05-23T10:27:56.528Z"
   },
   {
    "duration": 6,
    "start_time": "2024-05-23T10:27:56.673Z"
   },
   {
    "duration": 30,
    "start_time": "2024-05-23T10:27:56.681Z"
   },
   {
    "duration": 26,
    "start_time": "2024-05-23T10:27:56.713Z"
   },
   {
    "duration": 6,
    "start_time": "2024-05-23T10:27:56.741Z"
   },
   {
    "duration": 49,
    "start_time": "2024-05-23T10:27:56.749Z"
   },
   {
    "duration": 14,
    "start_time": "2024-05-23T10:27:56.799Z"
   },
   {
    "duration": 4,
    "start_time": "2024-05-23T10:27:56.815Z"
   },
   {
    "duration": 23,
    "start_time": "2024-05-23T10:27:56.820Z"
   },
   {
    "duration": 1674,
    "start_time": "2024-05-23T10:27:56.845Z"
   },
   {
    "duration": 1635,
    "start_time": "2024-05-23T10:27:58.520Z"
   },
   {
    "duration": 253,
    "start_time": "2024-05-23T10:28:00.157Z"
   },
   {
    "duration": 1838,
    "start_time": "2024-05-23T10:28:00.412Z"
   },
   {
    "duration": 344,
    "start_time": "2024-05-23T10:28:02.252Z"
   },
   {
    "duration": 1329,
    "start_time": "2024-05-23T10:28:02.598Z"
   },
   {
    "duration": 987,
    "start_time": "2024-05-23T10:28:03.928Z"
   },
   {
    "duration": 7305,
    "start_time": "2024-05-23T10:28:04.917Z"
   },
   {
    "duration": 11,
    "start_time": "2024-05-23T10:28:12.224Z"
   },
   {
    "duration": 16,
    "start_time": "2024-05-23T15:30:51.437Z"
   },
   {
    "duration": 64,
    "start_time": "2024-05-23T15:32:54.935Z"
   },
   {
    "duration": 156,
    "start_time": "2024-05-23T15:33:11.191Z"
   },
   {
    "duration": 299,
    "start_time": "2024-05-23T15:34:09.247Z"
   },
   {
    "duration": 430,
    "start_time": "2024-05-23T15:34:33.270Z"
   },
   {
    "duration": 526,
    "start_time": "2024-05-23T15:35:13.786Z"
   },
   {
    "duration": 468,
    "start_time": "2024-05-23T15:35:29.478Z"
   },
   {
    "duration": 424,
    "start_time": "2024-05-23T15:36:28.807Z"
   },
   {
    "duration": 4917,
    "start_time": "2024-05-23T18:08:50.499Z"
   },
   {
    "duration": 109,
    "start_time": "2024-05-23T18:08:55.418Z"
   },
   {
    "duration": 39,
    "start_time": "2024-05-23T18:08:55.531Z"
   },
   {
    "duration": 4455,
    "start_time": "2024-05-23T18:08:55.571Z"
   },
   {
    "duration": 1200,
    "start_time": "2024-05-23T18:09:00.028Z"
   },
   {
    "duration": 591,
    "start_time": "2024-05-23T18:09:01.229Z"
   },
   {
    "duration": 10,
    "start_time": "2024-05-23T18:09:01.822Z"
   },
   {
    "duration": 74,
    "start_time": "2024-05-23T18:09:01.834Z"
   },
   {
    "duration": 27,
    "start_time": "2024-05-23T18:09:01.911Z"
   },
   {
    "duration": 76,
    "start_time": "2024-05-23T18:09:01.939Z"
   },
   {
    "duration": 30,
    "start_time": "2024-05-23T18:09:02.017Z"
   },
   {
    "duration": 256,
    "start_time": "2024-05-23T18:09:02.049Z"
   },
   {
    "duration": 5,
    "start_time": "2024-05-23T18:09:02.307Z"
   },
   {
    "duration": 45,
    "start_time": "2024-05-23T18:09:02.314Z"
   },
   {
    "duration": 32,
    "start_time": "2024-05-23T18:09:02.360Z"
   },
   {
    "duration": 79,
    "start_time": "2024-05-23T18:09:02.393Z"
   },
   {
    "duration": 73,
    "start_time": "2024-05-23T18:09:02.474Z"
   },
   {
    "duration": 15,
    "start_time": "2024-05-23T18:09:02.549Z"
   },
   {
    "duration": 24,
    "start_time": "2024-05-23T18:09:02.566Z"
   },
   {
    "duration": 47,
    "start_time": "2024-05-23T18:09:02.592Z"
   },
   {
    "duration": 1668,
    "start_time": "2024-05-23T18:09:02.640Z"
   },
   {
    "duration": 1550,
    "start_time": "2024-05-23T18:09:04.310Z"
   },
   {
    "duration": 221,
    "start_time": "2024-05-23T18:09:05.861Z"
   },
   {
    "duration": 1664,
    "start_time": "2024-05-23T18:09:06.083Z"
   },
   {
    "duration": 266,
    "start_time": "2024-05-23T18:09:07.749Z"
   },
   {
    "duration": 1307,
    "start_time": "2024-05-23T18:09:08.017Z"
   },
   {
    "duration": 877,
    "start_time": "2024-05-23T18:09:09.328Z"
   },
   {
    "duration": 6483,
    "start_time": "2024-05-23T18:09:10.207Z"
   },
   {
    "duration": 432,
    "start_time": "2024-05-23T18:09:16.692Z"
   },
   {
    "duration": 2394,
    "start_time": "2024-05-23T18:13:27.574Z"
   },
   {
    "duration": 2731,
    "start_time": "2024-05-23T18:14:36.955Z"
   },
   {
    "duration": 111,
    "start_time": "2024-05-23T18:15:54.094Z"
   },
   {
    "duration": 12,
    "start_time": "2024-05-23T18:17:01.638Z"
   },
   {
    "duration": 1653,
    "start_time": "2024-05-23T18:27:04.099Z"
   },
   {
    "duration": 1377,
    "start_time": "2024-05-23T18:27:25.973Z"
   },
   {
    "duration": 1509,
    "start_time": "2024-05-23T18:27:57.947Z"
   },
   {
    "duration": 1335,
    "start_time": "2024-05-23T18:28:42.014Z"
   },
   {
    "duration": 1780,
    "start_time": "2024-05-23T18:29:13.293Z"
   },
   {
    "duration": 74,
    "start_time": "2024-05-23T18:41:49.538Z"
   },
   {
    "duration": 74,
    "start_time": "2024-05-23T18:42:35.125Z"
   },
   {
    "duration": 20,
    "start_time": "2024-05-23T18:46:15.665Z"
   },
   {
    "duration": 2364,
    "start_time": "2024-05-23T18:46:54.677Z"
   },
   {
    "duration": 16,
    "start_time": "2024-05-23T18:47:10.859Z"
   },
   {
    "duration": 2389,
    "start_time": "2024-05-23T18:55:10.264Z"
   },
   {
    "duration": 20,
    "start_time": "2024-05-23T18:59:11.617Z"
   },
   {
    "duration": 10,
    "start_time": "2024-05-23T19:04:47.998Z"
   },
   {
    "duration": 7,
    "start_time": "2024-05-23T19:05:14.935Z"
   },
   {
    "duration": 9,
    "start_time": "2024-05-23T19:06:53.860Z"
   },
   {
    "duration": 11,
    "start_time": "2024-05-23T19:23:32.657Z"
   },
   {
    "duration": 8,
    "start_time": "2024-05-23T19:24:14.634Z"
   },
   {
    "duration": 8,
    "start_time": "2024-05-23T19:25:01.105Z"
   },
   {
    "duration": 1613,
    "start_time": "2024-05-23T19:53:37.482Z"
   },
   {
    "duration": 10,
    "start_time": "2024-05-23T20:02:02.924Z"
   },
   {
    "duration": 4,
    "start_time": "2024-05-23T20:07:15.844Z"
   },
   {
    "duration": 5,
    "start_time": "2024-05-23T20:07:32.861Z"
   },
   {
    "duration": 70,
    "start_time": "2024-05-24T08:01:12.200Z"
   },
   {
    "duration": 4889,
    "start_time": "2024-05-24T09:34:44.290Z"
   },
   {
    "duration": 107,
    "start_time": "2024-05-24T09:34:49.181Z"
   },
   {
    "duration": 38,
    "start_time": "2024-05-24T09:34:49.290Z"
   },
   {
    "duration": 4283,
    "start_time": "2024-05-24T09:34:49.329Z"
   },
   {
    "duration": 1101,
    "start_time": "2024-05-24T09:34:53.613Z"
   },
   {
    "duration": 541,
    "start_time": "2024-05-24T09:34:54.716Z"
   },
   {
    "duration": 15,
    "start_time": "2024-05-24T09:34:55.259Z"
   },
   {
    "duration": 25,
    "start_time": "2024-05-24T09:34:55.276Z"
   },
   {
    "duration": 3,
    "start_time": "2024-05-24T09:34:55.303Z"
   },
   {
    "duration": 20,
    "start_time": "2024-05-24T09:34:55.309Z"
   },
   {
    "duration": 11,
    "start_time": "2024-05-24T09:34:55.331Z"
   },
   {
    "duration": 250,
    "start_time": "2024-05-24T09:34:55.344Z"
   },
   {
    "duration": 7,
    "start_time": "2024-05-24T09:34:55.595Z"
   },
   {
    "duration": 10,
    "start_time": "2024-05-24T09:34:55.603Z"
   },
   {
    "duration": 11,
    "start_time": "2024-05-24T09:34:55.614Z"
   },
   {
    "duration": 13,
    "start_time": "2024-05-24T09:34:55.627Z"
   },
   {
    "duration": 61,
    "start_time": "2024-05-24T09:34:55.641Z"
   },
   {
    "duration": 13,
    "start_time": "2024-05-24T09:34:55.703Z"
   },
   {
    "duration": 3,
    "start_time": "2024-05-24T09:34:55.718Z"
   },
   {
    "duration": 18,
    "start_time": "2024-05-24T09:34:55.723Z"
   },
   {
    "duration": 1503,
    "start_time": "2024-05-24T09:34:55.743Z"
   },
   {
    "duration": 1572,
    "start_time": "2024-05-24T09:34:57.247Z"
   },
   {
    "duration": 250,
    "start_time": "2024-05-24T09:34:58.821Z"
   },
   {
    "duration": 1712,
    "start_time": "2024-05-24T09:34:59.073Z"
   },
   {
    "duration": 298,
    "start_time": "2024-05-24T09:35:00.787Z"
   },
   {
    "duration": 1298,
    "start_time": "2024-05-24T09:35:01.087Z"
   },
   {
    "duration": 869,
    "start_time": "2024-05-24T09:35:02.387Z"
   },
   {
    "duration": 1694,
    "start_time": "2024-05-24T09:35:03.265Z"
   },
   {
    "duration": 11,
    "start_time": "2024-05-24T09:35:04.960Z"
   },
   {
    "duration": 23,
    "start_time": "2024-05-24T09:35:04.972Z"
   },
   {
    "duration": 492,
    "start_time": "2024-05-24T10:07:16.794Z"
   },
   {
    "duration": 1132,
    "start_time": "2024-05-24T10:10:37.765Z"
   },
   {
    "duration": 9,
    "start_time": "2024-05-24T10:11:00.841Z"
   },
   {
    "duration": 12,
    "start_time": "2024-05-24T10:11:10.776Z"
   },
   {
    "duration": 1338,
    "start_time": "2024-05-24T10:12:22.241Z"
   },
   {
    "duration": 112,
    "start_time": "2024-05-24T12:32:39.107Z"
   },
   {
    "duration": 119257,
    "start_time": "2024-05-24T12:33:04.811Z"
   },
   {
    "duration": 25406,
    "start_time": "2024-05-24T12:36:01.229Z"
   },
   {
    "duration": 36312,
    "start_time": "2024-05-24T12:36:43.088Z"
   },
   {
    "duration": 637,
    "start_time": "2024-05-24T12:37:35.301Z"
   },
   {
    "duration": 244,
    "start_time": "2024-05-24T12:37:54.736Z"
   },
   {
    "duration": 186,
    "start_time": "2024-05-24T12:38:37.076Z"
   },
   {
    "duration": 255,
    "start_time": "2024-05-24T12:42:35.352Z"
   },
   {
    "duration": 200,
    "start_time": "2024-05-24T12:43:57.908Z"
   },
   {
    "duration": 316,
    "start_time": "2024-05-24T12:44:34.336Z"
   },
   {
    "duration": 321,
    "start_time": "2024-05-24T12:44:44.832Z"
   },
   {
    "duration": 287,
    "start_time": "2024-05-24T12:44:55.768Z"
   },
   {
    "duration": 807,
    "start_time": "2024-05-24T12:45:59.464Z"
   },
   {
    "duration": 271,
    "start_time": "2024-05-24T12:46:14.888Z"
   },
   {
    "duration": 269,
    "start_time": "2024-05-24T12:48:47.087Z"
   },
   {
    "duration": 295,
    "start_time": "2024-05-24T12:50:24.647Z"
   },
   {
    "duration": 17,
    "start_time": "2024-05-24T12:51:49.759Z"
   },
   {
    "duration": 492,
    "start_time": "2024-05-24T12:52:57.167Z"
   },
   {
    "duration": 298,
    "start_time": "2024-05-24T12:58:13.503Z"
   },
   {
    "duration": 332,
    "start_time": "2024-05-24T13:00:59.775Z"
   },
   {
    "duration": 325,
    "start_time": "2024-05-24T13:03:59.719Z"
   },
   {
    "duration": 2431,
    "start_time": "2024-05-24T13:05:53.511Z"
   },
   {
    "duration": 582,
    "start_time": "2024-05-24T13:06:25.319Z"
   },
   {
    "duration": 67,
    "start_time": "2024-05-24T13:09:14.848Z"
   },
   {
    "duration": 111,
    "start_time": "2024-05-24T13:09:30.079Z"
   },
   {
    "duration": 414,
    "start_time": "2024-05-24T13:09:48.855Z"
   },
   {
    "duration": 342,
    "start_time": "2024-05-24T13:09:57.686Z"
   },
   {
    "duration": 345,
    "start_time": "2024-05-24T13:10:05.590Z"
   },
   {
    "duration": 319,
    "start_time": "2024-05-24T13:10:13.223Z"
   },
   {
    "duration": 320,
    "start_time": "2024-05-24T13:11:43.139Z"
   },
   {
    "duration": 353,
    "start_time": "2024-05-24T13:12:50.487Z"
   },
   {
    "duration": 325,
    "start_time": "2024-05-24T13:12:57.327Z"
   },
   {
    "duration": 350,
    "start_time": "2024-05-24T13:15:23.527Z"
   },
   {
    "duration": 358,
    "start_time": "2024-05-24T13:16:40.159Z"
   },
   {
    "duration": 363,
    "start_time": "2024-05-24T13:17:47.407Z"
   },
   {
    "duration": 364,
    "start_time": "2024-05-24T13:19:59.374Z"
   },
   {
    "duration": 351,
    "start_time": "2024-05-24T13:20:14.519Z"
   },
   {
    "duration": 359,
    "start_time": "2024-05-24T13:20:50.175Z"
   },
   {
    "duration": 313,
    "start_time": "2024-05-24T13:21:07.270Z"
   },
   {
    "duration": 312,
    "start_time": "2024-05-24T13:21:23.046Z"
   },
   {
    "duration": 361,
    "start_time": "2024-05-24T13:21:31.518Z"
   },
   {
    "duration": 19,
    "start_time": "2024-05-24T13:54:44.277Z"
   },
   {
    "duration": 342,
    "start_time": "2024-05-24T14:10:03.837Z"
   },
   {
    "duration": 313,
    "start_time": "2024-05-24T14:10:13.252Z"
   },
   {
    "duration": 23,
    "start_time": "2024-05-24T14:10:38.403Z"
   },
   {
    "duration": 332,
    "start_time": "2024-05-24T14:10:47.653Z"
   },
   {
    "duration": 375,
    "start_time": "2024-05-24T14:11:05.517Z"
   },
   {
    "duration": 351,
    "start_time": "2024-05-24T14:11:20.044Z"
   },
   {
    "duration": 333,
    "start_time": "2024-05-24T14:11:24.612Z"
   },
   {
    "duration": 339,
    "start_time": "2024-05-24T14:11:34.115Z"
   },
   {
    "duration": 328,
    "start_time": "2024-05-24T14:13:24.476Z"
   },
   {
    "duration": 349,
    "start_time": "2024-05-24T14:13:51.668Z"
   },
   {
    "duration": 15,
    "start_time": "2024-05-24T14:21:12.908Z"
   },
   {
    "duration": 735,
    "start_time": "2024-05-24T14:22:06.132Z"
   },
   {
    "duration": 18,
    "start_time": "2024-05-24T14:25:58.915Z"
   },
   {
    "duration": 10,
    "start_time": "2024-05-24T14:27:08.395Z"
   },
   {
    "duration": 11,
    "start_time": "2024-05-24T14:28:17.652Z"
   },
   {
    "duration": 719,
    "start_time": "2024-05-24T14:33:44.275Z"
   },
   {
    "duration": 9,
    "start_time": "2024-05-24T14:33:53.171Z"
   },
   {
    "duration": 9,
    "start_time": "2024-05-24T14:34:05.680Z"
   },
   {
    "duration": 810,
    "start_time": "2024-05-24T14:38:29.436Z"
   },
   {
    "duration": 72,
    "start_time": "2024-05-24T14:41:49.603Z"
   },
   {
    "duration": 782,
    "start_time": "2024-05-24T14:42:15.971Z"
   },
   {
    "duration": 62,
    "start_time": "2024-05-24T14:45:08.506Z"
   },
   {
    "duration": 26,
    "start_time": "2024-05-24T14:46:42.602Z"
   },
   {
    "duration": 24,
    "start_time": "2024-05-24T14:47:24.840Z"
   },
   {
    "duration": 18,
    "start_time": "2024-05-24T14:48:11.994Z"
   },
   {
    "duration": 55,
    "start_time": "2024-05-24T14:48:22.581Z"
   },
   {
    "duration": 69,
    "start_time": "2024-05-24T14:49:30.703Z"
   },
   {
    "duration": 23,
    "start_time": "2024-05-24T14:50:03.307Z"
   },
   {
    "duration": 9,
    "start_time": "2024-05-24T14:51:26.591Z"
   },
   {
    "duration": 13,
    "start_time": "2024-05-24T15:07:43.938Z"
   },
   {
    "duration": 19,
    "start_time": "2024-05-24T15:08:55.418Z"
   },
   {
    "duration": 15,
    "start_time": "2024-05-24T15:09:19.545Z"
   },
   {
    "duration": 17,
    "start_time": "2024-05-24T15:10:38.514Z"
   },
   {
    "duration": 13,
    "start_time": "2024-05-24T15:15:39.794Z"
   },
   {
    "duration": 5,
    "start_time": "2024-05-24T15:21:06.794Z"
   },
   {
    "duration": 7,
    "start_time": "2024-05-24T15:21:15.538Z"
   },
   {
    "duration": 6,
    "start_time": "2024-05-24T15:21:30.618Z"
   },
   {
    "duration": 11,
    "start_time": "2024-05-24T15:24:16.049Z"
   },
   {
    "duration": 11,
    "start_time": "2024-05-24T15:26:25.474Z"
   },
   {
    "duration": 3773,
    "start_time": "2024-05-24T15:28:02.887Z"
   },
   {
    "duration": 296,
    "start_time": "2024-05-24T15:28:06.662Z"
   },
   {
    "duration": 40,
    "start_time": "2024-05-24T15:28:06.960Z"
   },
   {
    "duration": 4162,
    "start_time": "2024-05-24T15:28:07.002Z"
   },
   {
    "duration": 1154,
    "start_time": "2024-05-24T15:28:11.165Z"
   },
   {
    "duration": 509,
    "start_time": "2024-05-24T15:28:12.320Z"
   },
   {
    "duration": 9,
    "start_time": "2024-05-24T15:28:12.831Z"
   },
   {
    "duration": 35,
    "start_time": "2024-05-24T15:28:12.841Z"
   },
   {
    "duration": 3,
    "start_time": "2024-05-24T15:28:12.878Z"
   },
   {
    "duration": 11,
    "start_time": "2024-05-24T15:28:12.883Z"
   },
   {
    "duration": 9,
    "start_time": "2024-05-24T15:28:12.895Z"
   },
   {
    "duration": 253,
    "start_time": "2024-05-24T15:28:12.906Z"
   },
   {
    "duration": 6,
    "start_time": "2024-05-24T15:28:13.160Z"
   },
   {
    "duration": 8,
    "start_time": "2024-05-24T15:28:13.167Z"
   },
   {
    "duration": 10,
    "start_time": "2024-05-24T15:28:13.176Z"
   },
   {
    "duration": 6,
    "start_time": "2024-05-24T15:28:13.188Z"
   },
   {
    "duration": 72,
    "start_time": "2024-05-24T15:28:13.196Z"
   },
   {
    "duration": 12,
    "start_time": "2024-05-24T15:28:13.270Z"
   },
   {
    "duration": 4,
    "start_time": "2024-05-24T15:28:13.283Z"
   },
   {
    "duration": 20,
    "start_time": "2024-05-24T15:28:13.288Z"
   },
   {
    "duration": 1486,
    "start_time": "2024-05-24T15:28:13.309Z"
   },
   {
    "duration": 1413,
    "start_time": "2024-05-24T15:28:14.796Z"
   },
   {
    "duration": 230,
    "start_time": "2024-05-24T15:28:16.211Z"
   },
   {
    "duration": 1710,
    "start_time": "2024-05-24T15:28:16.442Z"
   },
   {
    "duration": 424,
    "start_time": "2024-05-24T15:28:18.154Z"
   },
   {
    "duration": 1204,
    "start_time": "2024-05-24T15:28:18.579Z"
   },
   {
    "duration": 827,
    "start_time": "2024-05-24T15:28:19.785Z"
   },
   {
    "duration": 1602,
    "start_time": "2024-05-24T15:28:20.616Z"
   },
   {
    "duration": 11,
    "start_time": "2024-05-24T15:28:22.220Z"
   },
   {
    "duration": 9,
    "start_time": "2024-05-24T15:28:22.234Z"
   },
   {
    "duration": 501,
    "start_time": "2024-05-24T15:28:22.264Z"
   },
   {
    "duration": 303,
    "start_time": "2024-05-24T15:28:22.766Z"
   },
   {
    "duration": 333,
    "start_time": "2024-05-24T15:28:23.071Z"
   },
   {
    "duration": 349,
    "start_time": "2024-05-24T15:28:23.406Z"
   },
   {
    "duration": 356,
    "start_time": "2024-05-24T15:28:23.757Z"
   },
   {
    "duration": 12,
    "start_time": "2024-05-24T15:28:24.114Z"
   },
   {
    "duration": 12,
    "start_time": "2024-05-24T15:28:24.127Z"
   },
   {
    "duration": 335,
    "start_time": "2024-05-24T15:32:36.593Z"
   },
   {
    "duration": 349,
    "start_time": "2024-05-24T15:33:15.219Z"
   },
   {
    "duration": 319,
    "start_time": "2024-05-24T15:34:05.058Z"
   },
   {
    "duration": 395,
    "start_time": "2024-05-24T15:34:35.985Z"
   },
   {
    "duration": 355,
    "start_time": "2024-05-24T15:34:44.401Z"
   },
   {
    "duration": 337,
    "start_time": "2024-05-24T15:35:18.418Z"
   },
   {
    "duration": 431,
    "start_time": "2024-05-24T15:35:22.993Z"
   },
   {
    "duration": 10,
    "start_time": "2024-05-24T15:36:04.034Z"
   },
   {
    "duration": 12,
    "start_time": "2024-05-24T15:36:35.793Z"
   },
   {
    "duration": 15,
    "start_time": "2024-05-24T15:36:50.561Z"
   },
   {
    "duration": 54,
    "start_time": "2024-05-24T15:48:37.942Z"
   },
   {
    "duration": 9,
    "start_time": "2024-05-24T15:57:30.600Z"
   },
   {
    "duration": 5458,
    "start_time": "2024-05-24T17:42:14.307Z"
   },
   {
    "duration": 152,
    "start_time": "2024-05-24T17:42:19.767Z"
   },
   {
    "duration": 59,
    "start_time": "2024-05-24T17:42:19.920Z"
   },
   {
    "duration": 4832,
    "start_time": "2024-05-24T17:42:19.981Z"
   },
   {
    "duration": 1310,
    "start_time": "2024-05-24T17:42:24.816Z"
   },
   {
    "duration": 616,
    "start_time": "2024-05-24T17:42:26.128Z"
   },
   {
    "duration": 10,
    "start_time": "2024-05-24T17:42:26.746Z"
   },
   {
    "duration": 43,
    "start_time": "2024-05-24T17:42:26.757Z"
   },
   {
    "duration": 4,
    "start_time": "2024-05-24T17:42:26.802Z"
   },
   {
    "duration": 15,
    "start_time": "2024-05-24T17:42:26.810Z"
   },
   {
    "duration": 15,
    "start_time": "2024-05-24T17:42:26.833Z"
   },
   {
    "duration": 315,
    "start_time": "2024-05-24T17:42:26.849Z"
   },
   {
    "duration": 11,
    "start_time": "2024-05-24T17:42:27.166Z"
   },
   {
    "duration": 14,
    "start_time": "2024-05-24T17:42:27.178Z"
   },
   {
    "duration": 19,
    "start_time": "2024-05-24T17:42:27.194Z"
   },
   {
    "duration": 21,
    "start_time": "2024-05-24T17:42:27.214Z"
   },
   {
    "duration": 53,
    "start_time": "2024-05-24T17:42:27.236Z"
   },
   {
    "duration": 14,
    "start_time": "2024-05-24T17:42:27.291Z"
   },
   {
    "duration": 50,
    "start_time": "2024-05-24T17:42:27.307Z"
   },
   {
    "duration": 21,
    "start_time": "2024-05-24T17:42:27.359Z"
   },
   {
    "duration": 1664,
    "start_time": "2024-05-24T17:42:27.382Z"
   },
   {
    "duration": 1579,
    "start_time": "2024-05-24T17:42:29.048Z"
   },
   {
    "duration": 244,
    "start_time": "2024-05-24T17:42:30.629Z"
   },
   {
    "duration": 1927,
    "start_time": "2024-05-24T17:42:30.875Z"
   },
   {
    "duration": 399,
    "start_time": "2024-05-24T17:42:32.804Z"
   },
   {
    "duration": 1394,
    "start_time": "2024-05-24T17:42:33.205Z"
   },
   {
    "duration": 972,
    "start_time": "2024-05-24T17:42:34.602Z"
   },
   {
    "duration": 1747,
    "start_time": "2024-05-24T17:42:35.577Z"
   },
   {
    "duration": 9,
    "start_time": "2024-05-24T17:42:37.326Z"
   },
   {
    "duration": 19,
    "start_time": "2024-05-24T17:42:37.337Z"
   },
   {
    "duration": 530,
    "start_time": "2024-05-24T17:42:37.358Z"
   },
   {
    "duration": 383,
    "start_time": "2024-05-24T17:42:37.890Z"
   },
   {
    "duration": 397,
    "start_time": "2024-05-24T17:42:38.274Z"
   },
   {
    "duration": 343,
    "start_time": "2024-05-24T17:42:38.673Z"
   },
   {
    "duration": 389,
    "start_time": "2024-05-24T17:42:39.019Z"
   },
   {
    "duration": 14,
    "start_time": "2024-05-24T17:42:39.410Z"
   },
   {
    "duration": 14,
    "start_time": "2024-05-24T17:42:39.426Z"
   },
   {
    "duration": 366,
    "start_time": "2024-05-24T17:46:18.632Z"
   },
   {
    "duration": 398,
    "start_time": "2024-05-24T17:46:42.892Z"
   },
   {
    "duration": 12,
    "start_time": "2024-05-24T17:51:28.959Z"
   },
   {
    "duration": 12,
    "start_time": "2024-05-24T17:51:42.912Z"
   },
   {
    "duration": 10,
    "start_time": "2024-05-24T17:52:28.178Z"
   },
   {
    "duration": 11,
    "start_time": "2024-05-24T17:52:36.020Z"
   },
   {
    "duration": 12,
    "start_time": "2024-05-24T17:53:14.093Z"
   },
   {
    "duration": 117,
    "start_time": "2024-05-24T17:55:03.795Z"
   },
   {
    "duration": 15,
    "start_time": "2024-05-24T17:55:28.627Z"
   },
   {
    "duration": 12,
    "start_time": "2024-05-24T17:55:44.222Z"
   },
   {
    "duration": 4,
    "start_time": "2024-05-24T17:55:55.483Z"
   },
   {
    "duration": 26,
    "start_time": "2024-05-24T17:56:41.173Z"
   },
   {
    "duration": 26,
    "start_time": "2024-05-24T17:58:32.761Z"
   },
   {
    "duration": 7,
    "start_time": "2024-05-24T17:59:50.122Z"
   },
   {
    "duration": 50,
    "start_time": "2024-05-24T18:02:20.264Z"
   },
   {
    "duration": 24,
    "start_time": "2024-05-24T18:02:51.525Z"
   },
   {
    "duration": 10,
    "start_time": "2024-05-24T18:03:50.757Z"
   },
   {
    "duration": 32,
    "start_time": "2024-05-24T18:04:06.494Z"
   },
   {
    "duration": 11,
    "start_time": "2024-05-24T18:05:02.878Z"
   },
   {
    "duration": 16,
    "start_time": "2024-05-24T18:05:14.070Z"
   },
   {
    "duration": 8,
    "start_time": "2024-05-24T18:05:59.042Z"
   },
   {
    "duration": 9,
    "start_time": "2024-05-24T18:07:07.730Z"
   },
   {
    "duration": 13,
    "start_time": "2024-05-24T18:34:02.844Z"
   },
   {
    "duration": 17,
    "start_time": "2024-05-24T18:34:44.495Z"
   },
   {
    "duration": 13,
    "start_time": "2024-05-24T18:37:40.022Z"
   },
   {
    "duration": 13,
    "start_time": "2024-05-24T18:40:38.951Z"
   },
   {
    "duration": 13,
    "start_time": "2024-05-24T18:42:34.496Z"
   },
   {
    "duration": 13,
    "start_time": "2024-05-24T18:43:34.738Z"
   },
   {
    "duration": 13,
    "start_time": "2024-05-24T18:43:45.653Z"
   },
   {
    "duration": 13,
    "start_time": "2024-05-24T18:43:57.703Z"
   },
   {
    "duration": 12,
    "start_time": "2024-05-24T18:44:05.739Z"
   },
   {
    "duration": 13,
    "start_time": "2024-05-24T18:44:12.283Z"
   },
   {
    "duration": 14,
    "start_time": "2024-05-24T18:47:23.737Z"
   },
   {
    "duration": 15,
    "start_time": "2024-05-24T18:47:42.378Z"
   },
   {
    "duration": 15,
    "start_time": "2024-05-24T18:49:48.900Z"
   },
   {
    "duration": 4325,
    "start_time": "2024-05-24T19:29:51.193Z"
   },
   {
    "duration": 649,
    "start_time": "2024-05-24T19:29:55.521Z"
   },
   {
    "duration": 42,
    "start_time": "2024-05-24T19:29:56.172Z"
   },
   {
    "duration": 4649,
    "start_time": "2024-05-24T19:29:56.216Z"
   },
   {
    "duration": 1238,
    "start_time": "2024-05-24T19:30:00.867Z"
   },
   {
    "duration": 571,
    "start_time": "2024-05-24T19:30:02.107Z"
   },
   {
    "duration": 10,
    "start_time": "2024-05-24T19:30:02.680Z"
   },
   {
    "duration": 48,
    "start_time": "2024-05-24T19:30:02.692Z"
   },
   {
    "duration": 60,
    "start_time": "2024-05-24T19:30:02.741Z"
   },
   {
    "duration": 27,
    "start_time": "2024-05-24T19:30:02.804Z"
   },
   {
    "duration": 58,
    "start_time": "2024-05-24T19:30:02.833Z"
   },
   {
    "duration": 311,
    "start_time": "2024-05-24T19:30:02.893Z"
   },
   {
    "duration": 6,
    "start_time": "2024-05-24T19:30:03.205Z"
   },
   {
    "duration": 26,
    "start_time": "2024-05-24T19:30:03.213Z"
   },
   {
    "duration": 28,
    "start_time": "2024-05-24T19:30:03.241Z"
   },
   {
    "duration": 24,
    "start_time": "2024-05-24T19:30:03.270Z"
   },
   {
    "duration": 58,
    "start_time": "2024-05-24T19:30:03.295Z"
   },
   {
    "duration": 14,
    "start_time": "2024-05-24T19:30:03.355Z"
   },
   {
    "duration": 17,
    "start_time": "2024-05-24T19:30:03.370Z"
   },
   {
    "duration": 68,
    "start_time": "2024-05-24T19:30:03.389Z"
   },
   {
    "duration": 1653,
    "start_time": "2024-05-24T19:30:03.459Z"
   },
   {
    "duration": 1645,
    "start_time": "2024-05-24T19:30:05.114Z"
   },
   {
    "duration": 231,
    "start_time": "2024-05-24T19:30:06.761Z"
   },
   {
    "duration": 1879,
    "start_time": "2024-05-24T19:30:06.994Z"
   },
   {
    "duration": 411,
    "start_time": "2024-05-24T19:30:08.875Z"
   },
   {
    "duration": 1233,
    "start_time": "2024-05-24T19:30:09.288Z"
   },
   {
    "duration": 1008,
    "start_time": "2024-05-24T19:30:10.523Z"
   },
   {
    "duration": 1746,
    "start_time": "2024-05-24T19:30:11.534Z"
   },
   {
    "duration": 9,
    "start_time": "2024-05-24T19:30:13.282Z"
   },
   {
    "duration": 8,
    "start_time": "2024-05-24T19:30:13.292Z"
   },
   {
    "duration": 574,
    "start_time": "2024-05-24T19:30:13.302Z"
   },
   {
    "duration": 411,
    "start_time": "2024-05-24T19:30:13.878Z"
   },
   {
    "duration": 392,
    "start_time": "2024-05-24T19:30:14.292Z"
   },
   {
    "duration": 387,
    "start_time": "2024-05-24T19:30:14.686Z"
   },
   {
    "duration": 385,
    "start_time": "2024-05-24T19:30:15.075Z"
   },
   {
    "duration": 373,
    "start_time": "2024-05-24T19:30:15.462Z"
   },
   {
    "duration": 17,
    "start_time": "2024-05-24T19:30:15.837Z"
   },
   {
    "duration": 17,
    "start_time": "2024-05-24T19:30:15.873Z"
   },
   {
    "duration": 6297,
    "start_time": "2024-05-25T19:06:41.458Z"
   },
   {
    "duration": 99,
    "start_time": "2024-05-25T19:06:47.757Z"
   },
   {
    "duration": 45,
    "start_time": "2024-05-25T19:06:47.858Z"
   },
   {
    "duration": 4471,
    "start_time": "2024-05-25T19:06:47.905Z"
   },
   {
    "duration": 1127,
    "start_time": "2024-05-25T19:06:52.378Z"
   },
   {
    "duration": 524,
    "start_time": "2024-05-25T19:06:53.507Z"
   },
   {
    "duration": 10,
    "start_time": "2024-05-25T19:06:54.033Z"
   },
   {
    "duration": 24,
    "start_time": "2024-05-25T19:06:54.044Z"
   },
   {
    "duration": 4,
    "start_time": "2024-05-25T19:06:54.070Z"
   },
   {
    "duration": 16,
    "start_time": "2024-05-25T19:06:54.094Z"
   },
   {
    "duration": 15,
    "start_time": "2024-05-25T19:06:54.112Z"
   },
   {
    "duration": 262,
    "start_time": "2024-05-25T19:06:54.128Z"
   },
   {
    "duration": 6,
    "start_time": "2024-05-25T19:06:54.392Z"
   },
   {
    "duration": 27,
    "start_time": "2024-05-25T19:06:54.400Z"
   },
   {
    "duration": 21,
    "start_time": "2024-05-25T19:06:54.428Z"
   },
   {
    "duration": 6,
    "start_time": "2024-05-25T19:06:54.451Z"
   },
   {
    "duration": 61,
    "start_time": "2024-05-25T19:06:54.459Z"
   },
   {
    "duration": 14,
    "start_time": "2024-05-25T19:06:54.522Z"
   },
   {
    "duration": 11,
    "start_time": "2024-05-25T19:06:54.537Z"
   },
   {
    "duration": 25,
    "start_time": "2024-05-25T19:06:54.549Z"
   },
   {
    "duration": 1647,
    "start_time": "2024-05-25T19:06:54.576Z"
   },
   {
    "duration": 1538,
    "start_time": "2024-05-25T19:06:56.225Z"
   },
   {
    "duration": 218,
    "start_time": "2024-05-25T19:06:57.765Z"
   },
   {
    "duration": 1774,
    "start_time": "2024-05-25T19:06:57.984Z"
   },
   {
    "duration": 460,
    "start_time": "2024-05-25T19:06:59.760Z"
   },
   {
    "duration": 1319,
    "start_time": "2024-05-25T19:07:00.221Z"
   },
   {
    "duration": 905,
    "start_time": "2024-05-25T19:07:01.590Z"
   },
   {
    "duration": 1737,
    "start_time": "2024-05-25T19:07:02.500Z"
   },
   {
    "duration": 10,
    "start_time": "2024-05-25T19:07:04.239Z"
   },
   {
    "duration": 14,
    "start_time": "2024-05-25T19:07:04.251Z"
   },
   {
    "duration": 527,
    "start_time": "2024-05-25T19:07:04.267Z"
   },
   {
    "duration": 391,
    "start_time": "2024-05-25T19:07:04.795Z"
   },
   {
    "duration": 406,
    "start_time": "2024-05-25T19:07:05.188Z"
   },
   {
    "duration": 353,
    "start_time": "2024-05-25T19:07:05.596Z"
   },
   {
    "duration": 360,
    "start_time": "2024-05-25T19:07:05.951Z"
   },
   {
    "duration": 400,
    "start_time": "2024-05-25T19:07:06.313Z"
   },
   {
    "duration": 16,
    "start_time": "2024-05-25T19:07:06.714Z"
   },
   {
    "duration": 16,
    "start_time": "2024-05-25T19:07:06.732Z"
   },
   {
    "duration": 5138,
    "start_time": "2024-05-26T10:03:04.744Z"
   },
   {
    "duration": 159,
    "start_time": "2024-05-26T10:03:09.884Z"
   },
   {
    "duration": 55,
    "start_time": "2024-05-26T10:03:10.045Z"
   },
   {
    "duration": 4412,
    "start_time": "2024-05-26T10:03:10.102Z"
   },
   {
    "duration": 1252,
    "start_time": "2024-05-26T10:03:14.516Z"
   },
   {
    "duration": 569,
    "start_time": "2024-05-26T10:03:15.771Z"
   },
   {
    "duration": 11,
    "start_time": "2024-05-26T10:03:16.342Z"
   },
   {
    "duration": 43,
    "start_time": "2024-05-26T10:03:16.355Z"
   },
   {
    "duration": 7,
    "start_time": "2024-05-26T10:03:16.404Z"
   },
   {
    "duration": 12,
    "start_time": "2024-05-26T10:03:16.414Z"
   },
   {
    "duration": 23,
    "start_time": "2024-05-26T10:03:16.428Z"
   },
   {
    "duration": 360,
    "start_time": "2024-05-26T10:03:16.453Z"
   },
   {
    "duration": 6,
    "start_time": "2024-05-26T10:03:16.815Z"
   },
   {
    "duration": 15,
    "start_time": "2024-05-26T10:03:16.823Z"
   },
   {
    "duration": 23,
    "start_time": "2024-05-26T10:03:16.840Z"
   },
   {
    "duration": 7,
    "start_time": "2024-05-26T10:03:16.865Z"
   },
   {
    "duration": 53,
    "start_time": "2024-05-26T10:03:16.874Z"
   },
   {
    "duration": 14,
    "start_time": "2024-05-26T10:03:16.929Z"
   },
   {
    "duration": 10,
    "start_time": "2024-05-26T10:03:16.945Z"
   },
   {
    "duration": 40,
    "start_time": "2024-05-26T10:03:16.956Z"
   },
   {
    "duration": 1729,
    "start_time": "2024-05-26T10:03:16.999Z"
   },
   {
    "duration": 4,
    "start_time": "2024-05-26T10:03:18.730Z"
   },
   {
    "duration": 6,
    "start_time": "2024-05-26T10:03:18.736Z"
   },
   {
    "duration": 1534,
    "start_time": "2024-05-26T10:03:18.743Z"
   },
   {
    "duration": 247,
    "start_time": "2024-05-26T10:03:20.279Z"
   },
   {
    "duration": 1927,
    "start_time": "2024-05-26T10:03:20.527Z"
   },
   {
    "duration": 394,
    "start_time": "2024-05-26T10:03:22.456Z"
   },
   {
    "duration": 1290,
    "start_time": "2024-05-26T10:03:22.854Z"
   },
   {
    "duration": 999,
    "start_time": "2024-05-26T10:03:24.145Z"
   },
   {
    "duration": 728,
    "start_time": "2024-05-26T10:03:25.145Z"
   },
   {
    "duration": 1213,
    "start_time": "2024-05-26T10:03:25.874Z"
   },
   {
    "duration": 11,
    "start_time": "2024-05-26T10:03:27.088Z"
   },
   {
    "duration": 6,
    "start_time": "2024-05-26T10:03:27.101Z"
   },
   {
    "duration": 7,
    "start_time": "2024-05-26T10:03:27.110Z"
   },
   {
    "duration": 9,
    "start_time": "2024-05-26T10:03:27.118Z"
   },
   {
    "duration": 401,
    "start_time": "2024-05-26T10:03:27.128Z"
   },
   {
    "duration": 421,
    "start_time": "2024-05-26T10:03:27.531Z"
   },
   {
    "duration": 383,
    "start_time": "2024-05-26T10:03:27.954Z"
   },
   {
    "duration": 396,
    "start_time": "2024-05-26T10:03:28.339Z"
   },
   {
    "duration": 466,
    "start_time": "2024-05-26T10:03:28.737Z"
   },
   {
    "duration": 422,
    "start_time": "2024-05-26T10:03:29.211Z"
   },
   {
    "duration": 6,
    "start_time": "2024-05-26T10:03:29.635Z"
   },
   {
    "duration": 22,
    "start_time": "2024-05-26T10:03:29.642Z"
   },
   {
    "duration": 53,
    "start_time": "2024-05-26T10:03:29.666Z"
   },
   {
    "duration": 53,
    "start_time": "2024-05-26T15:42:19.783Z"
   },
   {
    "duration": 5231,
    "start_time": "2024-05-26T15:42:26.088Z"
   },
   {
    "duration": 151,
    "start_time": "2024-05-26T15:42:31.322Z"
   },
   {
    "duration": 61,
    "start_time": "2024-05-26T15:42:31.475Z"
   },
   {
    "duration": 4521,
    "start_time": "2024-05-26T15:42:31.539Z"
   },
   {
    "duration": 1105,
    "start_time": "2024-05-26T15:42:36.062Z"
   },
   {
    "duration": 999,
    "start_time": "2024-05-26T15:42:37.168Z"
   },
   {
    "duration": 61,
    "start_time": "2024-05-26T15:42:38.169Z"
   },
   {
    "duration": 23,
    "start_time": "2024-05-26T15:42:38.232Z"
   },
   {
    "duration": 3,
    "start_time": "2024-05-26T15:42:38.257Z"
   },
   {
    "duration": 74,
    "start_time": "2024-05-26T15:42:38.262Z"
   },
   {
    "duration": 9,
    "start_time": "2024-05-26T15:42:38.337Z"
   },
   {
    "duration": 370,
    "start_time": "2024-05-26T15:42:38.348Z"
   },
   {
    "duration": 5,
    "start_time": "2024-05-26T15:42:38.720Z"
   },
   {
    "duration": 8,
    "start_time": "2024-05-26T15:42:38.728Z"
   },
   {
    "duration": 10,
    "start_time": "2024-05-26T15:42:38.738Z"
   },
   {
    "duration": 5,
    "start_time": "2024-05-26T15:42:38.749Z"
   },
   {
    "duration": 44,
    "start_time": "2024-05-26T15:42:38.755Z"
   },
   {
    "duration": 40,
    "start_time": "2024-05-26T15:42:38.801Z"
   },
   {
    "duration": 4,
    "start_time": "2024-05-26T15:42:38.843Z"
   },
   {
    "duration": 20,
    "start_time": "2024-05-26T15:42:38.848Z"
   },
   {
    "duration": 1669,
    "start_time": "2024-05-26T15:42:38.870Z"
   },
   {
    "duration": 5,
    "start_time": "2024-05-26T15:42:40.540Z"
   },
   {
    "duration": 12,
    "start_time": "2024-05-26T15:42:40.546Z"
   },
   {
    "duration": 1514,
    "start_time": "2024-05-26T15:42:40.560Z"
   },
   {
    "duration": 228,
    "start_time": "2024-05-26T15:42:42.076Z"
   },
   {
    "duration": 1927,
    "start_time": "2024-05-26T15:42:42.306Z"
   },
   {
    "duration": 416,
    "start_time": "2024-05-26T15:42:44.235Z"
   },
   {
    "duration": 1303,
    "start_time": "2024-05-26T15:42:44.654Z"
   },
   {
    "duration": 898,
    "start_time": "2024-05-26T15:42:45.959Z"
   },
   {
    "duration": 577,
    "start_time": "2024-05-26T15:42:46.859Z"
   },
   {
    "duration": 1134,
    "start_time": "2024-05-26T15:42:47.437Z"
   },
   {
    "duration": 8,
    "start_time": "2024-05-26T15:42:48.572Z"
   },
   {
    "duration": 13,
    "start_time": "2024-05-26T15:42:48.581Z"
   },
   {
    "duration": 14,
    "start_time": "2024-05-26T15:42:48.596Z"
   },
   {
    "duration": 5,
    "start_time": "2024-05-26T15:42:48.612Z"
   },
   {
    "duration": 518,
    "start_time": "2024-05-26T15:42:48.619Z"
   },
   {
    "duration": 384,
    "start_time": "2024-05-26T15:42:49.139Z"
   },
   {
    "duration": 361,
    "start_time": "2024-05-26T15:42:49.528Z"
   },
   {
    "duration": 352,
    "start_time": "2024-05-26T15:42:49.891Z"
   },
   {
    "duration": 390,
    "start_time": "2024-05-26T15:42:50.245Z"
   },
   {
    "duration": 409,
    "start_time": "2024-05-26T15:42:50.637Z"
   },
   {
    "duration": 6,
    "start_time": "2024-05-26T15:42:51.048Z"
   },
   {
    "duration": 37,
    "start_time": "2024-05-26T15:42:51.056Z"
   },
   {
    "duration": 16,
    "start_time": "2024-05-26T15:42:51.095Z"
   },
   {
    "duration": 1917,
    "start_time": "2024-05-26T15:43:25.975Z"
   },
   {
    "duration": 59,
    "start_time": "2024-05-26T16:04:50.283Z"
   },
   {
    "duration": 21,
    "start_time": "2024-05-26T16:07:36.301Z"
   },
   {
    "duration": 85,
    "start_time": "2024-05-26T16:09:17.183Z"
   },
   {
    "duration": 4162,
    "start_time": "2024-05-26T16:13:31.439Z"
   },
   {
    "duration": 120,
    "start_time": "2024-05-26T16:13:35.603Z"
   },
   {
    "duration": 43,
    "start_time": "2024-05-26T16:13:35.725Z"
   },
   {
    "duration": 4493,
    "start_time": "2024-05-26T16:13:35.771Z"
   },
   {
    "duration": 654,
    "start_time": "2024-05-26T16:13:40.266Z"
   },
   {
    "duration": 853,
    "start_time": "2024-05-26T16:13:40.922Z"
   },
   {
    "duration": 11,
    "start_time": "2024-05-26T16:13:41.777Z"
   },
   {
    "duration": 41,
    "start_time": "2024-05-26T16:13:41.790Z"
   },
   {
    "duration": 29,
    "start_time": "2024-05-26T16:13:41.833Z"
   },
   {
    "duration": 15,
    "start_time": "2024-05-26T16:13:41.866Z"
   },
   {
    "duration": 3,
    "start_time": "2024-05-26T16:13:41.882Z"
   },
   {
    "duration": 27,
    "start_time": "2024-05-26T16:13:41.886Z"
   },
   {
    "duration": 9,
    "start_time": "2024-05-26T16:13:41.915Z"
   },
   {
    "duration": 22,
    "start_time": "2024-05-26T16:13:41.925Z"
   },
   {
    "duration": 6,
    "start_time": "2024-05-26T16:13:41.948Z"
   },
   {
    "duration": 45,
    "start_time": "2024-05-26T16:13:41.955Z"
   },
   {
    "duration": 33,
    "start_time": "2024-05-26T16:13:42.001Z"
   },
   {
    "duration": 4,
    "start_time": "2024-05-26T16:13:42.036Z"
   },
   {
    "duration": 24,
    "start_time": "2024-05-26T16:13:42.042Z"
   },
   {
    "duration": 2006,
    "start_time": "2024-05-26T16:13:42.068Z"
   },
   {
    "duration": 55,
    "start_time": "2024-05-26T16:13:44.076Z"
   },
   {
    "duration": 19,
    "start_time": "2024-05-26T16:13:44.133Z"
   },
   {
    "duration": 1820,
    "start_time": "2024-05-26T16:13:44.154Z"
   },
   {
    "duration": 256,
    "start_time": "2024-05-26T16:13:45.976Z"
   },
   {
    "duration": 1705,
    "start_time": "2024-05-26T16:13:46.233Z"
   },
   {
    "duration": 599,
    "start_time": "2024-05-26T16:13:47.939Z"
   },
   {
    "duration": 1248,
    "start_time": "2024-05-26T16:13:48.540Z"
   },
   {
    "duration": 937,
    "start_time": "2024-05-26T16:13:49.792Z"
   },
   {
    "duration": 656,
    "start_time": "2024-05-26T16:13:50.731Z"
   },
   {
    "duration": 1147,
    "start_time": "2024-05-26T16:13:51.389Z"
   },
   {
    "duration": 8,
    "start_time": "2024-05-26T16:13:52.537Z"
   },
   {
    "duration": 4,
    "start_time": "2024-05-26T16:13:52.546Z"
   },
   {
    "duration": 8,
    "start_time": "2024-05-26T16:13:52.551Z"
   },
   {
    "duration": 4,
    "start_time": "2024-05-26T16:13:52.561Z"
   },
   {
    "duration": 490,
    "start_time": "2024-05-26T16:13:52.567Z"
   },
   {
    "duration": 372,
    "start_time": "2024-05-26T16:13:53.059Z"
   },
   {
    "duration": 403,
    "start_time": "2024-05-26T16:13:53.433Z"
   },
   {
    "duration": 381,
    "start_time": "2024-05-26T16:13:53.838Z"
   },
   {
    "duration": 372,
    "start_time": "2024-05-26T16:13:54.221Z"
   },
   {
    "duration": 369,
    "start_time": "2024-05-26T16:13:54.594Z"
   },
   {
    "duration": 7,
    "start_time": "2024-05-26T16:13:54.965Z"
   },
   {
    "duration": 31,
    "start_time": "2024-05-26T16:13:54.974Z"
   },
   {
    "duration": 30,
    "start_time": "2024-05-26T16:13:55.007Z"
   },
   {
    "duration": 23,
    "start_time": "2024-05-26T16:27:38.296Z"
   },
   {
    "duration": 167,
    "start_time": "2024-05-26T17:52:06.171Z"
   },
   {
    "duration": 28,
    "start_time": "2024-05-26T17:52:54.041Z"
   },
   {
    "duration": 4185,
    "start_time": "2024-05-26T17:53:11.427Z"
   },
   {
    "duration": 152,
    "start_time": "2024-05-26T17:53:15.615Z"
   },
   {
    "duration": 42,
    "start_time": "2024-05-26T17:53:15.768Z"
   },
   {
    "duration": 4330,
    "start_time": "2024-05-26T17:53:15.828Z"
   },
   {
    "duration": 681,
    "start_time": "2024-05-26T17:53:20.181Z"
   },
   {
    "duration": 831,
    "start_time": "2024-05-26T17:53:20.864Z"
   },
   {
    "duration": 10,
    "start_time": "2024-05-26T17:53:21.697Z"
   },
   {
    "duration": 37,
    "start_time": "2024-05-26T17:53:21.709Z"
   },
   {
    "duration": 4,
    "start_time": "2024-05-26T17:53:21.748Z"
   },
   {
    "duration": 12,
    "start_time": "2024-05-26T17:53:21.754Z"
   },
   {
    "duration": 2,
    "start_time": "2024-05-26T17:53:21.768Z"
   },
   {
    "duration": 21,
    "start_time": "2024-05-26T17:53:21.772Z"
   },
   {
    "duration": 36,
    "start_time": "2024-05-26T17:53:21.794Z"
   },
   {
    "duration": 3,
    "start_time": "2024-05-26T17:53:21.832Z"
   },
   {
    "duration": 31,
    "start_time": "2024-05-26T17:53:21.836Z"
   },
   {
    "duration": 14,
    "start_time": "2024-05-26T17:53:21.868Z"
   },
   {
    "duration": 4,
    "start_time": "2024-05-26T17:53:21.884Z"
   },
   {
    "duration": 52,
    "start_time": "2024-05-26T17:53:21.890Z"
   },
   {
    "duration": 1600,
    "start_time": "2024-05-26T17:53:21.943Z"
   },
   {
    "duration": 5,
    "start_time": "2024-05-26T17:53:23.544Z"
   },
   {
    "duration": 24,
    "start_time": "2024-05-26T17:53:23.550Z"
   },
   {
    "duration": 1514,
    "start_time": "2024-05-26T17:53:23.576Z"
   },
   {
    "duration": 259,
    "start_time": "2024-05-26T17:53:25.092Z"
   },
   {
    "duration": 2555,
    "start_time": "2024-05-26T17:53:25.353Z"
   },
   {
    "duration": 544,
    "start_time": "2024-05-26T17:53:27.909Z"
   },
   {
    "duration": 1922,
    "start_time": "2024-05-26T17:53:28.456Z"
   },
   {
    "duration": 949,
    "start_time": "2024-05-26T17:53:30.380Z"
   },
   {
    "duration": 603,
    "start_time": "2024-05-26T17:53:31.333Z"
   },
   {
    "duration": 1138,
    "start_time": "2024-05-26T17:53:31.937Z"
   },
   {
    "duration": 9,
    "start_time": "2024-05-26T17:53:33.077Z"
   },
   {
    "duration": 6,
    "start_time": "2024-05-26T17:53:33.087Z"
   },
   {
    "duration": 25,
    "start_time": "2024-05-26T17:53:33.095Z"
   },
   {
    "duration": 44,
    "start_time": "2024-05-26T17:53:33.122Z"
   },
   {
    "duration": 523,
    "start_time": "2024-05-26T17:53:33.168Z"
   },
   {
    "duration": 348,
    "start_time": "2024-05-26T17:53:33.693Z"
   },
   {
    "duration": 390,
    "start_time": "2024-05-26T17:53:34.042Z"
   },
   {
    "duration": 349,
    "start_time": "2024-05-26T17:53:34.434Z"
   },
   {
    "duration": 393,
    "start_time": "2024-05-26T17:53:34.785Z"
   },
   {
    "duration": 396,
    "start_time": "2024-05-26T17:53:35.180Z"
   },
   {
    "duration": 7,
    "start_time": "2024-05-26T17:53:35.578Z"
   },
   {
    "duration": 13,
    "start_time": "2024-05-26T17:53:35.586Z"
   },
   {
    "duration": 43,
    "start_time": "2024-05-26T17:53:35.601Z"
   },
   {
    "duration": 125,
    "start_time": "2024-05-26T18:06:34.763Z"
   },
   {
    "duration": 9,
    "start_time": "2024-05-26T18:07:16.785Z"
   },
   {
    "duration": 372,
    "start_time": "2024-05-26T18:07:59.363Z"
   },
   {
    "duration": 26,
    "start_time": "2024-05-26T18:08:25.662Z"
   },
   {
    "duration": 339,
    "start_time": "2024-05-26T18:08:34.155Z"
   },
   {
    "duration": 3971,
    "start_time": "2024-05-26T18:09:15.770Z"
   },
   {
    "duration": 99,
    "start_time": "2024-05-26T18:09:24.941Z"
   },
   {
    "duration": 97,
    "start_time": "2024-05-26T18:09:27.785Z"
   },
   {
    "duration": 41,
    "start_time": "2024-05-26T18:09:34.708Z"
   },
   {
    "duration": 4302,
    "start_time": "2024-05-26T18:09:37.590Z"
   },
   {
    "duration": 526,
    "start_time": "2024-05-26T18:09:45.869Z"
   },
   {
    "duration": 10,
    "start_time": "2024-05-26T18:09:51.270Z"
   },
   {
    "duration": 27,
    "start_time": "2024-05-26T18:09:54.881Z"
   },
   {
    "duration": 4,
    "start_time": "2024-05-26T18:09:58.094Z"
   },
   {
    "duration": 11,
    "start_time": "2024-05-26T18:10:00.597Z"
   },
   {
    "duration": 276,
    "start_time": "2024-05-26T18:10:05.341Z"
   },
   {
    "duration": 9,
    "start_time": "2024-05-26T18:10:13.477Z"
   },
   {
    "duration": 28,
    "start_time": "2024-05-26T18:10:17.917Z"
   },
   {
    "duration": 427,
    "start_time": "2024-05-26T18:10:31.533Z"
   },
   {
    "duration": 407,
    "start_time": "2024-05-26T18:11:23.624Z"
   },
   {
    "duration": 393,
    "start_time": "2024-05-26T18:11:37.066Z"
   },
   {
    "duration": 22,
    "start_time": "2024-05-26T18:13:01.628Z"
   },
   {
    "duration": 6,
    "start_time": "2024-05-26T18:15:56.458Z"
   },
   {
    "duration": 7,
    "start_time": "2024-05-26T18:16:27.890Z"
   },
   {
    "duration": 8,
    "start_time": "2024-05-26T18:16:38.975Z"
   },
   {
    "duration": 37,
    "start_time": "2024-05-26T18:19:36.836Z"
   },
   {
    "duration": 29,
    "start_time": "2024-05-26T18:22:02.949Z"
   },
   {
    "duration": 13,
    "start_time": "2024-05-26T18:29:05.681Z"
   },
   {
    "duration": 128,
    "start_time": "2024-05-26T18:31:59.641Z"
   },
   {
    "duration": 567,
    "start_time": "2024-05-26T18:38:20.482Z"
   },
   {
    "duration": 546,
    "start_time": "2024-05-26T18:38:45.213Z"
   },
   {
    "duration": 471,
    "start_time": "2024-05-26T18:39:10.516Z"
   },
   {
    "duration": 484,
    "start_time": "2024-05-26T18:39:41.276Z"
   },
   {
    "duration": 1098,
    "start_time": "2024-05-26T18:41:46.996Z"
   },
   {
    "duration": 1407,
    "start_time": "2024-05-26T18:42:56.395Z"
   },
   {
    "duration": 478,
    "start_time": "2024-05-26T18:44:07.549Z"
   },
   {
    "duration": 11,
    "start_time": "2024-05-26T18:59:08.322Z"
   },
   {
    "duration": 4194,
    "start_time": "2024-05-26T18:59:31.406Z"
   },
   {
    "duration": 142,
    "start_time": "2024-05-26T18:59:35.602Z"
   },
   {
    "duration": 49,
    "start_time": "2024-05-26T18:59:35.746Z"
   },
   {
    "duration": 4659,
    "start_time": "2024-05-26T18:59:35.797Z"
   },
   {
    "duration": 13,
    "start_time": "2024-05-26T18:59:40.458Z"
   },
   {
    "duration": 634,
    "start_time": "2024-05-26T18:59:40.473Z"
   },
   {
    "duration": 811,
    "start_time": "2024-05-26T18:59:41.109Z"
   },
   {
    "duration": 13,
    "start_time": "2024-05-26T18:59:41.922Z"
   },
   {
    "duration": 23,
    "start_time": "2024-05-26T18:59:41.937Z"
   },
   {
    "duration": 3,
    "start_time": "2024-05-26T18:59:41.963Z"
   },
   {
    "duration": 15,
    "start_time": "2024-05-26T18:59:41.968Z"
   },
   {
    "duration": 2,
    "start_time": "2024-05-26T18:59:41.984Z"
   },
   {
    "duration": 67,
    "start_time": "2024-05-26T18:59:41.988Z"
   },
   {
    "duration": 12,
    "start_time": "2024-05-26T18:59:42.058Z"
   },
   {
    "duration": 10,
    "start_time": "2024-05-26T18:59:42.071Z"
   },
   {
    "duration": 29,
    "start_time": "2024-05-26T18:59:42.083Z"
   },
   {
    "duration": 39,
    "start_time": "2024-05-26T18:59:42.114Z"
   },
   {
    "duration": 491,
    "start_time": "2024-05-26T18:59:42.155Z"
   },
   {
    "duration": 2042,
    "start_time": "2024-05-26T18:59:42.648Z"
   },
   {
    "duration": 15,
    "start_time": "2024-05-26T18:59:44.692Z"
   },
   {
    "duration": 4,
    "start_time": "2024-05-26T18:59:44.708Z"
   },
   {
    "duration": 36,
    "start_time": "2024-05-26T18:59:44.714Z"
   },
   {
    "duration": 1886,
    "start_time": "2024-05-26T18:59:44.751Z"
   },
   {
    "duration": 5,
    "start_time": "2024-05-26T18:59:46.639Z"
   },
   {
    "duration": 9,
    "start_time": "2024-05-26T18:59:46.646Z"
   },
   {
    "duration": 1409,
    "start_time": "2024-05-26T18:59:46.657Z"
   },
   {
    "duration": 248,
    "start_time": "2024-05-26T18:59:48.068Z"
   },
   {
    "duration": 2553,
    "start_time": "2024-05-26T18:59:48.320Z"
   },
   {
    "duration": 487,
    "start_time": "2024-05-26T18:59:50.874Z"
   },
   {
    "duration": 1413,
    "start_time": "2024-05-26T18:59:51.363Z"
   },
   {
    "duration": 1083,
    "start_time": "2024-05-26T18:59:52.779Z"
   },
   {
    "duration": 677,
    "start_time": "2024-05-26T18:59:53.863Z"
   },
   {
    "duration": 1295,
    "start_time": "2024-05-26T18:59:54.541Z"
   },
   {
    "duration": 7,
    "start_time": "2024-05-26T18:59:55.837Z"
   },
   {
    "duration": 61,
    "start_time": "2024-05-26T18:59:55.846Z"
   },
   {
    "duration": 33,
    "start_time": "2024-05-26T18:59:55.908Z"
   },
   {
    "duration": 21,
    "start_time": "2024-05-26T18:59:55.943Z"
   },
   {
    "duration": 370,
    "start_time": "2024-05-26T18:59:55.966Z"
   },
   {
    "duration": 370,
    "start_time": "2024-05-26T18:59:56.338Z"
   },
   {
    "duration": 357,
    "start_time": "2024-05-26T18:59:56.709Z"
   },
   {
    "duration": 385,
    "start_time": "2024-05-26T18:59:57.068Z"
   },
   {
    "duration": 489,
    "start_time": "2024-05-26T18:59:57.455Z"
   },
   {
    "duration": 385,
    "start_time": "2024-05-26T18:59:57.946Z"
   },
   {
    "duration": 7,
    "start_time": "2024-05-26T18:59:58.334Z"
   },
   {
    "duration": 17,
    "start_time": "2024-05-26T18:59:58.342Z"
   },
   {
    "duration": 78,
    "start_time": "2024-05-26T18:59:58.360Z"
   },
   {
    "duration": 7,
    "start_time": "2024-05-26T19:00:09.392Z"
   },
   {
    "duration": 399,
    "start_time": "2024-05-26T19:03:09.805Z"
   },
   {
    "duration": 128,
    "start_time": "2024-05-26T19:26:19.540Z"
   },
   {
    "duration": 4847,
    "start_time": "2024-05-26T19:27:11.049Z"
   },
   {
    "duration": 112,
    "start_time": "2024-05-26T19:27:15.898Z"
   },
   {
    "duration": 55,
    "start_time": "2024-05-26T19:27:16.011Z"
   },
   {
    "duration": 4292,
    "start_time": "2024-05-26T19:27:16.068Z"
   },
   {
    "duration": 8,
    "start_time": "2024-05-26T19:27:20.362Z"
   },
   {
    "duration": 648,
    "start_time": "2024-05-26T19:27:20.372Z"
   },
   {
    "duration": 851,
    "start_time": "2024-05-26T19:27:21.022Z"
   },
   {
    "duration": 12,
    "start_time": "2024-05-26T19:27:21.875Z"
   },
   {
    "duration": 42,
    "start_time": "2024-05-26T19:27:21.889Z"
   },
   {
    "duration": 4,
    "start_time": "2024-05-26T19:27:21.935Z"
   },
   {
    "duration": 70,
    "start_time": "2024-05-26T19:27:21.941Z"
   },
   {
    "duration": 17,
    "start_time": "2024-05-26T19:27:22.013Z"
   },
   {
    "duration": 99,
    "start_time": "2024-05-26T19:27:22.032Z"
   },
   {
    "duration": 41,
    "start_time": "2024-05-26T19:27:22.133Z"
   },
   {
    "duration": 21,
    "start_time": "2024-05-26T19:27:22.176Z"
   },
   {
    "duration": 62,
    "start_time": "2024-05-26T19:27:22.198Z"
   },
   {
    "duration": 26,
    "start_time": "2024-05-26T19:27:22.261Z"
   },
   {
    "duration": 505,
    "start_time": "2024-05-26T19:27:22.288Z"
   },
   {
    "duration": 477,
    "start_time": "2024-05-26T19:27:22.795Z"
   },
   {
    "duration": 2,
    "start_time": "2024-05-26T19:27:23.274Z"
   },
   {
    "duration": 17,
    "start_time": "2024-05-26T19:27:23.278Z"
   },
   {
    "duration": 24,
    "start_time": "2024-05-26T19:27:23.297Z"
   },
   {
    "duration": 1748,
    "start_time": "2024-05-26T19:27:23.322Z"
   },
   {
    "duration": 60,
    "start_time": "2024-05-26T19:27:25.071Z"
   },
   {
    "duration": 34,
    "start_time": "2024-05-26T19:27:25.132Z"
   },
   {
    "duration": 2066,
    "start_time": "2024-05-26T19:27:25.167Z"
   },
   {
    "duration": 244,
    "start_time": "2024-05-26T19:27:27.235Z"
   },
   {
    "duration": 1699,
    "start_time": "2024-05-26T19:27:27.484Z"
   },
   {
    "duration": 565,
    "start_time": "2024-05-26T19:27:29.184Z"
   },
   {
    "duration": 1223,
    "start_time": "2024-05-26T19:27:29.751Z"
   },
   {
    "duration": 933,
    "start_time": "2024-05-26T19:27:30.976Z"
   },
   {
    "duration": 1134,
    "start_time": "2024-05-26T19:27:31.911Z"
   },
   {
    "duration": 1339,
    "start_time": "2024-05-26T19:27:33.047Z"
   },
   {
    "duration": 8,
    "start_time": "2024-05-26T19:27:34.387Z"
   },
   {
    "duration": 5,
    "start_time": "2024-05-26T19:27:34.396Z"
   },
   {
    "duration": 9,
    "start_time": "2024-05-26T19:27:34.403Z"
   },
   {
    "duration": 17,
    "start_time": "2024-05-26T19:27:34.414Z"
   },
   {
    "duration": 450,
    "start_time": "2024-05-26T19:27:34.433Z"
   },
   {
    "duration": 384,
    "start_time": "2024-05-26T19:27:34.886Z"
   },
   {
    "duration": 395,
    "start_time": "2024-05-26T19:27:35.272Z"
   },
   {
    "duration": 392,
    "start_time": "2024-05-26T19:27:35.669Z"
   },
   {
    "duration": 369,
    "start_time": "2024-05-26T19:27:36.063Z"
   },
   {
    "duration": 349,
    "start_time": "2024-05-26T19:27:36.434Z"
   },
   {
    "duration": 6,
    "start_time": "2024-05-26T19:27:36.785Z"
   },
   {
    "duration": 19,
    "start_time": "2024-05-26T19:27:36.793Z"
   },
   {
    "duration": 24,
    "start_time": "2024-05-26T19:27:36.813Z"
   },
   {
    "duration": 127,
    "start_time": "2024-05-26T19:31:08.240Z"
   },
   {
    "duration": 1562,
    "start_time": "2024-05-26T19:33:27.783Z"
   },
   {
    "duration": 379,
    "start_time": "2024-05-26T19:35:03.770Z"
   },
   {
    "duration": 493,
    "start_time": "2024-05-26T19:35:20.306Z"
   },
   {
    "duration": 395,
    "start_time": "2024-05-26T19:37:13.935Z"
   },
   {
    "duration": 394,
    "start_time": "2024-05-26T19:37:38.411Z"
   },
   {
    "duration": 7,
    "start_time": "2024-05-26T19:38:12.106Z"
   },
   {
    "duration": 925,
    "start_time": "2024-05-26T20:02:44.646Z"
   },
   {
    "duration": 1614,
    "start_time": "2024-05-26T20:06:03.757Z"
   },
   {
    "duration": 60,
    "start_time": "2024-05-26T20:09:45.996Z"
   },
   {
    "duration": 77,
    "start_time": "2024-05-26T20:11:25.237Z"
   },
   {
    "duration": 18,
    "start_time": "2024-05-26T20:17:14.356Z"
   },
   {
    "duration": 19,
    "start_time": "2024-05-26T20:18:22.853Z"
   },
   {
    "duration": 58,
    "start_time": "2024-05-26T20:19:30.652Z"
   },
   {
    "duration": 52,
    "start_time": "2024-05-26T20:19:43.919Z"
   },
   {
    "duration": 45,
    "start_time": "2024-05-26T20:22:55.504Z"
   },
   {
    "duration": 48,
    "start_time": "2024-05-26T20:23:09.974Z"
   },
   {
    "duration": 2502,
    "start_time": "2024-05-26T20:29:20.201Z"
   },
   {
    "duration": 3977,
    "start_time": "2024-05-26T20:29:30.875Z"
   },
   {
    "duration": 147,
    "start_time": "2024-05-26T20:29:34.854Z"
   },
   {
    "duration": 41,
    "start_time": "2024-05-26T20:29:35.003Z"
   },
   {
    "duration": 4218,
    "start_time": "2024-05-26T20:29:35.046Z"
   },
   {
    "duration": 8,
    "start_time": "2024-05-26T20:29:39.266Z"
   },
   {
    "duration": 633,
    "start_time": "2024-05-26T20:29:39.275Z"
   },
   {
    "duration": 785,
    "start_time": "2024-05-26T20:29:39.910Z"
   },
   {
    "duration": 10,
    "start_time": "2024-05-26T20:29:40.697Z"
   },
   {
    "duration": 37,
    "start_time": "2024-05-26T20:29:40.709Z"
   },
   {
    "duration": 4,
    "start_time": "2024-05-26T20:29:40.750Z"
   },
   {
    "duration": 27,
    "start_time": "2024-05-26T20:29:40.755Z"
   },
   {
    "duration": 2,
    "start_time": "2024-05-26T20:29:40.784Z"
   },
   {
    "duration": 29,
    "start_time": "2024-05-26T20:29:40.789Z"
   },
   {
    "duration": 15,
    "start_time": "2024-05-26T20:29:40.820Z"
   },
   {
    "duration": 12,
    "start_time": "2024-05-26T20:29:40.837Z"
   },
   {
    "duration": 29,
    "start_time": "2024-05-26T20:29:40.850Z"
   },
   {
    "duration": 24,
    "start_time": "2024-05-26T20:29:40.881Z"
   },
   {
    "duration": 457,
    "start_time": "2024-05-26T20:29:40.906Z"
   },
   {
    "duration": 443,
    "start_time": "2024-05-26T20:29:41.365Z"
   },
   {
    "duration": 2,
    "start_time": "2024-05-26T20:29:41.810Z"
   },
   {
    "duration": 19,
    "start_time": "2024-05-26T20:29:41.814Z"
   },
   {
    "duration": 17,
    "start_time": "2024-05-26T20:29:41.834Z"
   },
   {
    "duration": 1628,
    "start_time": "2024-05-26T20:29:41.853Z"
   },
   {
    "duration": 456,
    "start_time": "2024-05-26T20:29:43.483Z"
   },
   {
    "duration": 2330,
    "start_time": "2024-05-26T20:29:43.940Z"
   },
   {
    "duration": 901,
    "start_time": "2024-05-26T20:29:46.272Z"
   },
   {
    "duration": 63,
    "start_time": "2024-05-26T20:29:47.175Z"
   },
   {
    "duration": 599,
    "start_time": "2024-05-26T20:29:47.242Z"
   },
   {
    "duration": 1118,
    "start_time": "2024-05-26T20:29:47.843Z"
   },
   {
    "duration": 7,
    "start_time": "2024-05-26T20:29:48.963Z"
   },
   {
    "duration": 13,
    "start_time": "2024-05-26T20:29:48.971Z"
   },
   {
    "duration": 13,
    "start_time": "2024-05-26T20:29:48.986Z"
   },
   {
    "duration": 11,
    "start_time": "2024-05-26T20:29:49.001Z"
   },
   {
    "duration": 327,
    "start_time": "2024-05-26T20:29:49.013Z"
   },
   {
    "duration": 346,
    "start_time": "2024-05-26T20:29:49.342Z"
   },
   {
    "duration": 357,
    "start_time": "2024-05-26T20:29:49.690Z"
   },
   {
    "duration": 387,
    "start_time": "2024-05-26T20:29:50.049Z"
   },
   {
    "duration": 502,
    "start_time": "2024-05-26T20:29:50.437Z"
   },
   {
    "duration": 354,
    "start_time": "2024-05-26T20:29:50.941Z"
   },
   {
    "duration": 7,
    "start_time": "2024-05-26T20:29:51.296Z"
   },
   {
    "duration": 26,
    "start_time": "2024-05-26T20:29:51.304Z"
   },
   {
    "duration": 25,
    "start_time": "2024-05-26T20:29:51.332Z"
   },
   {
    "duration": 1403,
    "start_time": "2024-05-26T20:30:07.761Z"
   },
   {
    "duration": 1742,
    "start_time": "2024-05-26T20:30:30.573Z"
   },
   {
    "duration": 14,
    "start_time": "2024-05-26T20:35:25.881Z"
   },
   {
    "duration": 28,
    "start_time": "2024-05-26T20:35:46.109Z"
   },
   {
    "duration": 28,
    "start_time": "2024-05-26T20:35:53.012Z"
   },
   {
    "duration": 4091,
    "start_time": "2024-05-26T20:38:09.645Z"
   },
   {
    "duration": 109,
    "start_time": "2024-05-26T20:38:13.739Z"
   },
   {
    "duration": 52,
    "start_time": "2024-05-26T20:38:13.850Z"
   },
   {
    "duration": 4276,
    "start_time": "2024-05-26T20:38:13.904Z"
   },
   {
    "duration": 7,
    "start_time": "2024-05-26T20:38:18.182Z"
   },
   {
    "duration": 674,
    "start_time": "2024-05-26T20:38:18.190Z"
   },
   {
    "duration": 826,
    "start_time": "2024-05-26T20:38:18.866Z"
   },
   {
    "duration": 11,
    "start_time": "2024-05-26T20:38:19.693Z"
   },
   {
    "duration": 37,
    "start_time": "2024-05-26T20:38:19.706Z"
   },
   {
    "duration": 4,
    "start_time": "2024-05-26T20:38:19.745Z"
   },
   {
    "duration": 18,
    "start_time": "2024-05-26T20:38:19.750Z"
   },
   {
    "duration": 4,
    "start_time": "2024-05-26T20:38:19.769Z"
   },
   {
    "duration": 23,
    "start_time": "2024-05-26T20:38:19.774Z"
   },
   {
    "duration": 8,
    "start_time": "2024-05-26T20:38:19.798Z"
   },
   {
    "duration": 22,
    "start_time": "2024-05-26T20:38:19.808Z"
   },
   {
    "duration": 28,
    "start_time": "2024-05-26T20:38:19.832Z"
   },
   {
    "duration": 27,
    "start_time": "2024-05-26T20:38:19.861Z"
   },
   {
    "duration": 534,
    "start_time": "2024-05-26T20:38:19.890Z"
   },
   {
    "duration": 491,
    "start_time": "2024-05-26T20:38:20.429Z"
   },
   {
    "duration": 8,
    "start_time": "2024-05-26T20:38:20.922Z"
   },
   {
    "duration": 64,
    "start_time": "2024-05-26T20:38:20.931Z"
   },
   {
    "duration": 56,
    "start_time": "2024-05-26T20:38:20.997Z"
   },
   {
    "duration": 2469,
    "start_time": "2024-05-26T20:38:21.055Z"
   },
   {
    "duration": 411,
    "start_time": "2024-05-26T20:38:23.526Z"
   },
   {
    "duration": 11,
    "start_time": "2024-05-26T20:38:23.939Z"
   },
   {
    "duration": 1751,
    "start_time": "2024-05-26T20:38:23.952Z"
   },
   {
    "duration": 862,
    "start_time": "2024-05-26T20:38:25.705Z"
   },
   {
    "duration": 48,
    "start_time": "2024-05-26T20:38:26.570Z"
   },
   {
    "duration": 579,
    "start_time": "2024-05-26T20:38:26.629Z"
   },
   {
    "duration": 1148,
    "start_time": "2024-05-26T20:38:27.210Z"
   },
   {
    "duration": 9,
    "start_time": "2024-05-26T20:38:28.360Z"
   },
   {
    "duration": 21,
    "start_time": "2024-05-26T20:38:28.370Z"
   },
   {
    "duration": 26,
    "start_time": "2024-05-26T20:38:28.393Z"
   },
   {
    "duration": 30,
    "start_time": "2024-05-26T20:38:28.421Z"
   },
   {
    "duration": 369,
    "start_time": "2024-05-26T20:38:28.453Z"
   },
   {
    "duration": 321,
    "start_time": "2024-05-26T20:38:28.829Z"
   },
   {
    "duration": 383,
    "start_time": "2024-05-26T20:38:29.152Z"
   },
   {
    "duration": 547,
    "start_time": "2024-05-26T20:38:29.537Z"
   },
   {
    "duration": 448,
    "start_time": "2024-05-26T20:38:30.086Z"
   },
   {
    "duration": 401,
    "start_time": "2024-05-26T20:38:30.536Z"
   },
   {
    "duration": 7,
    "start_time": "2024-05-26T20:38:30.938Z"
   },
   {
    "duration": 214,
    "start_time": "2024-05-26T20:38:30.947Z"
   },
   {
    "duration": 65,
    "start_time": "2024-05-26T20:38:31.162Z"
   },
   {
    "duration": 229,
    "start_time": "2024-05-26T20:43:14.523Z"
   },
   {
    "duration": 11950,
    "start_time": "2024-05-26T20:44:00.479Z"
   },
   {
    "duration": 1199,
    "start_time": "2024-05-26T20:44:14.596Z"
   },
   {
    "duration": 1416,
    "start_time": "2024-05-26T20:53:10.474Z"
   },
   {
    "duration": 2357,
    "start_time": "2024-05-26T20:53:22.768Z"
   },
   {
    "duration": 1824,
    "start_time": "2024-05-26T20:53:29.781Z"
   },
   {
    "duration": 10,
    "start_time": "2024-05-26T21:10:58.965Z"
   },
   {
    "duration": 11,
    "start_time": "2024-05-26T21:14:21.050Z"
   },
   {
    "duration": 8,
    "start_time": "2024-05-26T21:15:25.250Z"
   },
   {
    "duration": 18,
    "start_time": "2024-05-26T21:20:05.758Z"
   },
   {
    "duration": 8,
    "start_time": "2024-05-26T21:20:20.503Z"
   },
   {
    "duration": 9,
    "start_time": "2024-05-26T21:21:53.049Z"
   },
   {
    "duration": 10,
    "start_time": "2024-05-26T21:21:56.901Z"
   },
   {
    "duration": 4025,
    "start_time": "2024-05-26T21:22:19.514Z"
   },
   {
    "duration": 116,
    "start_time": "2024-05-26T21:22:23.541Z"
   },
   {
    "duration": 42,
    "start_time": "2024-05-26T21:22:23.659Z"
   },
   {
    "duration": 4296,
    "start_time": "2024-05-26T21:22:23.728Z"
   },
   {
    "duration": 7,
    "start_time": "2024-05-26T21:22:28.026Z"
   },
   {
    "duration": 660,
    "start_time": "2024-05-26T21:22:28.035Z"
   },
   {
    "duration": 773,
    "start_time": "2024-05-26T21:22:28.696Z"
   },
   {
    "duration": 11,
    "start_time": "2024-05-26T21:22:29.471Z"
   },
   {
    "duration": 24,
    "start_time": "2024-05-26T21:22:29.483Z"
   },
   {
    "duration": 4,
    "start_time": "2024-05-26T21:22:29.531Z"
   },
   {
    "duration": 20,
    "start_time": "2024-05-26T21:22:29.536Z"
   },
   {
    "duration": 2,
    "start_time": "2024-05-26T21:22:29.558Z"
   },
   {
    "duration": 27,
    "start_time": "2024-05-26T21:22:29.561Z"
   },
   {
    "duration": 8,
    "start_time": "2024-05-26T21:22:29.590Z"
   },
   {
    "duration": 3,
    "start_time": "2024-05-26T21:22:29.600Z"
   },
   {
    "duration": 100,
    "start_time": "2024-05-26T21:22:29.604Z"
   },
   {
    "duration": 25,
    "start_time": "2024-05-26T21:22:29.706Z"
   },
   {
    "duration": 524,
    "start_time": "2024-05-26T21:22:29.733Z"
   },
   {
    "duration": 562,
    "start_time": "2024-05-26T21:22:30.259Z"
   },
   {
    "duration": 2,
    "start_time": "2024-05-26T21:22:30.823Z"
   },
   {
    "duration": 53,
    "start_time": "2024-05-26T21:22:30.826Z"
   },
   {
    "duration": 59,
    "start_time": "2024-05-26T21:22:30.881Z"
   },
   {
    "duration": 1557,
    "start_time": "2024-05-26T21:22:30.942Z"
   },
   {
    "duration": 447,
    "start_time": "2024-05-26T21:22:32.500Z"
   },
   {
    "duration": 12,
    "start_time": "2024-05-26T21:22:32.949Z"
   },
   {
    "duration": 2581,
    "start_time": "2024-05-26T21:22:32.962Z"
   },
   {
    "duration": 840,
    "start_time": "2024-05-26T21:22:35.545Z"
   },
   {
    "duration": 53,
    "start_time": "2024-05-26T21:22:36.428Z"
   },
   {
    "duration": 10,
    "start_time": "2024-05-26T21:22:36.483Z"
   },
   {
    "duration": 12,
    "start_time": "2024-05-26T21:22:36.495Z"
   },
   {
    "duration": 10,
    "start_time": "2024-05-26T21:22:36.529Z"
   },
   {
    "duration": 12,
    "start_time": "2024-05-26T21:22:36.540Z"
   },
   {
    "duration": 5,
    "start_time": "2024-05-26T21:22:36.553Z"
   },
   {
    "duration": 375,
    "start_time": "2024-05-26T21:22:36.560Z"
   },
   {
    "duration": 380,
    "start_time": "2024-05-26T21:22:36.937Z"
   },
   {
    "duration": 362,
    "start_time": "2024-05-26T21:22:37.318Z"
   },
   {
    "duration": 393,
    "start_time": "2024-05-26T21:22:37.682Z"
   },
   {
    "duration": 501,
    "start_time": "2024-05-26T21:22:38.077Z"
   },
   {
    "duration": 369,
    "start_time": "2024-05-26T21:22:38.580Z"
   },
   {
    "duration": 6,
    "start_time": "2024-05-26T21:22:38.951Z"
   },
   {
    "duration": 16,
    "start_time": "2024-05-26T21:22:38.958Z"
   },
   {
    "duration": 27,
    "start_time": "2024-05-26T21:22:38.976Z"
   },
   {
    "duration": 4,
    "start_time": "2024-05-26T21:24:54.592Z"
   },
   {
    "duration": 4,
    "start_time": "2024-05-26T21:25:06.079Z"
   },
   {
    "duration": 5,
    "start_time": "2024-05-26T21:25:20.226Z"
   },
   {
    "duration": 4,
    "start_time": "2024-05-26T21:25:26.390Z"
   },
   {
    "duration": 4,
    "start_time": "2024-05-26T21:25:38.271Z"
   },
   {
    "duration": 8,
    "start_time": "2024-05-26T21:25:50.419Z"
   },
   {
    "duration": 8,
    "start_time": "2024-05-26T21:25:59.616Z"
   },
   {
    "duration": 984,
    "start_time": "2024-05-26T21:37:06.611Z"
   },
   {
    "duration": 743,
    "start_time": "2024-05-26T21:39:46.933Z"
   },
   {
    "duration": 1011,
    "start_time": "2024-05-26T21:40:44.196Z"
   },
   {
    "duration": 534,
    "start_time": "2024-05-26T21:41:33.646Z"
   },
   {
    "duration": 5105,
    "start_time": "2024-05-27T08:16:26.347Z"
   },
   {
    "duration": 96,
    "start_time": "2024-05-27T08:16:31.454Z"
   },
   {
    "duration": 42,
    "start_time": "2024-05-27T08:16:31.552Z"
   },
   {
    "duration": 4293,
    "start_time": "2024-05-27T08:16:31.596Z"
   },
   {
    "duration": 8,
    "start_time": "2024-05-27T08:16:35.890Z"
   },
   {
    "duration": 723,
    "start_time": "2024-05-27T08:16:35.900Z"
   },
   {
    "duration": 795,
    "start_time": "2024-05-27T08:16:36.624Z"
   },
   {
    "duration": 9,
    "start_time": "2024-05-27T08:16:37.421Z"
   },
   {
    "duration": 98,
    "start_time": "2024-05-27T08:16:37.432Z"
   },
   {
    "duration": 4,
    "start_time": "2024-05-27T08:16:37.533Z"
   },
   {
    "duration": 13,
    "start_time": "2024-05-27T08:16:37.538Z"
   },
   {
    "duration": 3,
    "start_time": "2024-05-27T08:16:37.552Z"
   },
   {
    "duration": 31,
    "start_time": "2024-05-27T08:16:37.556Z"
   },
   {
    "duration": 8,
    "start_time": "2024-05-27T08:16:37.589Z"
   },
   {
    "duration": 2,
    "start_time": "2024-05-27T08:16:37.599Z"
   },
   {
    "duration": 41,
    "start_time": "2024-05-27T08:16:37.603Z"
   },
   {
    "duration": 36,
    "start_time": "2024-05-27T08:16:37.645Z"
   },
   {
    "duration": 482,
    "start_time": "2024-05-27T08:16:37.682Z"
   },
   {
    "duration": 454,
    "start_time": "2024-05-27T08:16:38.166Z"
   },
   {
    "duration": 2,
    "start_time": "2024-05-27T08:16:38.622Z"
   },
   {
    "duration": 9,
    "start_time": "2024-05-27T08:16:38.626Z"
   },
   {
    "duration": 36,
    "start_time": "2024-05-27T08:16:38.637Z"
   },
   {
    "duration": 1581,
    "start_time": "2024-05-27T08:16:38.675Z"
   },
   {
    "duration": 419,
    "start_time": "2024-05-27T08:16:40.258Z"
   },
   {
    "duration": 12,
    "start_time": "2024-05-27T08:16:40.679Z"
   },
   {
    "duration": 1996,
    "start_time": "2024-05-27T08:16:40.692Z"
   },
   {
    "duration": 819,
    "start_time": "2024-05-27T08:16:42.690Z"
   },
   {
    "duration": 67,
    "start_time": "2024-05-27T08:16:43.513Z"
   },
   {
    "duration": 907,
    "start_time": "2024-05-27T08:16:43.582Z"
   },
   {
    "duration": 9,
    "start_time": "2024-05-27T08:16:44.491Z"
   },
   {
    "duration": 9,
    "start_time": "2024-05-27T08:16:44.501Z"
   },
   {
    "duration": 675,
    "start_time": "2024-05-27T08:16:44.512Z"
   },
   {
    "duration": 8,
    "start_time": "2024-05-27T08:16:45.189Z"
   },
   {
    "duration": 39,
    "start_time": "2024-05-27T08:16:45.199Z"
   },
   {
    "duration": 47,
    "start_time": "2024-05-27T08:16:45.239Z"
   },
   {
    "duration": 385,
    "start_time": "2024-05-27T08:16:45.287Z"
   },
   {
    "duration": 6,
    "start_time": "2024-05-27T08:16:45.674Z"
   },
   {
    "duration": 14,
    "start_time": "2024-05-27T08:16:45.681Z"
   },
   {
    "duration": 14,
    "start_time": "2024-05-27T08:16:45.696Z"
   },
   {
    "duration": 50,
    "start_time": "2024-05-27T08:25:16.454Z"
   },
   {
    "duration": 11,
    "start_time": "2024-05-27T09:30:31.488Z"
   },
   {
    "duration": 53,
    "start_time": "2024-05-27T09:33:11.659Z"
   },
   {
    "duration": 383,
    "start_time": "2024-05-27T09:45:07.099Z"
   },
   {
    "duration": 373,
    "start_time": "2024-05-27T09:45:38.123Z"
   },
   {
    "duration": 368,
    "start_time": "2024-05-27T09:47:04.567Z"
   },
   {
    "duration": 407,
    "start_time": "2024-05-27T09:47:53.294Z"
   },
   {
    "duration": 415,
    "start_time": "2024-05-27T09:50:24.796Z"
   },
   {
    "duration": 72,
    "start_time": "2024-05-27T10:00:18.445Z"
   },
   {
    "duration": 143,
    "start_time": "2024-05-27T10:12:00.405Z"
   },
   {
    "duration": 19,
    "start_time": "2024-05-27T10:15:01.129Z"
   },
   {
    "duration": 23,
    "start_time": "2024-05-27T10:30:37.772Z"
   },
   {
    "duration": 64,
    "start_time": "2024-05-27T10:33:54.148Z"
   },
   {
    "duration": 77,
    "start_time": "2024-05-27T10:35:28.445Z"
   },
   {
    "duration": 78,
    "start_time": "2024-05-27T10:37:02.421Z"
   },
   {
    "duration": 8,
    "start_time": "2024-05-27T10:40:57.556Z"
   },
   {
    "duration": 8,
    "start_time": "2024-05-27T10:41:04.952Z"
   },
   {
    "duration": 10,
    "start_time": "2024-05-27T10:42:22.392Z"
   },
   {
    "duration": 12,
    "start_time": "2024-05-27T10:42:50.103Z"
   },
   {
    "duration": 16,
    "start_time": "2024-05-27T10:43:15.203Z"
   },
   {
    "duration": 22,
    "start_time": "2024-05-27T10:45:36.679Z"
   },
   {
    "duration": 21,
    "start_time": "2024-05-27T10:55:38.297Z"
   },
   {
    "duration": 19,
    "start_time": "2024-05-27T10:57:22.452Z"
   },
   {
    "duration": 19,
    "start_time": "2024-05-27T10:58:04.427Z"
   },
   {
    "duration": 19,
    "start_time": "2024-05-27T11:02:25.750Z"
   },
   {
    "duration": 20,
    "start_time": "2024-05-27T11:02:57.097Z"
   },
   {
    "duration": 20,
    "start_time": "2024-05-27T11:03:39.104Z"
   },
   {
    "duration": 28,
    "start_time": "2024-05-27T11:04:49.129Z"
   },
   {
    "duration": 19,
    "start_time": "2024-05-27T11:07:52.020Z"
   },
   {
    "duration": 8,
    "start_time": "2024-05-27T11:14:03.178Z"
   },
   {
    "duration": 29,
    "start_time": "2024-05-27T11:15:26.165Z"
   },
   {
    "duration": 14,
    "start_time": "2024-05-27T11:15:39.950Z"
   },
   {
    "duration": 75,
    "start_time": "2024-05-27T11:16:01.421Z"
   },
   {
    "duration": 7,
    "start_time": "2024-05-27T11:23:32.757Z"
   },
   {
    "duration": 392,
    "start_time": "2024-05-27T11:26:05.186Z"
   },
   {
    "duration": 481,
    "start_time": "2024-05-27T11:26:29.405Z"
   },
   {
    "duration": 429,
    "start_time": "2024-05-27T11:26:37.773Z"
   },
   {
    "duration": 22,
    "start_time": "2024-05-27T11:28:41.009Z"
   },
   {
    "duration": 20,
    "start_time": "2024-05-27T11:29:04.589Z"
   },
   {
    "duration": 20,
    "start_time": "2024-05-27T11:29:49.480Z"
   },
   {
    "duration": 7,
    "start_time": "2024-05-27T11:29:59.893Z"
   },
   {
    "duration": 66,
    "start_time": "2024-05-27T11:32:14.764Z"
   },
   {
    "duration": 6,
    "start_time": "2024-05-27T12:07:12.618Z"
   },
   {
    "duration": 4,
    "start_time": "2024-05-27T12:07:23.310Z"
   },
   {
    "duration": 5,
    "start_time": "2024-05-27T12:07:39.886Z"
   },
   {
    "duration": 4332,
    "start_time": "2024-05-27T13:56:49.945Z"
   },
   {
    "duration": 228,
    "start_time": "2024-05-27T13:56:54.279Z"
   },
   {
    "duration": 69,
    "start_time": "2024-05-27T13:56:54.509Z"
   },
   {
    "duration": 4589,
    "start_time": "2024-05-27T13:56:54.580Z"
   },
   {
    "duration": 9,
    "start_time": "2024-05-27T13:56:59.174Z"
   },
   {
    "duration": 665,
    "start_time": "2024-05-27T13:56:59.189Z"
   },
   {
    "duration": 923,
    "start_time": "2024-05-27T13:56:59.856Z"
   },
   {
    "duration": 15,
    "start_time": "2024-05-27T13:57:00.786Z"
   },
   {
    "duration": 96,
    "start_time": "2024-05-27T13:57:00.803Z"
   },
   {
    "duration": 35,
    "start_time": "2024-05-27T13:57:00.902Z"
   },
   {
    "duration": 91,
    "start_time": "2024-05-27T13:57:00.939Z"
   },
   {
    "duration": 45,
    "start_time": "2024-05-27T13:57:01.032Z"
   },
   {
    "duration": 63,
    "start_time": "2024-05-27T13:57:01.079Z"
   },
   {
    "duration": 38,
    "start_time": "2024-05-27T13:57:01.144Z"
   },
   {
    "duration": 51,
    "start_time": "2024-05-27T13:57:01.184Z"
   },
   {
    "duration": 74,
    "start_time": "2024-05-27T13:57:01.237Z"
   },
   {
    "duration": 92,
    "start_time": "2024-05-27T13:57:01.312Z"
   },
   {
    "duration": 528,
    "start_time": "2024-05-27T13:57:01.405Z"
   },
   {
    "duration": 561,
    "start_time": "2024-05-27T13:57:01.935Z"
   },
   {
    "duration": 3,
    "start_time": "2024-05-27T13:57:02.498Z"
   },
   {
    "duration": 21,
    "start_time": "2024-05-27T13:57:02.503Z"
   },
   {
    "duration": 58,
    "start_time": "2024-05-27T13:57:02.526Z"
   },
   {
    "duration": 1750,
    "start_time": "2024-05-27T13:57:02.588Z"
   },
   {
    "duration": 449,
    "start_time": "2024-05-27T13:57:04.340Z"
   },
   {
    "duration": 14,
    "start_time": "2024-05-27T13:57:04.791Z"
   },
   {
    "duration": 2223,
    "start_time": "2024-05-27T13:57:04.807Z"
   },
   {
    "duration": 411,
    "start_time": "2024-05-27T13:57:07.032Z"
   },
   {
    "duration": 1069,
    "start_time": "2024-05-27T13:57:07.447Z"
   },
   {
    "duration": 73,
    "start_time": "2024-05-27T13:57:08.518Z"
   },
   {
    "duration": 1082,
    "start_time": "2024-05-27T13:57:08.592Z"
   },
   {
    "duration": 18,
    "start_time": "2024-05-27T13:57:09.679Z"
   },
   {
    "duration": 18,
    "start_time": "2024-05-27T13:57:09.699Z"
   },
   {
    "duration": 622,
    "start_time": "2024-05-27T13:57:09.719Z"
   },
   {
    "duration": 34,
    "start_time": "2024-05-27T13:57:10.343Z"
   },
   {
    "duration": 13,
    "start_time": "2024-05-27T13:57:10.385Z"
   },
   {
    "duration": 76,
    "start_time": "2024-05-27T13:57:10.401Z"
   },
   {
    "duration": 13,
    "start_time": "2024-05-27T13:57:10.484Z"
   },
   {
    "duration": 9,
    "start_time": "2024-05-27T13:57:10.499Z"
   },
   {
    "duration": 6417,
    "start_time": "2024-05-28T13:39:14.497Z"
   },
   {
    "duration": 139,
    "start_time": "2024-05-28T13:39:20.916Z"
   },
   {
    "duration": 64,
    "start_time": "2024-05-28T13:39:21.058Z"
   },
   {
    "duration": 4430,
    "start_time": "2024-05-28T13:39:21.124Z"
   },
   {
    "duration": 10,
    "start_time": "2024-05-28T13:39:25.556Z"
   },
   {
    "duration": 1104,
    "start_time": "2024-05-28T13:39:25.573Z"
   },
   {
    "duration": 1055,
    "start_time": "2024-05-28T13:39:26.679Z"
   },
   {
    "duration": 12,
    "start_time": "2024-05-28T13:39:27.736Z"
   },
   {
    "duration": 41,
    "start_time": "2024-05-28T13:39:27.750Z"
   },
   {
    "duration": 5,
    "start_time": "2024-05-28T13:39:27.793Z"
   },
   {
    "duration": 20,
    "start_time": "2024-05-28T13:39:27.800Z"
   },
   {
    "duration": 3,
    "start_time": "2024-05-28T13:39:27.822Z"
   },
   {
    "duration": 43,
    "start_time": "2024-05-28T13:39:27.827Z"
   },
   {
    "duration": 9,
    "start_time": "2024-05-28T13:39:27.872Z"
   },
   {
    "duration": 32,
    "start_time": "2024-05-28T13:39:27.883Z"
   },
   {
    "duration": 28,
    "start_time": "2024-05-28T13:39:27.917Z"
   },
   {
    "duration": 501,
    "start_time": "2024-05-28T13:39:27.947Z"
   },
   {
    "duration": 499,
    "start_time": "2024-05-28T13:39:28.450Z"
   },
   {
    "duration": 3,
    "start_time": "2024-05-28T13:39:28.951Z"
   },
   {
    "duration": 45,
    "start_time": "2024-05-28T13:39:28.955Z"
   },
   {
    "duration": 32,
    "start_time": "2024-05-28T13:39:29.003Z"
   },
   {
    "duration": 1024,
    "start_time": "2024-05-28T13:39:29.036Z"
   },
   {
    "duration": 415,
    "start_time": "2024-05-28T13:39:30.062Z"
   },
   {
    "duration": 13,
    "start_time": "2024-05-28T13:39:30.478Z"
   },
   {
    "duration": 1968,
    "start_time": "2024-05-28T13:39:30.493Z"
   },
   {
    "duration": 469,
    "start_time": "2024-05-28T13:39:32.463Z"
   },
   {
    "duration": 1063,
    "start_time": "2024-05-28T13:39:32.934Z"
   },
   {
    "duration": 72,
    "start_time": "2024-05-28T13:39:34.001Z"
   },
   {
    "duration": 1327,
    "start_time": "2024-05-28T13:39:34.075Z"
   },
   {
    "duration": 10,
    "start_time": "2024-05-28T13:39:35.404Z"
   },
   {
    "duration": 8,
    "start_time": "2024-05-28T13:39:35.416Z"
   },
   {
    "duration": 739,
    "start_time": "2024-05-28T13:39:35.426Z"
   },
   {
    "duration": 14,
    "start_time": "2024-05-28T13:39:36.166Z"
   },
   {
    "duration": 27,
    "start_time": "2024-05-28T13:39:36.181Z"
   },
   {
    "duration": 24,
    "start_time": "2024-05-28T13:39:36.210Z"
   },
   {
    "duration": 11,
    "start_time": "2024-05-28T13:39:36.236Z"
   },
   {
    "duration": 24,
    "start_time": "2024-05-28T13:39:36.249Z"
   },
   {
    "duration": 10,
    "start_time": "2024-05-28T13:40:27.030Z"
   },
   {
    "duration": 57,
    "start_time": "2024-05-28T13:41:48.286Z"
   },
   {
    "duration": 5365,
    "start_time": "2024-05-28T14:01:20.853Z"
   },
   {
    "duration": 111,
    "start_time": "2024-05-28T14:01:26.222Z"
   },
   {
    "duration": 46,
    "start_time": "2024-05-28T14:01:26.334Z"
   },
   {
    "duration": 4555,
    "start_time": "2024-05-28T14:01:26.382Z"
   },
   {
    "duration": 9,
    "start_time": "2024-05-28T14:01:30.939Z"
   },
   {
    "duration": 805,
    "start_time": "2024-05-28T14:01:30.949Z"
   },
   {
    "duration": 858,
    "start_time": "2024-05-28T14:01:31.756Z"
   },
   {
    "duration": 10,
    "start_time": "2024-05-28T14:01:32.615Z"
   },
   {
    "duration": 24,
    "start_time": "2024-05-28T14:01:32.627Z"
   },
   {
    "duration": 18,
    "start_time": "2024-05-28T14:01:32.653Z"
   },
   {
    "duration": 20,
    "start_time": "2024-05-28T14:01:32.672Z"
   },
   {
    "duration": 5,
    "start_time": "2024-05-28T14:01:32.693Z"
   },
   {
    "duration": 33,
    "start_time": "2024-05-28T14:01:32.700Z"
   },
   {
    "duration": 7,
    "start_time": "2024-05-28T14:01:32.735Z"
   },
   {
    "duration": 45,
    "start_time": "2024-05-28T14:01:32.744Z"
   },
   {
    "duration": 41,
    "start_time": "2024-05-28T14:01:32.790Z"
   },
   {
    "duration": 433,
    "start_time": "2024-05-28T14:01:32.832Z"
   },
   {
    "duration": 492,
    "start_time": "2024-05-28T14:01:33.267Z"
   },
   {
    "duration": 2,
    "start_time": "2024-05-28T14:01:33.761Z"
   },
   {
    "duration": 7,
    "start_time": "2024-05-28T14:01:33.769Z"
   },
   {
    "duration": 23,
    "start_time": "2024-05-28T14:01:33.778Z"
   },
   {
    "duration": 1627,
    "start_time": "2024-05-28T14:01:33.803Z"
   },
   {
    "duration": 414,
    "start_time": "2024-05-28T14:01:35.431Z"
   },
   {
    "duration": 12,
    "start_time": "2024-05-28T14:01:35.846Z"
   },
   {
    "duration": 1865,
    "start_time": "2024-05-28T14:01:35.869Z"
   },
   {
    "duration": 397,
    "start_time": "2024-05-28T14:01:37.736Z"
   },
   {
    "duration": 985,
    "start_time": "2024-05-28T14:01:38.135Z"
   },
   {
    "duration": 69,
    "start_time": "2024-05-28T14:01:39.123Z"
   },
   {
    "duration": 943,
    "start_time": "2024-05-28T14:01:39.194Z"
   },
   {
    "duration": 11,
    "start_time": "2024-05-28T14:01:40.138Z"
   },
   {
    "duration": 31,
    "start_time": "2024-05-28T14:01:40.151Z"
   },
   {
    "duration": 738,
    "start_time": "2024-05-28T14:01:40.184Z"
   },
   {
    "duration": 8,
    "start_time": "2024-05-28T14:01:40.924Z"
   },
   {
    "duration": 36,
    "start_time": "2024-05-28T14:01:40.934Z"
   },
   {
    "duration": 57,
    "start_time": "2024-05-28T14:01:40.972Z"
   },
   {
    "duration": 11,
    "start_time": "2024-05-28T14:01:41.031Z"
   },
   {
    "duration": 4,
    "start_time": "2024-05-28T14:01:41.044Z"
   },
   {
    "duration": 1814,
    "start_time": "2024-05-28T14:03:15.801Z"
   },
   {
    "duration": 1852,
    "start_time": "2024-05-28T14:07:54.755Z"
   },
   {
    "duration": 1834,
    "start_time": "2024-05-28T14:08:49.011Z"
   },
   {
    "duration": 1891,
    "start_time": "2024-05-28T14:10:11.539Z"
   },
   {
    "duration": 1875,
    "start_time": "2024-05-28T14:10:29.363Z"
   },
   {
    "duration": 1934,
    "start_time": "2024-05-28T14:11:06.035Z"
   },
   {
    "duration": 1673,
    "start_time": "2024-05-28T14:12:55.643Z"
   },
   {
    "duration": 1829,
    "start_time": "2024-05-28T14:13:09.419Z"
   },
   {
    "duration": 1936,
    "start_time": "2024-05-28T14:13:24.476Z"
   },
   {
    "duration": 1733,
    "start_time": "2024-05-28T14:15:22.793Z"
   },
   {
    "duration": 2010,
    "start_time": "2024-05-28T14:15:33.740Z"
   },
   {
    "duration": 1781,
    "start_time": "2024-05-28T14:15:50.539Z"
   },
   {
    "duration": 1878,
    "start_time": "2024-05-28T14:16:17.579Z"
   },
   {
    "duration": 1914,
    "start_time": "2024-05-28T14:16:48.660Z"
   },
   {
    "duration": 2340,
    "start_time": "2024-05-28T14:17:13.500Z"
   },
   {
    "duration": 2379,
    "start_time": "2024-05-28T14:17:30.997Z"
   },
   {
    "duration": 2546,
    "start_time": "2024-05-28T14:18:13.860Z"
   },
   {
    "duration": 3256,
    "start_time": "2024-05-28T14:18:39.076Z"
   },
   {
    "duration": 16967,
    "start_time": "2024-05-28T14:18:52.468Z"
   },
   {
    "duration": 4066,
    "start_time": "2024-05-28T14:20:14.392Z"
   },
   {
    "duration": 116,
    "start_time": "2024-05-28T14:20:18.461Z"
   },
   {
    "duration": 50,
    "start_time": "2024-05-28T14:20:18.579Z"
   },
   {
    "duration": 4510,
    "start_time": "2024-05-28T14:20:18.631Z"
   },
   {
    "duration": 8,
    "start_time": "2024-05-28T14:20:23.142Z"
   },
   {
    "duration": 678,
    "start_time": "2024-05-28T14:20:23.152Z"
   },
   {
    "duration": 898,
    "start_time": "2024-05-28T14:20:23.831Z"
   },
   {
    "duration": 11,
    "start_time": "2024-05-28T14:20:24.731Z"
   },
   {
    "duration": 39,
    "start_time": "2024-05-28T14:20:24.744Z"
   },
   {
    "duration": 4,
    "start_time": "2024-05-28T14:20:24.787Z"
   },
   {
    "duration": 13,
    "start_time": "2024-05-28T14:20:24.793Z"
   },
   {
    "duration": 3,
    "start_time": "2024-05-28T14:20:24.808Z"
   },
   {
    "duration": 20,
    "start_time": "2024-05-28T14:20:24.813Z"
   },
   {
    "duration": 42,
    "start_time": "2024-05-28T14:20:24.835Z"
   },
   {
    "duration": 28,
    "start_time": "2024-05-28T14:20:24.879Z"
   },
   {
    "duration": 28,
    "start_time": "2024-05-28T14:20:24.908Z"
   },
   {
    "duration": 576,
    "start_time": "2024-05-28T14:20:24.938Z"
   },
   {
    "duration": 626,
    "start_time": "2024-05-28T14:20:25.516Z"
   },
   {
    "duration": 2,
    "start_time": "2024-05-28T14:20:26.144Z"
   },
   {
    "duration": 13,
    "start_time": "2024-05-28T14:20:26.148Z"
   },
   {
    "duration": 25,
    "start_time": "2024-05-28T14:20:26.163Z"
   },
   {
    "duration": 1630,
    "start_time": "2024-05-28T14:20:26.189Z"
   },
   {
    "duration": 445,
    "start_time": "2024-05-28T14:20:27.821Z"
   },
   {
    "duration": 12,
    "start_time": "2024-05-28T14:20:28.270Z"
   },
   {
    "duration": 5603,
    "start_time": "2024-05-28T14:20:28.284Z"
   },
   {
    "duration": 440,
    "start_time": "2024-05-28T14:20:33.889Z"
   },
   {
    "duration": 965,
    "start_time": "2024-05-28T14:20:34.331Z"
   },
   {
    "duration": 370,
    "start_time": "2024-05-28T14:20:35.299Z"
   },
   {
    "duration": 931,
    "start_time": "2024-05-28T14:20:35.671Z"
   },
   {
    "duration": 8,
    "start_time": "2024-05-28T14:20:36.604Z"
   },
   {
    "duration": 10,
    "start_time": "2024-05-28T14:20:36.614Z"
   },
   {
    "duration": 571,
    "start_time": "2024-05-28T14:20:36.625Z"
   },
   {
    "duration": 9,
    "start_time": "2024-05-28T14:20:37.198Z"
   },
   {
    "duration": 13,
    "start_time": "2024-05-28T14:20:37.208Z"
   },
   {
    "duration": 18,
    "start_time": "2024-05-28T14:20:37.223Z"
   },
   {
    "duration": 27,
    "start_time": "2024-05-28T14:20:37.243Z"
   },
   {
    "duration": 25,
    "start_time": "2024-05-28T14:20:37.272Z"
   },
   {
    "duration": 5523,
    "start_time": "2024-05-28T14:20:52.042Z"
   },
   {
    "duration": 5557,
    "start_time": "2024-05-28T14:21:10.524Z"
   },
   {
    "duration": 5617,
    "start_time": "2024-05-28T14:21:58.348Z"
   },
   {
    "duration": 55,
    "start_time": "2024-05-29T14:19:16.569Z"
   },
   {
    "duration": 5290,
    "start_time": "2024-05-29T14:19:22.634Z"
   },
   {
    "duration": 113,
    "start_time": "2024-05-29T14:19:27.926Z"
   },
   {
    "duration": 45,
    "start_time": "2024-05-29T14:19:28.041Z"
   },
   {
    "duration": 4511,
    "start_time": "2024-05-29T14:19:28.088Z"
   },
   {
    "duration": 8,
    "start_time": "2024-05-29T14:19:32.601Z"
   },
   {
    "duration": 712,
    "start_time": "2024-05-29T14:19:32.610Z"
   },
   {
    "duration": 887,
    "start_time": "2024-05-29T14:19:33.324Z"
   },
   {
    "duration": 11,
    "start_time": "2024-05-29T14:19:34.212Z"
   },
   {
    "duration": 36,
    "start_time": "2024-05-29T14:19:34.224Z"
   },
   {
    "duration": 5,
    "start_time": "2024-05-29T14:19:34.262Z"
   },
   {
    "duration": 41,
    "start_time": "2024-05-29T14:19:34.268Z"
   },
   {
    "duration": 3,
    "start_time": "2024-05-29T14:19:34.311Z"
   },
   {
    "duration": 31,
    "start_time": "2024-05-29T14:19:34.316Z"
   },
   {
    "duration": 8,
    "start_time": "2024-05-29T14:19:34.349Z"
   },
   {
    "duration": 45,
    "start_time": "2024-05-29T14:19:34.359Z"
   },
   {
    "duration": 29,
    "start_time": "2024-05-29T14:19:34.406Z"
   },
   {
    "duration": 504,
    "start_time": "2024-05-29T14:19:34.437Z"
   },
   {
    "duration": 470,
    "start_time": "2024-05-29T14:19:34.943Z"
   },
   {
    "duration": 3,
    "start_time": "2024-05-29T14:19:35.415Z"
   },
   {
    "duration": 12,
    "start_time": "2024-05-29T14:19:35.419Z"
   },
   {
    "duration": 34,
    "start_time": "2024-05-29T14:19:35.432Z"
   },
   {
    "duration": 1639,
    "start_time": "2024-05-29T14:19:35.467Z"
   },
   {
    "duration": 439,
    "start_time": "2024-05-29T14:19:37.108Z"
   },
   {
    "duration": 23,
    "start_time": "2024-05-29T14:19:37.548Z"
   },
   {
    "duration": 5500,
    "start_time": "2024-05-29T14:19:37.573Z"
   },
   {
    "duration": 452,
    "start_time": "2024-05-29T14:19:43.075Z"
   },
   {
    "duration": 401,
    "start_time": "2024-05-29T14:19:43.528Z"
   },
   {
    "duration": 1174,
    "start_time": "2024-05-29T14:19:43.933Z"
   },
   {
    "duration": 68,
    "start_time": "2024-05-29T14:19:45.109Z"
   },
   {
    "duration": 938,
    "start_time": "2024-05-29T14:19:45.179Z"
   },
   {
    "duration": 9,
    "start_time": "2024-05-29T14:19:46.119Z"
   },
   {
    "duration": 8,
    "start_time": "2024-05-29T14:19:46.130Z"
   },
   {
    "duration": 568,
    "start_time": "2024-05-29T14:19:46.140Z"
   },
   {
    "duration": 10,
    "start_time": "2024-05-29T14:19:46.711Z"
   },
   {
    "duration": 18,
    "start_time": "2024-05-29T14:19:46.724Z"
   },
   {
    "duration": 35,
    "start_time": "2024-05-29T14:19:46.744Z"
   },
   {
    "duration": 7,
    "start_time": "2024-05-29T14:19:46.781Z"
   },
   {
    "duration": 26,
    "start_time": "2024-05-29T14:19:46.789Z"
   },
   {
    "duration": 3671,
    "start_time": "2024-05-29T14:30:00.394Z"
   },
   {
    "duration": 415,
    "start_time": "2024-05-29T14:30:23.540Z"
   },
   {
    "duration": 778,
    "start_time": "2024-05-29T14:36:18.137Z"
   },
   {
    "duration": 5336,
    "start_time": "2024-05-29T14:38:13.397Z"
   },
   {
    "duration": 574,
    "start_time": "2024-05-29T14:40:18.960Z"
   },
   {
    "duration": 526,
    "start_time": "2024-05-29T14:40:35.481Z"
   },
   {
    "duration": 538,
    "start_time": "2024-05-29T14:40:43.671Z"
   },
   {
    "duration": 1006,
    "start_time": "2024-05-29T14:42:02.824Z"
   },
   {
    "duration": 1489,
    "start_time": "2024-05-29T14:47:40.692Z"
   },
   {
    "duration": 4145,
    "start_time": "2024-05-29T14:50:32.599Z"
   },
   {
    "duration": 157,
    "start_time": "2024-05-29T14:50:36.746Z"
   },
   {
    "duration": 60,
    "start_time": "2024-05-29T14:50:36.905Z"
   },
   {
    "duration": 4404,
    "start_time": "2024-05-29T14:50:36.967Z"
   },
   {
    "duration": 8,
    "start_time": "2024-05-29T14:50:41.373Z"
   },
   {
    "duration": 680,
    "start_time": "2024-05-29T14:50:41.382Z"
   },
   {
    "duration": 854,
    "start_time": "2024-05-29T14:50:42.063Z"
   },
   {
    "duration": 10,
    "start_time": "2024-05-29T14:50:42.919Z"
   },
   {
    "duration": 37,
    "start_time": "2024-05-29T14:50:42.931Z"
   },
   {
    "duration": 5,
    "start_time": "2024-05-29T14:50:42.970Z"
   },
   {
    "duration": 19,
    "start_time": "2024-05-29T14:50:42.976Z"
   },
   {
    "duration": 2,
    "start_time": "2024-05-29T14:50:42.997Z"
   },
   {
    "duration": 33,
    "start_time": "2024-05-29T14:50:43.001Z"
   },
   {
    "duration": 9,
    "start_time": "2024-05-29T14:50:43.035Z"
   },
   {
    "duration": 28,
    "start_time": "2024-05-29T14:50:43.060Z"
   },
   {
    "duration": 47,
    "start_time": "2024-05-29T14:50:43.090Z"
   },
   {
    "duration": 479,
    "start_time": "2024-05-29T14:50:43.139Z"
   },
   {
    "duration": 479,
    "start_time": "2024-05-29T14:50:43.620Z"
   },
   {
    "duration": 2,
    "start_time": "2024-05-29T14:50:44.101Z"
   },
   {
    "duration": 9,
    "start_time": "2024-05-29T14:50:44.105Z"
   },
   {
    "duration": 18,
    "start_time": "2024-05-29T14:50:44.116Z"
   },
   {
    "duration": 1527,
    "start_time": "2024-05-29T14:50:44.136Z"
   },
   {
    "duration": 398,
    "start_time": "2024-05-29T14:50:45.665Z"
   },
   {
    "duration": 12,
    "start_time": "2024-05-29T14:50:46.064Z"
   },
   {
    "duration": 5186,
    "start_time": "2024-05-29T14:50:46.078Z"
   },
   {
    "duration": 477,
    "start_time": "2024-05-29T14:50:51.265Z"
   },
   {
    "duration": 418,
    "start_time": "2024-05-29T14:50:51.745Z"
   },
   {
    "duration": 832,
    "start_time": "2024-05-29T14:50:52.166Z"
   },
   {
    "duration": 366,
    "start_time": "2024-05-29T14:50:53.000Z"
   },
   {
    "duration": 915,
    "start_time": "2024-05-29T14:50:53.367Z"
   },
   {
    "duration": 9,
    "start_time": "2024-05-29T14:50:54.284Z"
   },
   {
    "duration": 8,
    "start_time": "2024-05-29T14:50:54.295Z"
   },
   {
    "duration": 641,
    "start_time": "2024-05-29T14:50:54.305Z"
   },
   {
    "duration": 14,
    "start_time": "2024-05-29T14:50:54.948Z"
   },
   {
    "duration": 19,
    "start_time": "2024-05-29T14:50:54.964Z"
   },
   {
    "duration": 20,
    "start_time": "2024-05-29T14:50:54.985Z"
   },
   {
    "duration": 8,
    "start_time": "2024-05-29T14:50:55.006Z"
   },
   {
    "duration": 18,
    "start_time": "2024-05-29T14:50:55.016Z"
   }
  ],
  "kernelspec": {
   "display_name": "Python 3 (ipykernel)",
   "language": "python",
   "name": "python3"
  },
  "language_info": {
   "codemirror_mode": {
    "name": "ipython",
    "version": 3
   },
   "file_extension": ".py",
   "mimetype": "text/x-python",
   "name": "python",
   "nbconvert_exporter": "python",
   "pygments_lexer": "ipython3",
   "version": "3.11.5"
  },
  "toc": {
   "base_numbering": 1,
   "nav_menu": {},
   "number_sections": true,
   "sideBar": true,
   "skip_h1_title": true,
   "title_cell": "Table of Contents",
   "title_sidebar": "Contents",
   "toc_cell": false,
   "toc_position": {
    "height": "calc(100% - 180px)",
    "left": "10px",
    "top": "150px",
    "width": "384px"
   },
   "toc_section_display": true,
   "toc_window_display": true
  }
 },
 "nbformat": 4,
 "nbformat_minor": 2
}
